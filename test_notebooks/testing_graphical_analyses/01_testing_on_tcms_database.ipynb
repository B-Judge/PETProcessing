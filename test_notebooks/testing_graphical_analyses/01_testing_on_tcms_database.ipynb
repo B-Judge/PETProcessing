{
 "cells": [
  {
   "cell_type": "markdown",
   "id": "45a95ee5",
   "metadata": {},
   "source": [
    "# Preamble"
   ]
  },
  {
   "cell_type": "code",
   "execution_count": 1,
   "id": "e1dc4db1",
   "metadata": {
    "ExecuteTime": {
     "end_time": "2024-04-23T19:55:57.557556Z",
     "start_time": "2024-04-23T19:55:56.621520Z"
    }
   },
   "source": [
    "import numpy as np\n",
    "import matplotlib.pyplot as plt\n",
    "import seaborn as sns\n",
    "import pet_cli.graphical_analysis as pet_gph\n",
    "import json\n",
    "import os\n",
    "sns.set()\n",
    "sns.set_style(\"ticks\")\n",
    "sns.set_context(\"paper\")\n",
    "plt.rcParams['font.family'] ='StixGeneral'\n",
    "plt.rcParams['mathtext.fontset'] = 'stix'"
   ],
   "outputs": []
  },
  {
   "cell_type": "markdown",
   "id": "04b80a2f",
   "metadata": {},
   "source": [
    "# Reading In Parameters"
   ]
  },
  {
   "cell_type": "code",
   "execution_count": 2,
   "id": "a98b86c8",
   "metadata": {
    "ExecuteTime": {
     "end_time": "2024-04-23T19:55:57.560638Z",
     "start_time": "2024-04-23T19:55:57.558735Z"
    }
   },
   "source": [
    "def count_parameter_sets(model_directories: dict) -> dict:\n",
    "    model_nums = {}\n",
    "    for model, directory in model_directories.items():\n",
    "        model_nums[model] = len([f for f in os.listdir(directory) if os.path.splitext(f)[1] == '.json'])\n",
    "    return model_nums"
   ],
   "outputs": []
  },
  {
   "cell_type": "code",
   "execution_count": 3,
   "id": "2f79d388",
   "metadata": {
    "ExecuteTime": {
     "end_time": "2024-04-23T19:55:57.564271Z",
     "start_time": "2024-04-23T19:55:57.562826Z"
    }
   },
   "source": [
    "DIR_PRE = \"../../\"\n",
    "model_dirs = {\"1tcm\":f\"{DIR_PRE}data/tcm_tacs/1tcm/\",\n",
    "              \"serial_2tcm_k4zero\":f\"{DIR_PRE}data/tcm_tacs/serial_2tcm_k4zero/\",\n",
    "              \"serial_2tcm\":f\"{DIR_PRE}data/tcm_tacs/serial_2tcm/\"}"
   ],
   "outputs": []
  },
  {
   "cell_type": "code",
   "execution_count": 4,
   "id": "0896b4fc",
   "metadata": {
    "ExecuteTime": {
     "end_time": "2024-04-23T19:55:57.567790Z",
     "start_time": "2024-04-23T19:55:57.564986Z"
    }
   },
   "source": [
    "MODELS_NUMS = count_parameter_sets(model_dirs)\n",
    "MODELS_NUMS"
   ],
   "outputs": []
  },
  {
   "cell_type": "code",
   "execution_count": 5,
   "id": "f580646e",
   "metadata": {
    "ExecuteTime": {
     "end_time": "2024-04-23T19:55:57.570138Z",
     "start_time": "2024-04-23T19:55:57.568451Z"
    }
   },
   "source": [
    "def safe_load_json(file_path):\n",
    "    try:\n",
    "        with open(file_path) as file:\n",
    "            return json.load(file)\n",
    "    except Exception as e:\n",
    "        print(f\"Couldn't read file {file_path}. Error: {e}\")\n",
    "        return None"
   ],
   "outputs": []
  },
  {
   "cell_type": "code",
   "execution_count": 6,
   "id": "86f96ca3",
   "metadata": {
    "ExecuteTime": {
     "end_time": "2024-04-23T19:55:57.573135Z",
     "start_time": "2024-04-23T19:55:57.570927Z"
    }
   },
   "source": [
    "model_params = {\n",
    "    model: {f'set-{i:02}': safe_load_json(f'{DIR_PRE}data/tcm_tacs/{model}/params_{model}_set-{i:02}.json') for i in\n",
    "            range(num)} for model, num in MODELS_NUMS.items()}"
   ],
   "outputs": []
  },
  {
   "cell_type": "code",
   "execution_count": 7,
   "id": "fa39237d",
   "metadata": {
    "ExecuteTime": {
     "end_time": "2024-04-23T19:55:57.575536Z",
     "start_time": "2024-04-23T19:55:57.573899Z"
    }
   },
   "source": [
    "for model_name, params in model_params.items():\n",
    "    print(params)\n",
    "    print()"
   ],
   "outputs": []
  },
  {
   "cell_type": "markdown",
   "id": "7ba8ec6c",
   "metadata": {},
   "source": [
    "## Generating Theoretical Values From Parameters"
   ]
  },
  {
   "cell_type": "markdown",
   "id": "25b8b29f",
   "metadata": {},
   "source": [
    "### Patlak Plots"
   ]
  },
  {
   "cell_type": "code",
   "execution_count": 8,
   "id": "1e1087ca",
   "metadata": {
    "ExecuteTime": {
     "end_time": "2024-04-23T19:55:57.579775Z",
     "start_time": "2024-04-23T19:55:57.576355Z"
    }
   },
   "source": [
    "def tcm_1tcm_patlak_slope_and_intercept(model_params: dict) -> dict:\n",
    "    k1, k2 = model_params['k1'], model_params['k2']\n",
    "    if k2 == 0.0:\n",
    "        slope = k1\n",
    "    else:\n",
    "        slope = 0.0\n",
    "    intercept = np.nan\n",
    "    patlak_slope_intercept = {'slope': slope, 'intercept': intercept}\n",
    "    return patlak_slope_intercept\n",
    "\n",
    "\n",
    "def tcm_serial_2tcm_k4zero_patlak_slope_and_intercept(model_params: dict) -> dict:\n",
    "    k1 = model_params['k1']\n",
    "    k2 = model_params['k2']\n",
    "    k3 = model_params['k3']\n",
    "    slope = (k1 * k3) / (k2 + k3)\n",
    "    intercept = np.nan\n",
    "    patlak_slope_intercept = {'slope': slope, 'intercept': intercept}\n",
    "    return patlak_slope_intercept\n",
    "\n",
    "\n",
    "def tcm_serial_2tcm_patlak_slope_and_intercept(model_params: dict) -> dict:\n",
    "    slope = 0.0\n",
    "    intercept = np.nan\n",
    "    patlak_slope_intercept = {'slope': slope, 'intercept': intercept}\n",
    "    return patlak_slope_intercept\n",
    "\n",
    "\n",
    "def tcm_calculate_patlak_from_model(model_desc: dict) -> dict:\n",
    "    model = model_desc['model']\n",
    "    params = model_desc['params']\n",
    "    if model == '1TCM':\n",
    "        return tcm_1tcm_patlak_slope_and_intercept(params)\n",
    "    elif model == 'Serial 2TCM (k4=0)':\n",
    "        return tcm_serial_2tcm_k4zero_patlak_slope_and_intercept(params)\n",
    "    elif model == 'Serial 2TCM':\n",
    "        return tcm_serial_2tcm_patlak_slope_and_intercept(params)\n",
    "    else:\n",
    "        return {'slope': np.nan, 'intercept': np.nan}\n"
   ],
   "outputs": []
  },
  {
   "cell_type": "markdown",
   "id": "38a7ecc9",
   "metadata": {},
   "source": [
    "### Logan Plots"
   ]
  },
  {
   "cell_type": "code",
   "execution_count": 22,
   "id": "1bf8a6f0",
   "metadata": {
    "ExecuteTime": {
     "end_time": "2024-04-23T19:57:37.996964Z",
     "start_time": "2024-04-23T19:57:37.982043Z"
    }
   },
   "source": [
    "def tcm_1tcm_logan_slope_and_intercept(model_params: dict) -> dict:\n",
    "    k1, k2 = model_params['k1'], model_params['k2']\n",
    "    if k2 != 0.0:\n",
    "        slope = k1 / k2\n",
    "        intercept = -1.0 / k2\n",
    "    else:\n",
    "        slope = np.nan\n",
    "        intercept = np.nan\n",
    "    patlak_slope_intercept = {'slope': slope, 'intercept': intercept, 'ratio': -slope / intercept}\n",
    "    return patlak_slope_intercept\n",
    "\n",
    "\n",
    "def tcm_serial_2tcm_logan_slope_and_intercept(model_params: dict) -> dict:\n",
    "    k1 = model_params['k1']\n",
    "    k2 = model_params['k2']\n",
    "    k3 = model_params['k3']\n",
    "    k4 = model_params['k4']\n",
    "    slope = (k1 / k2) / (1.0 + k3 / k4)\n",
    "    intercept = -((1.0 / k2) * (1.0 + k3 / k4) + 1.0 / (k4 + (1.0 + k4 / k3)))\n",
    "    patlak_slope_intercept = {'slope': slope, 'intercept': intercept, 'ratio': -slope / intercept}\n",
    "    return patlak_slope_intercept\n",
    "\n",
    "\n",
    "def tcm_calculate_logan_from_model(model_desc: dict) -> dict:\n",
    "    model = model_desc['model']\n",
    "    params = model_desc['params']\n",
    "    if model == '1TCM':\n",
    "        return tcm_1tcm_logan_slope_and_intercept(params)\n",
    "    elif model == 'Serial 2TCM (k4=0)':\n",
    "        return {'slope': np.nan, 'intercept': np.nan}\n",
    "    elif model == 'Serial 2TCM':\n",
    "        return tcm_serial_2tcm_logan_slope_and_intercept(params)\n",
    "    else:\n",
    "        return {'slope': np.nan, 'intercept': np.nan, 'ratio': np.nan}\n"
   ],
   "outputs": []
  },
  {
   "cell_type": "markdown",
   "id": "769a0554",
   "metadata": {},
   "source": [
    "# Comparing Calculated Values With Theoretical Values"
   ]
  },
  {
   "cell_type": "markdown",
   "id": "9c99b329",
   "metadata": {},
   "source": [
    "### Reading In The Plasma TAC"
   ]
  },
  {
   "cell_type": "code",
   "execution_count": 23,
   "id": "d865f8c2",
   "metadata": {
    "ExecuteTime": {
     "end_time": "2024-04-23T19:57:38.997755Z",
     "start_time": "2024-04-23T19:57:38.990290Z"
    }
   },
   "source": [
    "def safe_load_tac(filename):\n",
    "    try:\n",
    "        return np.array(np.loadtxt(filename).T, dtype=float, order='C')\n",
    "    except Exception as e:\n",
    "        print(f\"Couldn't read file {filename}. Error: {e}\")\n",
    "        return None"
   ],
   "outputs": []
  },
  {
   "cell_type": "code",
   "execution_count": 24,
   "id": "6c4fee89",
   "metadata": {
    "ExecuteTime": {
     "end_time": "2024-04-23T19:57:41.077904Z",
     "start_time": "2024-04-23T19:57:41.070946Z"
    }
   },
   "source": [
    "pTAC = safe_load_tac('../../data/tcm_tacs/fdg_plasma_clamp_evenly_resampled.txt')"
   ],
   "outputs": []
  },
  {
   "cell_type": "markdown",
   "id": "c17b1d25",
   "metadata": {},
   "source": [
    "## Noise Free"
   ]
  },
  {
   "cell_type": "markdown",
   "id": "315766f0",
   "metadata": {},
   "source": [
    "### Reading In TACs"
   ]
  },
  {
   "cell_type": "code",
   "execution_count": 25,
   "id": "b4821890",
   "metadata": {
    "ExecuteTime": {
     "end_time": "2024-04-23T19:57:42.309588Z",
     "start_time": "2024-04-23T19:57:42.293125Z"
    }
   },
   "source": [
    "all_tacs = {}\n",
    "all_tacs['noise-free'] = {a_model: {f'set-{i:02}': safe_load_tac(\n",
    "    f'{DIR_PRE}data/tcm_tacs/{a_model}/noise_free/tac_{(\"_\".join(a_model.split(\"_\")[1:]) if \"serial_2tcm\" in a_model else a_model)}_set-{i:02}.txt')\n",
    "    for i in range(num)} for a_model, num in MODELS_NUMS.items()}\n",
    "all_tacs['gaussian-noise'] = {a_model: {f'set-{i:02}': safe_load_tac(\n",
    "    f'{DIR_PRE}data/tcm_tacs/{a_model}/gaussian_noise/tac_{(\"_\".join(a_model.split(\"_\")[1:]) if \"serial_2tcm\" in a_model else a_model)}_set-{i:02}.txt')\n",
    "    for i in range(num)} for a_model, num in MODELS_NUMS.items()}"
   ],
   "outputs": []
  },
  {
   "cell_type": "markdown",
   "id": "071429c4",
   "metadata": {},
   "source": [
    "### Patlak Analysis"
   ]
  },
  {
   "cell_type": "markdown",
   "id": "408018bc",
   "metadata": {},
   "source": [
    "#### Code For Plots"
   ]
  },
  {
   "cell_type": "code",
   "execution_count": 26,
   "id": "be867f98",
   "metadata": {
    "ExecuteTime": {
     "end_time": "2024-04-23T19:57:42.883571Z",
     "start_time": "2024-04-23T19:57:42.878246Z"
    }
   },
   "source": [
    "def gen_patlak_plot(pTAC, tTAC):\n",
    "    x = pet_gph.cumulative_trapezoidal_integral(xdata=pTAC[0], ydata=pTAC[1]) / pTAC[1]\n",
    "    y = tTAC[1]/pTAC[1]\n",
    "    return np.array([x, y])\n",
    "    "
   ],
   "outputs": []
  },
  {
   "cell_type": "code",
   "execution_count": 27,
   "id": "406fb9fa",
   "metadata": {
    "ExecuteTime": {
     "end_time": "2024-04-23T19:57:43.200287Z",
     "start_time": "2024-04-23T19:57:43.195462Z"
    }
   },
   "source": [
    "patlak_xLab = r\"$\\frac{\\int_{0}^{t}C_\\mathrm{P}(s)\\mathrm{d}s}{C_\\mathrm{P}(t)}$\"\n",
    "patlak_yLab = r\"$\\frac{R(t)}{C_\\mathrm{P}(t)}$\""
   ],
   "outputs": []
  },
  {
   "cell_type": "code",
   "execution_count": 28,
   "id": "eac0e424",
   "metadata": {
    "ExecuteTime": {
     "end_time": "2024-04-23T19:57:43.348720Z",
     "start_time": "2024-04-23T19:57:43.338041Z"
    }
   },
   "source": [
    "def params_dict_to_label(params):\n",
    "    tmp = []\n",
    "    for p, val in params.items():\n",
    "        tmp.append(f\"$k_{{{p[1:]}}}={float(val):<.2f}$\")\n",
    "    return \"; \".join(tmp)\n",
    "params_dict_to_label(model_params['1tcm']['set-00']['params'])"
   ],
   "outputs": []
  },
  {
   "cell_type": "markdown",
   "id": "0e766114",
   "metadata": {},
   "source": [
    "#### Plotting"
   ]
  },
  {
   "cell_type": "code",
   "execution_count": 29,
   "id": "086c7b9b",
   "metadata": {
    "ExecuteTime": {
     "end_time": "2024-04-23T19:57:44.743236Z",
     "start_time": "2024-04-23T19:57:43.632184Z"
    }
   },
   "source": [
    "for a_model, num in MODELS_NUMS.items():\n",
    "    myFig, myAx = plt.subplots(1, 2, constrained_layout=True, figsize=[8, 4], dpi=120, linewidth=3.0, edgecolor='k')\n",
    "    for i in range(num):\n",
    "        _params = model_params[a_model][f\"set-{i:02}\"]\n",
    "        _tTAC = all_tacs['noise-free'][a_model][f\"set-{i:02}\"]\n",
    "        patlak_vars = gen_patlak_plot(pTAC, _tTAC)\n",
    "        \n",
    "        myAx[0].plot(*patlak_vars, '.-', alpha=0.95, lw=2, label=params_dict_to_label(_params['params']), color=f\"C{i}\",\n",
    "                     ms=8, mec='k', mew=0.5)\n",
    "        myAx[1].plot(*patlak_vars, '.-', alpha=0.95, lw=2, color=f\"C{i}\", ms=8, mec='k', mew=0.5)\n",
    "    \n",
    "    myAx[0].set(title=f\"Linear Plot\")\n",
    "    myAx[1].set(title=f\"Log-Log Plot\", xscale='log', yscale='log')\n",
    "    myAx[0].set_xlabel(patlak_xLab, fontsize=20)\n",
    "    myAx[0].set_ylabel(patlak_yLab, fontsize=20)\n",
    "    myAx[1].set_xlabel(patlak_xLab, fontsize=20)\n",
    "    myAx[1].set_ylabel(patlak_yLab, fontsize=20)\n",
    "    myFig.suptitle(f\"{_params['model']} Patlak Plots\", fontweight='bold')\n",
    "    myFig.legend(bbox_to_anchor=(1.0, 0.6), loc='center left', title='Parameters')\n",
    "    plt.show()"
   ],
   "outputs": []
  },
  {
   "cell_type": "markdown",
   "id": "cd9a16eb",
   "metadata": {},
   "source": [
    "#### Comparing Values"
   ]
  },
  {
   "cell_type": "code",
   "execution_count": 30,
   "id": "899440c9",
   "metadata": {
    "ExecuteTime": {
     "end_time": "2024-04-23T19:57:45.075771Z",
     "start_time": "2024-04-23T19:57:45.064340Z"
    }
   },
   "source": [
    "for a_model, num in MODELS_NUMS.items():\n",
    "    print('-'*35)\n",
    "    print(f\"Model: {a_model}\")\n",
    "    print(f\"    {'K1 (true)':<10}, {'K1 (calc)':<10}, {'|diff.|':<10}\")\n",
    "    for i in range(num):\n",
    "        _params = model_params[a_model][f\"set-{i:02}\"]\n",
    "        _tTAC   = all_tacs['noise-free'][a_model][f\"set-{i:02}\"][1]\n",
    "        true_vals = tcm_calculate_patlak_from_model(_params)\n",
    "        calc_vals = pet_gph.patlak_analysis(input_tac_values=pTAC[1],\n",
    "                                           region_tac_values=_tTAC,\n",
    "                                           tac_times_in_minutes=pTAC[0],\n",
    "                                           t_thresh_in_minutes=30.0)\n",
    "        k1_true = true_vals['slope']\n",
    "        k1_calc = calc_vals[0]\n",
    "        diff    = np.abs(k1_true - k1_calc)\n",
    "        print(f\"    {k1_true:<10.5f}, {k1_calc:<10.5f}, {diff:<10.5f}\")\n",
    "    print('-'*35)"
   ],
   "outputs": []
  },
  {
   "cell_type": "markdown",
   "id": "cce9b2ea",
   "metadata": {},
   "source": [
    "### Logan Analysis"
   ]
  },
  {
   "cell_type": "markdown",
   "id": "a4624ab8",
   "metadata": {
    "ExecuteTime": {
     "end_time": "2024-02-21T16:34:20.969862Z",
     "start_time": "2024-02-21T16:34:20.966358Z"
    }
   },
   "source": [
    "#### Plotting Code"
   ]
  },
  {
   "cell_type": "code",
   "execution_count": 31,
   "id": "359f59b1",
   "metadata": {
    "ExecuteTime": {
     "end_time": "2024-04-23T19:57:49.267326Z",
     "start_time": "2024-04-23T19:57:49.257982Z"
    }
   },
   "source": [
    "def gen_logan_plot(pTAC, tTAC):\n",
    "    x = pet_gph.cumulative_trapezoidal_integral(xdata=pTAC[0], ydata=pTAC[1]) / tTAC[1]\n",
    "    y = pet_gph.cumulative_trapezoidal_integral(xdata=tTAC[0], ydata=tTAC[1]) / tTAC[1]\n",
    "    return np.array([x, y])\n",
    "\n",
    "def gen_alt_logan_plot(pTAC, tTAC):\n",
    "    x = pet_gph.cumulative_trapezoidal_integral(xdata=pTAC[0], ydata=pTAC[1]) / pTAC[1]\n",
    "    y = pet_gph.cumulative_trapezoidal_integral(xdata=tTAC[0], ydata=tTAC[1]) / pTAC[1]\n",
    "    return np.array([x, y])\n",
    "    "
   ],
   "outputs": []
  },
  {
   "cell_type": "code",
   "execution_count": 32,
   "id": "642c6f0d",
   "metadata": {
    "ExecuteTime": {
     "end_time": "2024-04-23T19:57:50.366118Z",
     "start_time": "2024-04-23T19:57:50.359836Z"
    }
   },
   "source": [
    "logan_xLab = r\"$\\frac{\\int_{0}^{t}C_\\mathrm{P}(s)\\mathrm{d}s}{R(t)}$\"\n",
    "logan_yLab = r\"$\\frac{\\int_{0}^{t}R(s)\\mathrm{d}s}{R(t)}$\""
   ],
   "outputs": []
  },
  {
   "cell_type": "markdown",
   "id": "a61181aa",
   "metadata": {},
   "source": [
    "#### Plotting"
   ]
  },
  {
   "cell_type": "code",
   "execution_count": 33,
   "id": "e70cb97e",
   "metadata": {
    "ExecuteTime": {
     "end_time": "2024-04-23T19:57:52.253797Z",
     "start_time": "2024-04-23T19:57:51.106407Z"
    }
   },
   "source": [
    "for a_model, num in MODELS_NUMS.items():\n",
    "    myFig, myAx = plt.subplots(1, 2, constrained_layout=True, figsize=[8, 4], dpi=120, linewidth=3.0, edgecolor='k')\n",
    "    for i in range(num):\n",
    "        _params = model_params[a_model][f\"set-{i:02}\"]\n",
    "        _tTAC = all_tacs['noise-free'][a_model][f\"set-{i:02}\"]\n",
    "        logan_vars = gen_logan_plot(pTAC, _tTAC)\n",
    "        \n",
    "        myAx[0].plot(*logan_vars, '.-', alpha=0.95, lw=2, \n",
    "                     label=params_dict_to_label(_params['params']), color=f\"C{i}\", ms=8, mec='k', mew=0.5)\n",
    "        myAx[1].plot(*logan_vars, '.-', alpha=0.95, lw=2, color=f\"C{i}\", ms=8, mec='k', mew=0.5)\n",
    "\n",
    "    myAx[0].set(title=f\"Linear\")\n",
    "    myAx[1].set(title=f\"Log-Log\", xscale='log', yscale='log')\n",
    "    myAx[0].set_xlabel(logan_xLab, fontsize=20)\n",
    "    myAx[0].set_ylabel(logan_yLab, fontsize=20)\n",
    "    myAx[1].set_xlabel(logan_xLab, fontsize=20)\n",
    "    myAx[1].set_ylabel(logan_yLab, fontsize=20)\n",
    "    myFig.suptitle(f\"{_params['model']}\")\n",
    "    myFig.legend(bbox_to_anchor=(1.0, 0.5), loc='center left', title='Parameters')\n",
    "    plt.show()"
   ],
   "outputs": []
  },
  {
   "cell_type": "markdown",
   "id": "74e29795",
   "metadata": {},
   "source": [
    "#### Comparing Values"
   ]
  },
  {
   "cell_type": "markdown",
   "id": "71918a98-3283-4b93-af74-bf9e74a02099",
   "metadata": {},
   "source": [
    "##### Slope"
   ]
  },
  {
   "cell_type": "code",
   "execution_count": 34,
   "id": "df334d0f-77d5-498e-be94-94a786e972f1",
   "metadata": {
    "ExecuteTime": {
     "end_time": "2024-04-23T19:57:53.308279Z",
     "start_time": "2024-04-23T19:57:53.296086Z"
    }
   },
   "source": [
    "for a_model, num in MODELS_NUMS.items():\n",
    "    # print('-'*35)\n",
    "    print(f\"Model: {a_model}\")\n",
    "    print(f\"    {'slope (true)':<15}, {'slope (calc)':<15}, {'|diff.|':<15}\")\n",
    "    for i in range(num):\n",
    "        _params = model_params[a_model][f\"set-{i:02}\"]\n",
    "        _tTAC   = all_tacs['noise-free'][a_model][f\"set-{i:02}\"][1]\n",
    "        true_vals = tcm_calculate_logan_from_model(_params)\n",
    "        calc_vals = pet_gph.logan_analysis(input_tac_values=pTAC[1],\n",
    "                                           region_tac_values=_tTAC,\n",
    "                                           tac_times_in_minutes=pTAC[0],\n",
    "                                           t_thresh_in_minutes=30.0)\n",
    "        k1_true = true_vals['slope']\n",
    "        k1_calc = calc_vals[0]\n",
    "        diff    = np.abs(k1_true - k1_calc)\n",
    "        print(f\"    {k1_true:<15.5f}, {k1_calc:<15.5f}, {diff:<15.5f}\")\n",
    "    # print('-'*35)\n",
    "    print()"
   ],
   "outputs": []
  },
  {
   "cell_type": "markdown",
   "id": "8a58838f-ec1f-4e59-a587-453587c98d9d",
   "metadata": {},
   "source": [
    "##### Intercept"
   ]
  },
  {
   "cell_type": "code",
   "execution_count": 35,
   "id": "799d0e4f-adbe-4d3d-8fe0-ee3da7ff60d0",
   "metadata": {
    "ExecuteTime": {
     "end_time": "2024-04-23T19:57:57.214099Z",
     "start_time": "2024-04-23T19:57:57.201376Z"
    }
   },
   "source": [
    "for a_model, num in MODELS_NUMS.items():\n",
    "    # print('-'*35)\n",
    "    print(f\"Model: {a_model}\")\n",
    "    print(f\"    {'int. (true)':<15}, {'int. (calc)':<15}, {'|diff.|':<15}\")\n",
    "    for i in range(num):\n",
    "        _params = model_params[a_model][f\"set-{i:02}\"]\n",
    "        _tTAC   = all_tacs['noise-free'][a_model][f\"set-{i:02}\"][1]\n",
    "        true_vals = tcm_calculate_logan_from_model(_params)\n",
    "        calc_vals = pet_gph.logan_analysis(input_tac_values=pTAC[1],\n",
    "                                           region_tac_values=_tTAC,\n",
    "                                           tac_times_in_minutes=pTAC[0],\n",
    "                                           t_thresh_in_minutes=30.0)\n",
    "        k1_true = true_vals['intercept']\n",
    "        k1_calc = calc_vals[1]\n",
    "        diff    = np.abs(k1_true - k1_calc)\n",
    "        print(f\"    {k1_true:<15.5f}, {k1_calc:<15.5f}, {diff:<15.5f}\")\n",
    "    # print('-'*35)\n",
    "    print()"
   ],
   "outputs": []
  },
  {
   "cell_type": "markdown",
   "id": "fe931d35",
   "metadata": {},
   "source": [
    "## With Gaussian Noise"
   ]
  },
  {
   "cell_type": "markdown",
   "id": "a5a74b7c",
   "metadata": {},
   "source": [
    "### Patlak Analysis"
   ]
  },
  {
   "cell_type": "markdown",
   "id": "45fa404f",
   "metadata": {},
   "source": [
    "#### Plots\n",
    "\n"
   ]
  },
  {
   "cell_type": "code",
   "execution_count": 36,
   "id": "9f5bd10e",
   "metadata": {
    "ExecuteTime": {
     "end_time": "2024-04-23T19:58:00.943571Z",
     "start_time": "2024-04-23T19:57:59.786687Z"
    }
   },
   "source": [
    "for a_model, num in MODELS_NUMS.items():\n",
    "    myFig, myAx = plt.subplots(1, 2, constrained_layout=True, figsize=[8, 4], dpi=120, linewidth=3.0, edgecolor='k')\n",
    "    for i in range(num):\n",
    "        _params = model_params[a_model][f\"set-{i:02}\"]\n",
    "        _tTAC = all_tacs['gaussian-noise'][a_model][f\"set-{i:02}\"]\n",
    "        patlak_vars = gen_patlak_plot(pTAC, _tTAC)\n",
    "        \n",
    "        myAx[0].plot(*patlak_vars, '.-', alpha=0.95, lw=2, label=params_dict_to_label(_params['params']), color=f\"C{i}\",\n",
    "                     ms=8, mec='k', mew=0.5)\n",
    "        myAx[1].plot(*patlak_vars, '.-', alpha=0.95, lw=2, color=f\"C{i}\", ms=8, mec='k', mew=0.5)\n",
    "\n",
    "    myAx[0].set(title=f\"Linear Plot\")\n",
    "    myAx[1].set(title=f\"Log-Log Plot\", xscale='log', yscale='log')\n",
    "    myAx[0].set_xlabel(patlak_xLab, fontsize=20)\n",
    "    myAx[0].set_ylabel(patlak_yLab, fontsize=20)\n",
    "    myAx[1].set_xlabel(patlak_xLab, fontsize=20)\n",
    "    myAx[1].set_ylabel(patlak_yLab, fontsize=20)\n",
    "    myFig.suptitle(f\"{_params['model']} Patlak Plots\", fontweight='bold')\n",
    "    myFig.legend(bbox_to_anchor=(1.0, 0.6), loc='center left', title='Parameters')\n",
    "    plt.show()"
   ],
   "outputs": []
  },
  {
   "cell_type": "markdown",
   "id": "8509fbca",
   "metadata": {},
   "source": [
    "#### Comparing Values"
   ]
  },
  {
   "cell_type": "code",
   "execution_count": 37,
   "id": "c2851f24",
   "metadata": {
    "ExecuteTime": {
     "end_time": "2024-04-23T19:58:07.295775Z",
     "start_time": "2024-04-23T19:58:07.284343Z"
    }
   },
   "source": [
    "for a_model, num in MODELS_NUMS.items():\n",
    "    print('-'*35)\n",
    "    print(f\"Model: {a_model}\")\n",
    "    print(f\"    {'K1 (true)':<10}, {'K1 (calc)':<10}, {'|diff.|':<10}\")\n",
    "    for i in range(num):\n",
    "        _params = model_params[a_model][f\"set-{i:02}\"]\n",
    "        _tTAC   = all_tacs['gaussian-noise'][a_model][f\"set-{i:02}\"][1]\n",
    "        true_vals = tcm_calculate_patlak_from_model(_params)\n",
    "        calc_vals = pet_gph.patlak_analysis(input_tac_values=pTAC[1],\n",
    "                                           region_tac_values=_tTAC,\n",
    "                                           tac_times_in_minutes=pTAC[0],\n",
    "                                           t_thresh_in_minutes=30.0)\n",
    "        k1_true = true_vals['slope']\n",
    "        k1_calc = calc_vals[0]\n",
    "        diff    = np.abs(k1_true - k1_calc)\n",
    "        print(f\"    {k1_true:<10.5f}, {k1_calc:<10.5f}, {diff:<10.5f}\")\n",
    "    print('-'*35)"
   ],
   "outputs": []
  },
  {
   "cell_type": "markdown",
   "id": "56cbc1cc",
   "metadata": {},
   "source": [
    "### Logan Analysis"
   ]
  },
  {
   "cell_type": "markdown",
   "id": "8fe77816",
   "metadata": {},
   "source": [
    "#### Plots"
   ]
  },
  {
   "cell_type": "code",
   "execution_count": 38,
   "id": "958498ea",
   "metadata": {
    "ExecuteTime": {
     "end_time": "2024-04-23T19:58:10.151866Z",
     "start_time": "2024-04-23T19:58:08.733503Z"
    }
   },
   "source": [
    "for a_model, num in MODELS_NUMS.items():\n",
    "    myFig, myAx = plt.subplots(1, 2, constrained_layout=True, figsize=[8, 4], dpi=120, linewidth=3.0, edgecolor='k')\n",
    "    for i in range(num):\n",
    "        _params = model_params[a_model][f\"set-{i:02}\"]\n",
    "        _tTAC = all_tacs['gaussian-noise'][a_model][f\"set-{i:02}\"]\n",
    "        logan_vars = gen_logan_plot(pTAC, _tTAC)\n",
    "        \n",
    "        myAx[0].plot(*logan_vars, '.-', alpha=0.95, lw=2, \n",
    "                     label=params_dict_to_label(_params['params']), color=f\"C{i}\", ms=8, mec='k', mew=0.5)\n",
    "        myAx[1].plot(*logan_vars, '.-', alpha=0.95, lw=2, color=f\"C{i}\", ms=8, mec='k', mew=0.5)\n",
    "\n",
    "    myAx[0].set(title=f\"Linear\")\n",
    "    myAx[1].set(title=f\"Log-Log\", xscale='log', yscale='log')\n",
    "    myAx[0].set_xlabel(logan_xLab, fontsize=20)\n",
    "    myAx[0].set_ylabel(logan_yLab, fontsize=20)\n",
    "    myAx[1].set_xlabel(logan_xLab, fontsize=20)\n",
    "    myAx[1].set_ylabel(logan_yLab, fontsize=20)\n",
    "    myFig.suptitle(f\"{_params['model']}\")\n",
    "    myFig.legend(bbox_to_anchor=(1.0, 0.5), loc='center left', title='Parameters')\n",
    "    plt.show()"
   ],
   "outputs": []
  },
  {
   "cell_type": "markdown",
   "id": "d6c77870",
   "metadata": {},
   "source": [
    "#### Comparing Values"
   ]
  },
  {
   "cell_type": "markdown",
   "id": "2e1a8174-ce64-43e0-9393-fef58bdfc831",
   "metadata": {},
   "source": [
    "###### Slope"
   ]
  },
  {
   "cell_type": "code",
   "execution_count": 39,
   "id": "9bfa3bd7",
   "metadata": {
    "ExecuteTime": {
     "end_time": "2024-04-23T19:58:11.446637Z",
     "start_time": "2024-04-23T19:58:11.434577Z"
    }
   },
   "source": [
    "for a_model, num in MODELS_NUMS.items():\n",
    "    # print('-'*35)\n",
    "    print(f\"Model: {a_model}\")\n",
    "    print(f\"    {'slope (true)':<15}, {'slope (calc)':<15}, {'|diff.|':<15}\")\n",
    "    for i in range(num):\n",
    "        _params = model_params[a_model][f\"set-{i:02}\"]\n",
    "        _tTAC   = all_tacs['gaussian-noise'][a_model][f\"set-{i:02}\"][1]\n",
    "        true_vals = tcm_calculate_logan_from_model(_params)\n",
    "        calc_vals = pet_gph.logan_analysis(input_tac_values=pTAC[1],\n",
    "                                           region_tac_values=_tTAC,\n",
    "                                           tac_times_in_minutes=pTAC[0],\n",
    "                                           t_thresh_in_minutes=30.0)\n",
    "        k1_true = true_vals['slope']\n",
    "        k1_calc = calc_vals[0]\n",
    "        diff    = np.abs(k1_true - k1_calc)\n",
    "        print(f\"    {k1_true:<15.5f}, {k1_calc:<15.5f}, {diff:<15.5f}\")\n",
    "    # print('-'*35)\n",
    "    print()"
   ],
   "outputs": []
  },
  {
   "cell_type": "markdown",
   "id": "ac5d37c0-09a0-49e5-a157-7b5f9ea8f41a",
   "metadata": {},
   "source": [
    "##### Intercept"
   ]
  },
  {
   "cell_type": "code",
   "execution_count": 40,
   "id": "49d99522",
   "metadata": {
    "ExecuteTime": {
     "end_time": "2024-04-23T19:58:12.716816Z",
     "start_time": "2024-04-23T19:58:12.705513Z"
    }
   },
   "source": [
    "for a_model, num in MODELS_NUMS.items():\n",
    "    # print('-'*35)\n",
    "    print(f\"Model: {a_model}\")\n",
    "    print(f\"    {'int. (true)':<15}, {'int. (calc)':<15}, {'|diff.|':<15}\")\n",
    "    for i in range(num):\n",
    "        _params = model_params[a_model][f\"set-{i:02}\"]\n",
    "        _tTAC   = all_tacs['noise-free'][a_model][f\"set-{i:02}\"][1]\n",
    "        true_vals = tcm_calculate_logan_from_model(_params)\n",
    "        calc_vals = pet_gph.logan_analysis(input_tac_values=pTAC[1],\n",
    "                                           region_tac_values=_tTAC,\n",
    "                                           tac_times_in_minutes=pTAC[0],\n",
    "                                           t_thresh_in_minutes=30.0)\n",
    "        k1_true = true_vals['intercept']\n",
    "        k1_calc = calc_vals[1]\n",
    "        diff    = np.abs(k1_true - k1_calc)\n",
    "        print(f\"    {k1_true:<15.5f}, {k1_calc:<15.5f}, {diff:<15.5f}\")\n",
    "    # print('-'*35)\n",
    "    print()"
   ],
   "outputs": []
  },
  {
   "cell_type": "code",
   "execution_count": null,
   "id": "28261515-cde7-45c9-92b6-2c152bf7d2e9",
   "metadata": {},
   "source": [],
   "outputs": []
  }
 ],
 "metadata": {
  "kernelspec": {
   "display_name": "Python 3 (ipykernel)",
   "language": "python",
   "name": "python3"
  },
  "language_info": {
   "codemirror_mode": {
    "name": "ipython",
    "version": 3
   },
   "file_extension": ".py",
   "mimetype": "text/x-python",
   "name": "python",
   "nbconvert_exporter": "python",
   "pygments_lexer": "ipython3",
   "version": "3.9.6"
  },
  "toc": {
   "base_numbering": 1,
   "nav_menu": {},
   "number_sections": true,
   "sideBar": true,
   "skip_h1_title": false,
   "title_cell": "Table of Contents",
   "title_sidebar": "Contents",
   "toc_cell": false,
   "toc_position": {
    "height": "calc(100% - 180px)",
    "left": "10px",
    "top": "150px",
    "width": "340px"
   },
   "toc_section_display": true,
   "toc_window_display": true
  }
 },
 "nbformat": 4,
 "nbformat_minor": 5
}
