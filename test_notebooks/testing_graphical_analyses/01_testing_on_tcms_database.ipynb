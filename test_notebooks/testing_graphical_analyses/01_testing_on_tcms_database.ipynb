{
 "cells": [
  {
   "cell_type": "markdown",
   "source": [
    "# Preamble"
   ],
   "metadata": {
    "collapsed": false
   },
   "id": "286e1605e87ee8a3"
  },
  {
   "cell_type": "code",
   "outputs": [],
   "source": [
    "import numpy as np\n",
    "import matplotlib.pyplot as plt\n",
    "import seaborn as sns\n",
    "import pet_cli.graphical_analysis as pet_gph\n",
    "import json\n",
    "sns.set()\n",
    "sns.set_style(\"ticks\")\n",
    "sns.set_context(\"talk\")\n",
    "plt.rcParams['font.family'] ='StixGeneral'\n",
    "plt.rcParams['mathtext.fontset'] = 'stix'"
   ],
   "metadata": {
    "collapsed": false,
    "ExecuteTime": {
     "end_time": "2024-02-20T23:33:18.754544200Z",
     "start_time": "2024-02-20T23:33:18.715547400Z"
    }
   },
   "id": "109afd55f73c30ed",
   "execution_count": 15
  },
  {
   "cell_type": "markdown",
   "source": [
    "# Reading In Parameters"
   ],
   "metadata": {
    "collapsed": false
   },
   "id": "412a59216fe68a98"
  },
  {
   "cell_type": "code",
   "outputs": [
    {
     "data": {
      "text/plain": "{'model': 'Serial 2TCM',\n 'params': {'k1': 0.5, 'k2': 0.85, 'k3': 0.25, 'k4': 0.15}}"
     },
     "execution_count": 7,
     "metadata": {},
     "output_type": "execute_result"
    }
   ],
   "source": [
    "import json\n",
    "with open('../../data/tcm_tacs/serial_2tcm/params_serial_2tcm_set-02.json') as file:\n",
    "    tmp_params = json.load(file)\n",
    "tmp_params"
   ],
   "metadata": {
    "collapsed": false,
    "ExecuteTime": {
     "end_time": "2024-02-20T22:59:17.759519700Z",
     "start_time": "2024-02-20T22:59:17.739524800Z"
    }
   },
   "id": "6372548baab7c9b",
   "execution_count": 7
  },
  {
   "cell_type": "code",
   "outputs": [],
   "source": [
    "MODELS_NUMS = {\n",
    "    '1tcm': 2, 'serial_2tcm': 3, 'serial_2tcm_k4zero': 2\n",
    "    }"
   ],
   "metadata": {
    "collapsed": false,
    "ExecuteTime": {
     "end_time": "2024-02-20T23:33:10.852074500Z",
     "start_time": "2024-02-20T23:33:10.833076700Z"
    }
   },
   "id": "79f8ae5d4245930a",
   "execution_count": 13
  },
  {
   "cell_type": "code",
   "outputs": [],
   "source": [
    "model_params = {}\n",
    "for a_model, num in MODELS_NUMS.items():\n",
    "    model_params[a_model] = {}\n",
    "    for i in range(num):\n",
    "        model_params[a_model][f'set-{i:02}'] = {}\n",
    "        with open(f'../../data/tcm_tacs/{a_model}/params_{a_model}_set-{i:02}.json') as file:\n",
    "            model_params[a_model][f'set-{i:02}'] = json.load(file)"
   ],
   "metadata": {
    "collapsed": false,
    "ExecuteTime": {
     "end_time": "2024-02-20T23:33:23.004302300Z",
     "start_time": "2024-02-20T23:33:22.984303800Z"
    }
   },
   "id": "d23a1bd57bcd5b7a",
   "execution_count": 16
  },
  {
   "cell_type": "code",
   "outputs": [
    {
     "data": {
      "text/plain": "{'1tcm': {'set-00': {'model': '1TCM', 'params': {'k1': 1.0, 'k2': 0.25}},\n  'set-01': {'model': '1TCM', 'params': {'k1': 0.25, 'k2': 1.0}}},\n 'serial_2tcm': {'set-00': {'model': 'Serial 2TCM',\n   'params': {'k1': 0.5, 'k2': 0.85, 'k3': 0.01, 'k4': 0.01}},\n  'set-01': {'model': 'Serial 2TCM',\n   'params': {'k1': 0.5, 'k2': 0.85, 'k3': 0.25, 'k4': 0.01}},\n  'set-02': {'model': 'Serial 2TCM',\n   'params': {'k1': 0.5, 'k2': 0.85, 'k3': 0.25, 'k4': 0.15}}},\n 'serial_2tcm_k4zero': {'set-00': {'model': 'Serial 2TCM (k4=0)',\n   'params': {'k1': 0.5, 'k2': 0.5, 'k3': 0.01}},\n  'set-01': {'model': 'Serial 2TCM (k4=0)',\n   'params': {'k1': 0.5, 'k2': 0.5, 'k3': 0.25}}}}"
     },
     "execution_count": 17,
     "metadata": {},
     "output_type": "execute_result"
    }
   ],
   "source": [
    "model_params"
   ],
   "metadata": {
    "collapsed": false,
    "ExecuteTime": {
     "end_time": "2024-02-20T23:33:24.589356300Z",
     "start_time": "2024-02-20T23:33:24.556360900Z"
    }
   },
   "id": "f78bb0fdfb69575",
   "execution_count": 17
  },
  {
   "cell_type": "code",
   "outputs": [],
   "source": [
    "def tcm_1tcm_patlak_slope_and_intercept(model_params: dict) -> dict:\n",
    "    if model_params['k2'] == 0.0:\n",
    "        slope = model_params['k1']\n",
    "    else:\n",
    "        slope=0.0\n",
    "        \n",
    "    intercept = None\n",
    "    patlak_slope_intercept = {'slope': slope, 'intercept': intercept}\n",
    "    return patlak_slope_intercept\n",
    "\n",
    "def tcm_serial_2tcm_k4zero_patlak_slope_and_intercept(model_params: dict) -> dict:\n",
    "    slope = model_params['k1']*model_params['k3']/(model_params['k2']+model_params['k3'])\n",
    "    intercept = None\n",
    "    patlak_slope_intercept = {'slope': slope, 'intercept': intercept}\n",
    "    return patlak_slope_intercept\n",
    "\n",
    "def tcm_serial_2tcm_patlak_slope_and_intercept(model_params: dict) -> dict:\n",
    "    slope = 0.0\n",
    "    intercept = None\n",
    "    patlak_slope_intercept = {'slope': slope, 'intercept': intercept}\n",
    "    return patlak_slope_intercept\n",
    "\n",
    "\n",
    "def tcm_1tcm_logan_slope_and_intercept(model_params: dict) -> dict:\n",
    "    slope = model_params['k1']/model_params['k2']\n",
    "    intercept = None\n",
    "    patlak_slope_intercept = {'slope': slope, 'intercept': intercept}\n",
    "    return patlak_slope_intercept\n",
    "\n",
    "def tcm_serial_2tcm_logan_slope_and_intercept(model_params: dict) -> dict:\n",
    "    slope = model_params['k1']/model_params['k2']/(1.0+model_params['k3']/model_params['k4'])\n",
    "    intercept = None\n",
    "    patlak_slope_intercept = {'slope': slope, 'intercept': intercept}\n",
    "    return patlak_slope_intercept\n",
    "\n",
    "\n",
    "def tcm_calculate_patlak_from_model(model_desc: dict) -> dict:\n",
    "    model = model_desc['model']\n",
    "    params= model_desc['params']\n",
    "    if model == '1TCM':\n",
    "        return tcm_1tcm_patlak_slope_and_intercept(params)\n",
    "    elif model == 'Serial 2TCM (k4=0)':\n",
    "        return tcm_serial_2tcm_k4zero_patlak_slope_and_intercept(params)\n",
    "    elif model == 'Serial 2TCM':\n",
    "        return tcm_serial_2tcm_patlak_slope_and_intercept(params)"
   ],
   "metadata": {
    "collapsed": false,
    "ExecuteTime": {
     "end_time": "2024-02-20T23:42:57.367728400Z",
     "start_time": "2024-02-20T23:42:57.344733900Z"
    }
   },
   "id": "edf4fb12f3de6652",
   "execution_count": 25
  },
  {
   "cell_type": "code",
   "outputs": [
    {
     "data": {
      "text/plain": "{'slope': 1.0, 'intercept': 0.25}"
     },
     "execution_count": 15,
     "metadata": {},
     "output_type": "execute_result"
    }
   ],
   "source": [
    "tcm_calculate_patlak_from_model(model_params['1tcm']['set-00'])"
   ],
   "metadata": {
    "collapsed": false,
    "ExecuteTime": {
     "end_time": "2024-02-20T23:05:24.193810200Z",
     "start_time": "2024-02-20T23:05:24.158813200Z"
    }
   },
   "id": "43b5963326d7c85c",
   "execution_count": 15
  },
  {
   "cell_type": "code",
   "outputs": [
    {
     "data": {
      "text/plain": "{'slope': 0.00980392156862745, 'intercept': None}"
     },
     "execution_count": 23,
     "metadata": {},
     "output_type": "execute_result"
    }
   ],
   "source": [
    "tcm_calculate_patlak_from_model(model_params['serial_2tcm_k4zero']['set-00'])"
   ],
   "metadata": {
    "collapsed": false,
    "ExecuteTime": {
     "end_time": "2024-02-20T23:38:49.622185600Z",
     "start_time": "2024-02-20T23:38:49.583192500Z"
    }
   },
   "id": "b9b37289ed2871ee",
   "execution_count": 23
  },
  {
   "cell_type": "markdown",
   "source": [
    "# Reading In TACs"
   ],
   "metadata": {
    "collapsed": false
   },
   "id": "3ed7047ad357604c"
  },
  {
   "cell_type": "code",
   "outputs": [],
   "source": [
    "pTAC = np.array(np.loadtxt('../../data/tcm_tacs/fdg_plasma_clamp_evenly_resampled.txt').T, order='C', dtype=float)"
   ],
   "metadata": {
    "collapsed": false,
    "ExecuteTime": {
     "end_time": "2024-02-20T23:29:19.643243500Z",
     "start_time": "2024-02-20T23:29:19.625246500Z"
    }
   },
   "id": "9ef00d8475f5713d",
   "execution_count": 2
  },
  {
   "cell_type": "code",
   "outputs": [],
   "source": [
    "tTAC = np.array(np.loadtxt('../../data/tcm_tacs/serial_2tcm_k4zero/noise_free/tac_2tcm_k4zero_set-00.txt').T, order='C', dtype=float)"
   ],
   "metadata": {
    "collapsed": false,
    "ExecuteTime": {
     "end_time": "2024-02-20T23:31:00.500431100Z",
     "start_time": "2024-02-20T23:31:00.469430900Z"
    }
   },
   "id": "2836e801a44b641e",
   "execution_count": 8
  },
  {
   "cell_type": "code",
   "outputs": [
    {
     "data": {
      "text/plain": "<Figure size 640x480 with 1 Axes>",
      "image/png": "[encoded data removed]"
     },
     "metadata": {},
     "output_type": "display_data"
    }
   ],
   "source": [
    "plt.plot(*tTAC)\n",
    "plt.show()\n"
   ],
   "metadata": {
    "collapsed": false,
    "ExecuteTime": {
     "end_time": "2024-02-20T23:31:01.564229500Z",
     "start_time": "2024-02-20T23:31:01.398235Z"
    }
   },
   "id": "f5c9006470076e5d",
   "execution_count": 9
  },
  {
   "cell_type": "code",
   "outputs": [
    {
     "name": "stdout",
     "output_type": "stream",
     "text": [
      "[0.00973322 1.07247571]\n",
      "{'slope': 0.00980392156862745, 'intercept': None}\n"
     ]
    }
   ],
   "source": [
    "print(pet_gph.patlak_analysis(input_tac_values=pTAC[1], region_tac_values=tTAC[1], tac_times_in_minutes=pTAC[0], t_thresh_in_minutes=30.0))\n",
    "print(tcm_calculate_patlak_from_model(model_params['serial_2tcm_k4zero']['set-00']))"
   ],
   "metadata": {
    "collapsed": false,
    "ExecuteTime": {
     "end_time": "2024-02-20T23:39:38.499934100Z",
     "start_time": "2024-02-20T23:39:38.476935800Z"
    }
   },
   "id": "edcf132bc0eec4b5",
   "execution_count": 24
  },
  {
   "cell_type": "markdown",
   "source": [
    "# Debugging Numba Typing Error"
   ],
   "metadata": {
    "collapsed": false
   },
   "id": "18bb20e0ebe00b54"
  },
  {
   "cell_type": "code",
   "outputs": [],
   "source": [
    "import numba"
   ],
   "metadata": {
    "collapsed": false,
    "ExecuteTime": {
     "end_time": "2024-02-20T23:25:48.297028600Z",
     "start_time": "2024-02-20T23:25:48.284028600Z"
    }
   },
   "id": "e97cd49656f33fd",
   "execution_count": 8
  },
  {
   "cell_type": "code",
   "outputs": [],
   "source": [
    "@numba.njit()\n",
    "def _line_fitting_make_rhs_matrix_from_xdata(xdata: np.ndarray) -> np.ndarray:\n",
    "    \"\"\"Generates the RHS matrix for linear least squares fitting\n",
    "\n",
    "    Args:\n",
    "        xdata (np.ndarray): array of independent variable values\n",
    "\n",
    "    Returns:\n",
    "        np.ndarray: 2D matrix where first column is `xdata` and the second column is 1s.\n",
    "        \n",
    "    \"\"\"\n",
    "    out_matrix = np.ones((len(xdata), 2), float)\n",
    "    out_matrix[:, 0] = xdata\n",
    "    return out_matrix\n",
    "\n",
    "# TODO: Check if documentation is good.\n",
    "@numba.njit()\n",
    "def fit_line_to_data_using_lls(xdata: np.ndarray, ydata: np.ndarray) -> np.ndarray:\n",
    "    \"\"\"Find the linear least squares solution given the x and y variables.\n",
    "    \n",
    "    Performs a linear least squares fit to the provided data. Explicitly calls numpy's ``linalg.lstsq`` method by\n",
    "    constructing the matrix equations. We assume that ``xdata`` and ``ydata`` have the same number of elements.\n",
    "    \n",
    "    Args:\n",
    "        xdata: Array of independent variable values\n",
    "        ydata: Array of dependent variable values\n",
    "\n",
    "    Returns:\n",
    "       Linear least squares solution. (m, b) values\n",
    "       \n",
    "    \"\"\"\n",
    "    make_2d_matrix = _line_fitting_make_rhs_matrix_from_xdata\n",
    "    matrix = make_2d_matrix(xdata)\n",
    "    fit_ans = np.linalg.lstsq(matrix, ydata)[0]\n",
    "    return fit_ans\n",
    "\n",
    "\n",
    "@numba.njit()\n",
    "def cumulative_trapezoidal_integral(xdata: np.ndarray, ydata: np.ndarray, initial: float = 0.0) -> np.ndarray:\n",
    "    \"\"\"Calculates the cumulative integral of `ydata` over `xdata` using the trapezoidal rule.\n",
    "    \n",
    "    This function is based `heavily` on the ``scipy.integrate.cumtrapz`` implementation.\n",
    "    `source <https://github.com/scipy/scipy/blob/v0.18.1/scipy/integrate/quadrature.py#L206>`_.\n",
    "    This implementation only works for 1D arrays and was implemented to work with ``numba``.\n",
    "    \n",
    "    Args:\n",
    "        xdata (np.ndarray): Array for the integration coordinate.\n",
    "        ydata (np.ndarray): Array for the values to integrate\n",
    "\n",
    "    Returns:\n",
    "        np.ndarray: Cumulative integral of ``ydata`` over ``xdata``\n",
    "    \"\"\"\n",
    "    dx = np.diff(xdata)\n",
    "    cum_int = np.zeros(len(xdata))\n",
    "    cum_int[0] = initial\n",
    "    cum_int[1:] = np.cumsum(dx * (ydata[1:] + ydata[:-1]) / 2.0)\n",
    "    \n",
    "    return cum_int\n",
    "\n",
    "# TODO: Add references for the TCMs and Patlak. Could maybe rely on Turku PET Center.\n",
    "# TODO: Handle cases when tac_vals = 0.0. Might be able to use t_thresh so that we are past the 0-values.\n",
    "@numba.njit()\n",
    "def calculate_patlak_x(tac_times: np.ndarray, tac_vals: np.ndarray) -> np.ndarray:\n",
    "    r\"\"\"Calculates the x-variable in Patlak analysis (:math:`\\frac{\\int_{0}^{T}f(t)\\mathrm{d}t}{f(T)}`).\n",
    "    \n",
    "    Patlak-Gjedde analysis is a linearization of the 2-TCM with irreversible uptake in the second compartment.\n",
    "    Therefore, we essentially have to fit a line to some data :math:`y = mx+b`. This function calculates the :math:`x`\n",
    "    variable for Patlak analysis where,\n",
    "    .. math::\n",
    "        x = \\frac{\\int_{0}_{T} C_\\mathrm{P}(t) \\mathrm{d}t}{C_\\mathrm{P}(t)},\n",
    "    \n",
    "    where further :math:`C_\\mathrm{P}` is usually the plasma TAC.\n",
    "    \n",
    "    Args:\n",
    "        tac_times (np.ndarray): Array containing the sampled times.\n",
    "        tac_vals (np.ndarray): Array for activity values at the sampled times.\n",
    "\n",
    "    Returns:\n",
    "        np.ndarray: Patlak x-variable. Cumulative integral of activity divided by activity.\n",
    "    \"\"\"\n",
    "    cumulative_integral = cumulative_trapezoidal_integral(xdata=tac_times, ydata=tac_vals, initial=0.0)\n",
    "    \n",
    "    return cumulative_integral / tac_vals\n",
    "\n",
    "\n",
    "@numba.njit()\n",
    "def get_index_from_threshold(times_in_minutes: np.ndarray, t_thresh_in_minutes: float) -> int:\n",
    "    \"\"\"Get the index after which all times are greater than the threshold.\n",
    "\n",
    "    Args:\n",
    "        times_in_minutes (np.ndarray): Array containing times in minutes.\n",
    "        t_thresh_in_minutes (float): Threshold time in minutes.\n",
    "\n",
    "    Returns:\n",
    "        int: Index for first time greater than or equal to the threshold time.\n",
    "        \n",
    "    Notes:\n",
    "        If the threshold value is larger than the array, we return -1.\n",
    "    \"\"\"\n",
    "    if t_thresh_in_minutes > np.max(times_in_minutes):\n",
    "        return -1\n",
    "    else:\n",
    "        return np.argwhere(times_in_minutes >= t_thresh_in_minutes)[0, 0]\n",
    "\n",
    "\n",
    "# TODO: Add more detailed documentation.\n",
    "@numba.njit()\n",
    "def patlak_analysis(input_tac_values: np.ndarray,\n",
    "                    region_tac_values: np.ndarray,\n",
    "                    tac_times_in_minutes: np.ndarray,\n",
    "                    t_thresh_in_minutes: float) -> np.ndarray:\n",
    "    \"\"\"Performs Patlak-Gjedde analysis given the input TAC, region TAC, times and threshold.\n",
    "    \n",
    "    Args:\n",
    "        input_tac_values (np.ndarray):\n",
    "        region_tac_values (np.ndarray):\n",
    "        tac_times_in_minutes (np.ndarray):\n",
    "        t_thresh_in_minutes (np.ndarray):\n",
    "\n",
    "    Returns:\n",
    "        np.ndarray: Array containing :math:`(K_{1}, V_{0})` values.\n",
    "    \"\"\"\n",
    "    t_thresh = get_index_from_threshold(times_in_minutes=tac_times_in_minutes, t_thresh_in_minutes=t_thresh_in_minutes)\n",
    "    \n",
    "    patlak_x = calculate_patlak_x(tac_times=tac_times_in_minutes, tac_vals=input_tac_values)\n",
    "    patlak_y = region_tac_values / input_tac_values\n",
    "    \n",
    "    patlak_values = fit_line_to_data_using_lls(xdata=patlak_x[t_thresh:], ydata=patlak_y[t_thresh:])\n",
    "    \n",
    "    return patlak_values"
   ],
   "metadata": {
    "collapsed": false,
    "ExecuteTime": {
     "end_time": "2024-02-20T23:26:41.673591Z",
     "start_time": "2024-02-20T23:26:41.642162900Z"
    }
   },
   "id": "ee4db99abf8d1bed",
   "execution_count": 9
  },
  {
   "cell_type": "code",
   "outputs": [
    {
     "data": {
      "text/plain": "array([0.00232219, 0.83178168])"
     },
     "execution_count": 15,
     "metadata": {},
     "output_type": "execute_result"
    }
   ],
   "source": [
    "patlak_analysis(input_tac_values=pTAC[1], region_tac_values=tTAC[1], tac_times_in_minutes=pTAC[0], t_thresh_in_minutes=30.0)"
   ],
   "metadata": {
    "collapsed": false,
    "ExecuteTime": {
     "end_time": "2024-02-20T23:28:09.012107400Z",
     "start_time": "2024-02-20T23:28:04.205762300Z"
    }
   },
   "id": "84e1804da25d1718",
   "execution_count": 15
  },
  {
   "cell_type": "code",
   "outputs": [
    {
     "data": {
      "text/plain": "array([[  0.      ,   0.      ],\n       [  0.301196,   0.      ],\n       [  0.602392,   0.      ],\n       [  0.903588,  44.3419  ],\n       [  1.204784,  63.25601 ],\n       [  1.50598 ,  78.05534 ],\n       [  1.807176,  44.15823 ],\n       [  2.108372,  36.8047  ],\n       [  2.409568,  32.40197 ],\n       [  2.710764,  29.6718  ],\n       [  3.01196 ,  27.8252  ],\n       [  3.313156,  26.47125 ],\n       [  3.614352,  25.38668 ],\n       [  3.915548,  24.47599 ],\n       [  4.216744,  23.67583 ],\n       [  4.51794 ,  22.96001 ],\n       [  4.819136,  22.30221 ],\n       [  5.120332,  21.69347 ],\n       [  5.421528,  21.12756 ],\n       [  5.722724,  20.59989 ],\n       [  6.02392 ,  20.10685 ],\n       [  6.325116,  19.64527 ],\n       [  6.626312,  19.21229 ],\n       [  6.927508,  18.80526 ],\n       [  7.228704,  18.42163 ],\n       [  7.5299  ,  18.05899 ],\n       [  7.831096,  17.71562 ],\n       [  8.132292,  17.3972  ],\n       [  8.433488,  17.09405 ],\n       [  8.734684,  16.80427 ],\n       [  9.03588 ,  16.53323 ],\n       [  9.337076,  16.27642 ],\n       [  9.638272,  16.02837 ],\n       [  9.939468,  15.79853 ],\n       [ 10.24066 ,  15.57649 ],\n       [ 10.54186 ,  15.36514 ],\n       [ 10.84306 ,  15.16534 ],\n       [ 11.14425 ,  14.97106 ],\n       [ 11.44545 ,  14.79005 ],\n       [ 11.74664 ,  14.61148 ],\n       [ 12.04784 ,  14.44614 ],\n       [ 12.34904 ,  14.28195 ],\n       [ 12.65023 ,  14.12955 ],\n       [ 12.95143 ,  13.97845 ],\n       [ 13.25262 ,  13.83661 ],\n       [ 13.55382 ,  13.69739 ],\n       [ 13.85502 ,  13.56409 ],\n       [ 14.15621 ,  13.4356  ],\n       [ 14.45741 ,  13.30917 ],\n       [ 14.7586  ,  13.19034 ],\n       [ 15.0598  ,  13.07151 ],\n       [ 15.361   ,  12.95923 ],\n       [ 15.66219 ,  12.84906 ],\n       [ 15.96339 ,  12.74027 ],\n       [ 16.26458 ,  12.63785 ],\n       [ 16.56578 ,  12.53543 ],\n       [ 16.86698 ,  12.43626 ],\n       [ 17.16817 ,  12.34077 ],\n       [ 17.46937 ,  12.24528 ],\n       [ 17.77056 ,  12.15367 ],\n       [ 18.07176 ,  12.06436 ],\n       [ 18.37296 ,  11.97505 ],\n       [ 18.67415 ,  11.8893  ],\n       [ 18.97535 ,  11.80553 ],\n       [ 19.27654 ,  11.72176 ],\n       [ 19.57774 ,  11.64052 ],\n       [ 19.87894 ,  11.56172 ],\n       [ 20.18013 ,  11.48292 ],\n       [ 20.48133 ,  11.40509 ],\n       [ 20.78252 ,  11.33076 ],\n       [ 21.08372 ,  11.25644 ],\n       [ 21.38492 ,  11.18211 ],\n       [ 21.68611 ,  11.11087 ],\n       [ 21.98731 ,  11.0406  ],\n       [ 22.2885  ,  10.97033 ],\n       [ 22.5897  ,  10.90056 ],\n       [ 22.8909  ,  10.83398 ],\n       [ 23.19209 ,  10.76741 ],\n       [ 23.49329 ,  10.70084 ],\n       [ 23.79448 ,  10.63536 ],\n       [ 24.09568 ,  10.57219 ],\n       [ 24.39688 ,  10.50902 ],\n       [ 24.69807 ,  10.44586 ],\n       [ 24.99927 ,  10.38371 ],\n       [ 25.30046 ,  10.32369 ],\n       [ 25.60166 ,  10.26367 ],\n       [ 25.90286 ,  10.20366 ],\n       [ 26.20405 ,  10.14401 ],\n       [ 26.50525 ,  10.08695 ],\n       [ 26.80644 ,  10.02989 ],\n       [ 27.10764 ,   9.97283 ],\n       [ 27.40884 ,   9.91577 ],\n       [ 27.71003 ,   9.860699],\n       [ 28.01123 ,   9.806428],\n       [ 28.31242 ,   9.752156],\n       [ 28.61362 ,   9.697884],\n       [ 28.91482 ,   9.643831],\n       [ 29.21601 ,   9.59221 ],\n       [ 29.51721 ,   9.54059 ],\n       [ 29.8184  ,   9.488969],\n       [ 30.1196  ,   9.437349],\n       [ 30.4208  ,   9.386288],\n       [ 30.72199 ,   9.337206],\n       [ 31.02319 ,   9.288125],\n       [ 31.32438 ,   9.239043],\n       [ 31.62558 ,   9.189962],\n       [ 31.92678 ,   9.141161],\n       [ 32.22797 ,   9.094522],\n       [ 32.52917 ,   9.047882],\n       [ 32.83036 ,   9.001243],\n       [ 33.13156 ,   8.954603],\n       [ 33.43276 ,   8.907964],\n       [ 33.73395 ,   8.863104],\n       [ 34.03515 ,   8.818824],\n       [ 34.33634 ,   8.774544],\n       [ 34.63754 ,   8.730265],\n       [ 34.93874 ,   8.685985],\n       [ 35.23993 ,   8.641992],\n       [ 35.54113 ,   8.599996],\n       [ 35.84232 ,   8.558001],\n       [ 36.14352 ,   8.516005],\n       [ 36.44472 ,   8.47401 ],\n       [ 36.74591 ,   8.432014],\n       [ 37.04711 ,   8.390496],\n       [ 37.3483  ,   8.350715],\n       [ 37.6495  ,   8.310933],\n       [ 37.9507  ,   8.271152],\n       [ 38.25189 ,   8.23137 ],\n       [ 38.55309 ,   8.191589],\n       [ 38.85428 ,   8.151828],\n       [ 39.15548 ,   8.114194],\n       [ 39.45668 ,   8.076559],\n       [ 39.75787 ,   8.038924],\n       [ 40.05907 ,   8.001289],\n       [ 40.36026 ,   7.963655],\n       [ 40.66146 ,   7.92602 ],\n       [ 40.96266 ,   7.889412],\n       [ 41.26385 ,   7.853857],\n       [ 41.56505 ,   7.818301],\n       [ 41.86624 ,   7.782746],\n       [ 42.16744 ,   7.747191],\n       [ 42.46864 ,   7.711635],\n       [ 42.76983 ,   7.67608 ],\n       [ 43.07103 ,   7.641837],\n       [ 43.37222 ,   7.608293],\n       [ 43.67342 ,   7.574749],\n       [ 43.97462 ,   7.541205],\n       [ 44.27581 ,   7.507661],\n       [ 44.57701 ,   7.474117],\n       [ 44.8782  ,   7.440573],\n       [ 45.1794  ,   7.407938],\n       [ 45.4806  ,   7.376335],\n       [ 45.78179 ,   7.344732],\n       [ 46.08299 ,   7.31313 ],\n       [ 46.38418 ,   7.281527],\n       [ 46.68538 ,   7.249924],\n       [ 46.98658 ,   7.218321],\n       [ 47.28777 ,   7.186718],\n       [ 47.58897 ,   7.156845],\n       [ 47.89016 ,   7.127111],\n       [ 48.19136 ,   7.097377],\n       [ 48.49256 ,   7.067643],\n       [ 48.79375 ,   7.037908],\n       [ 49.09495 ,   7.008174],\n       [ 49.39614 ,   6.97844 ],\n       [ 49.69734 ,   6.948716],\n       [ 49.99854 ,   6.920775],\n       [ 50.29973 ,   6.892835],\n       [ 50.60093 ,   6.864894],\n       [ 50.90212 ,   6.836954],\n       [ 51.20332 ,   6.809013],\n       [ 51.50452 ,   6.781073],\n       [ 51.80571 ,   6.753133],\n       [ 52.10691 ,   6.725192],\n       [ 52.4081  ,   6.698435],\n       [ 52.7093  ,   6.672211],\n       [ 53.0105  ,   6.645987],\n       [ 53.31169 ,   6.619763],\n       [ 53.61289 ,   6.593539],\n       [ 53.91408 ,   6.567315],\n       [ 54.21528 ,   6.541091],\n       [ 54.51648 ,   6.514867],\n       [ 54.81767 ,   6.488643],\n       [ 55.11887 ,   6.463987],\n       [ 55.42006 ,   6.4394  ],\n       [ 55.72126 ,   6.414813],\n       [ 56.02246 ,   6.390226],\n       [ 56.32365 ,   6.365639],\n       [ 56.62485 ,   6.341052],\n       [ 56.92604 ,   6.316466],\n       [ 57.22724 ,   6.291879],\n       [ 57.52844 ,   6.267292],\n       [ 57.82963 ,   6.243933],\n       [ 58.13083 ,   6.220903],\n       [ 58.43202 ,   6.197872],\n       [ 58.73322 ,   6.174842],\n       [ 59.03442 ,   6.151812],\n       [ 59.33561 ,   6.128782],\n       [ 59.63681 ,   6.105751],\n       [ 59.938   ,   6.082721],\n       [ 60.2392  ,   6.059691],\n       [ 60.5404  ,   6.036899],\n       [ 60.84159 ,   6.015344],\n       [ 61.14279 ,   5.993788],\n       [ 61.44398 ,   5.972232],\n       [ 61.74518 ,   5.950677],\n       [ 62.04638 ,   5.929121],\n       [ 62.34757 ,   5.907566],\n       [ 62.64877 ,   5.88601 ],\n       [ 62.94996 ,   5.864455],\n       [ 63.25116 ,   5.842899],\n       [ 63.55236 ,   5.821418],\n       [ 63.85355 ,   5.801255],\n       [ 64.15475 ,   5.781093],\n       [ 64.45594 ,   5.76093 ],\n       [ 64.75714 ,   5.740767],\n       [ 65.05834 ,   5.720604],\n       [ 65.35953 ,   5.700442],\n       [ 65.66073 ,   5.680279],\n       [ 65.96192 ,   5.660116],\n       [ 66.26312 ,   5.639953],\n       [ 66.56432 ,   5.61979 ],\n       [ 66.86551 ,   5.600204],\n       [ 67.16671 ,   5.581353],\n       [ 67.4679  ,   5.562502],\n       [ 67.7691  ,   5.54365 ],\n       [ 68.0703  ,   5.524799],\n       [ 68.37149 ,   5.505947],\n       [ 68.67269 ,   5.487096],\n       [ 68.97388 ,   5.468244],\n       [ 69.27508 ,   5.449393],\n       [ 69.57628 ,   5.430541],\n       [ 69.87747 ,   5.41169 ],\n       [ 70.17867 ,   5.393202],\n       [ 70.47986 ,   5.375582],\n       [ 70.78106 ,   5.357961],\n       [ 71.08226 ,   5.34034 ],\n       [ 71.38345 ,   5.32272 ],\n       [ 71.68465 ,   5.305099],\n       [ 71.98584 ,   5.287479],\n       [ 72.28704 ,   5.269858],\n       [ 72.58824 ,   5.252237],\n       [ 72.88943 ,   5.234617],\n       [ 73.19063 ,   5.216996],\n       [ 73.49182 ,   5.199376],\n       [ 73.79302 ,   5.182439],\n       [ 74.09422 ,   5.165971],\n       [ 74.39541 ,   5.149503],\n       [ 74.69661 ,   5.133034],\n       [ 74.9978  ,   5.116566],\n       [ 75.299   ,   5.100098],\n       [ 75.6002  ,   5.08363 ],\n       [ 75.90139 ,   5.067161],\n       [ 76.20259 ,   5.050693],\n       [ 76.50378 ,   5.034225],\n       [ 76.80498 ,   5.017757],\n       [ 77.10618 ,   5.001288],\n       [ 77.40737 ,   4.98515 ],\n       [ 77.70857 ,   4.969758],\n       [ 78.00976 ,   4.954366],\n       [ 78.31096 ,   4.938974],\n       [ 78.61216 ,   4.923582],\n       [ 78.91335 ,   4.90819 ],\n       [ 79.21455 ,   4.892798],\n       [ 79.51574 ,   4.877406],\n       [ 79.81694 ,   4.862014],\n       [ 80.11814 ,   4.846621],\n       [ 80.41933 ,   4.831229],\n       [ 80.72053 ,   4.815837],\n       [ 81.02172 ,   4.800445],\n       [ 81.32292 ,   4.78546 ],\n       [ 81.62412 ,   4.771071],\n       [ 81.92531 ,   4.756682],\n       [ 82.22651 ,   4.742293],\n       [ 82.5277  ,   4.727904],\n       [ 82.8289  ,   4.713515],\n       [ 83.1301  ,   4.699126],\n       [ 83.43129 ,   4.684736],\n       [ 83.73249 ,   4.670347],\n       [ 84.03368 ,   4.655958],\n       [ 84.33488 ,   4.641569],\n       [ 84.63608 ,   4.62718 ],\n       [ 84.93727 ,   4.612791],\n       [ 85.23847 ,   4.598402],\n       [ 85.53966 ,   4.584815],\n       [ 85.84086 ,   4.571359],\n       [ 86.14206 ,   4.557904],\n       [ 86.44325 ,   4.544448],\n       [ 86.74445 ,   4.530993],\n       [ 87.04564 ,   4.517537],\n       [ 87.34684 ,   4.504081],\n       [ 87.64804 ,   4.490626],\n       [ 87.94923 ,   4.47717 ],\n       [ 88.25043 ,   4.463714],\n       [ 88.55162 ,   4.450259],\n       [ 88.85282 ,   4.436803],\n       [ 89.15402 ,   4.423347],\n       [ 89.45521 ,   4.409892],\n       [ 89.75641 ,   4.396988],\n       [ 90.0576  ,   4.384401],\n       [ 90.3588  ,   4.371813],\n       [ 90.66    ,   4.359225],\n       [ 90.96119 ,   4.346637],\n       [ 91.26239 ,   4.33405 ],\n       [ 91.56358 ,   4.321462],\n       [ 91.86478 ,   4.308874],\n       [ 92.16598 ,   4.296286],\n       [ 92.46717 ,   4.283699],\n       [ 92.76837 ,   4.271111],\n       [ 93.06956 ,   4.258523],\n       [ 93.37076 ,   4.245935],\n       [ 93.67196 ,   4.233348],\n       [ 93.97315 ,   4.22076 ],\n       [ 94.27435 ,   4.208738],\n       [ 94.57554 ,   4.196957],\n       [ 94.87674 ,   4.185176],\n       [ 95.17794 ,   4.173394],\n       [ 95.47913 ,   4.161613],\n       [ 95.78033 ,   4.149832],\n       [ 96.08152 ,   4.138051],\n       [ 96.38272 ,   4.12627 ],\n       [ 96.68392 ,   4.114488],\n       [ 96.98511 ,   4.102707],\n       [ 97.28631 ,   4.090926],\n       [ 97.5875  ,   4.079145],\n       [ 97.8887  ,   4.067363],\n       [ 98.1899  ,   4.055582],\n       [ 98.49109 ,   4.043801],\n       [ 98.79229 ,   4.032035],\n       [ 99.09348 ,   4.021004],\n       [ 99.39468 ,   4.009972],\n       [ 99.69588 ,   3.998941],\n       [ 99.99707 ,   3.987909],\n       [100.2983  ,   3.976878],\n       [100.5995  ,   3.965847],\n       [100.9007  ,   3.954815],\n       [101.2019  ,   3.943784],\n       [101.5031  ,   3.932753],\n       [101.8042  ,   3.921721],\n       [102.1054  ,   3.91069 ],\n       [102.4066  ,   3.899658],\n       [102.7078  ,   3.888627],\n       [103.009   ,   3.877596],\n       [103.3102  ,   3.866564],\n       [103.6114  ,   3.855533],\n       [103.9126  ,   3.844889],\n       [104.2138  ,   3.834555],\n       [104.515   ,   3.824222],\n       [104.8162  ,   3.813888],\n       [105.1174  ,   3.803555],\n       [105.4186  ,   3.793221],\n       [105.7198  ,   3.782887],\n       [106.021   ,   3.772554],\n       [106.3222  ,   3.76222 ],\n       [106.6234  ,   3.751886],\n       [106.9246  ,   3.741553],\n       [107.2258  ,   3.731219],\n       [107.527   ,   3.720886],\n       [107.8282  ,   3.710552],\n       [108.1294  ,   3.700218],\n       [108.4306  ,   3.689885],\n       [108.7318  ,   3.679551],\n       [109.033   ,   3.669391],\n       [109.3341  ,   3.659708],\n       [109.6353  ,   3.650025],\n       [109.9365  ,   3.640342],\n       [110.2377  ,   3.630658],\n       [110.5389  ,   3.620975],\n       [110.8401  ,   3.611292],\n       [111.1413  ,   3.601609],\n       [111.4425  ,   3.591926],\n       [111.7437  ,   3.582243],\n       [112.0449  ,   3.572559],\n       [112.3461  ,   3.562876],\n       [112.6473  ,   3.553193],\n       [112.9485  ,   3.54351 ],\n       [113.2497  ,   3.533827],\n       [113.5509  ,   3.524144],\n       [113.8521  ,   3.51446 ],\n       [114.1533  ,   3.504777],\n       [114.4545  ,   3.495162],\n       [114.7557  ,   3.486079],\n       [115.0569  ,   3.476995],\n       [115.3581  ,   3.467911],\n       [115.6593  ,   3.458828],\n       [115.9605  ,   3.449744],\n       [116.2617  ,   3.440661],\n       [116.5629  ,   3.431577],\n       [116.864   ,   3.422493],\n       [117.1652  ,   3.41341 ],\n       [117.4664  ,   3.404326],\n       [117.7676  ,   3.395243],\n       [118.0688  ,   3.386159],\n       [118.37    ,   3.377075],\n       [118.6712  ,   3.367992],\n       [118.9724  ,   3.358908],\n       [119.2736  ,   3.349825],\n       [119.5748  ,   3.340741],\n       [119.876   ,   3.331657]])"
     },
     "execution_count": 17,
     "metadata": {},
     "output_type": "execute_result"
    }
   ],
   "source": [],
   "metadata": {
    "collapsed": false,
    "ExecuteTime": {
     "end_time": "2024-02-20T23:28:41.503910Z",
     "start_time": "2024-02-20T23:28:41.463912100Z"
    }
   },
   "id": "e21dba33a79f8ff4",
   "execution_count": 17
  },
  {
   "cell_type": "code",
   "outputs": [],
   "source": [],
   "metadata": {
    "collapsed": false
   },
   "id": "5d272863c5fb11b5"
  }
 ],
 "metadata": {
  "kernelspec": {
   "display_name": "Python 3",
   "language": "python",
   "name": "python3"
  },
  "language_info": {
   "codemirror_mode": {
    "name": "ipython",
    "version": 2
   },
   "file_extension": ".py",
   "mimetype": "text/x-python",
   "name": "python",
   "nbconvert_exporter": "python",
   "pygments_lexer": "ipython2",
   "version": "2.7.6"
  }
 },
 "nbformat": 4,
 "nbformat_minor": 5
}
