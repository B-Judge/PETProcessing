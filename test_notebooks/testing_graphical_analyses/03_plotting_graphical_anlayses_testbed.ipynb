{
 "cells": [
  {
   "cell_type": "markdown",
   "id": "15656764",
   "metadata": {},
   "source": [
    "# Preamble"
   ]
  },
  {
   "cell_type": "code",
   "execution_count": 6,
   "id": "40410047",
   "metadata": {
    "ExecuteTime": {
     "end_time": "2024-03-12T20:04:57.817648Z",
     "start_time": "2024-03-12T20:04:57.809930Z"
    }
   },
   "source": [
    "import numpy as np\n",
    "import numba\n",
    "import matplotlib.pyplot as plt\n",
    "import seaborn as sns\n",
    "import pet_cli.graphical_analysis as pet_grph\n",
    "import pet_cli.parametric_images as pet_pim\n",
    "import nibabel\n",
    "import json\n",
    "import os\n",
    "from importlib import reload\n",
    "\n",
    "sns.set()\n",
    "sns.set_style(\"ticks\")\n",
    "sns.set_context(\"paper\", font_scale=1.6)\n",
    "plt.rcParams['font.family'] ='StixGeneral'\n",
    "plt.rcParams['mathtext.fontset'] = 'stix'"
   ],
   "outputs": []
  },
  {
   "cell_type": "markdown",
   "id": "09a36d34",
   "metadata": {},
   "source": [
    "# Using Noise Free TACs"
   ]
  },
  {
   "cell_type": "markdown",
   "id": "39b26e5f",
   "metadata": {},
   "source": [
    "## Loading In TAC Parameters"
   ]
  },
  {
   "cell_type": "code",
   "execution_count": 7,
   "id": "71ab090b",
   "metadata": {
    "ExecuteTime": {
     "end_time": "2024-03-12T20:05:18.565471Z",
     "start_time": "2024-03-12T20:05:18.560106Z"
    }
   },
   "source": [
    "def count_parameter_sets(model_directories: dict) -> dict:\n",
    "    model_nums = {}\n",
    "    for model, directory in model_directories.items():\n",
    "        model_nums[model] = len([f for f in os.listdir(directory) if os.path.splitext(f)[1] == '.json'])\n",
    "    return model_nums"
   ],
   "outputs": []
  },
  {
   "cell_type": "code",
   "execution_count": 8,
   "id": "fde655c4",
   "metadata": {
    "ExecuteTime": {
     "end_time": "2024-03-12T20:05:18.718508Z",
     "start_time": "2024-03-12T20:05:18.713845Z"
    }
   },
   "source": [
    "DIR_PRE = \"../../\"\n",
    "model_dirs = {\"1tcm\":f\"{DIR_PRE}data/tcm_tacs/1tcm/\",\n",
    "              \"serial_2tcm_k4zero\":f\"{DIR_PRE}data/tcm_tacs/serial_2tcm_k4zero/\",\n",
    "              \"serial_2tcm\":f\"{DIR_PRE}data/tcm_tacs/serial_2tcm/\"}"
   ],
   "outputs": []
  },
  {
   "cell_type": "code",
   "execution_count": 9,
   "id": "53fa5c08",
   "metadata": {
    "ExecuteTime": {
     "end_time": "2024-03-12T20:05:19.055412Z",
     "start_time": "2024-03-12T20:05:19.043806Z"
    }
   },
   "source": [
    "MODELS_NUMS = count_parameter_sets(model_dirs)\n",
    "MODELS_NUMS"
   ],
   "outputs": []
  },
  {
   "cell_type": "code",
   "execution_count": 11,
   "id": "140c97bd",
   "metadata": {
    "ExecuteTime": {
     "end_time": "2024-03-12T20:05:39.215276Z",
     "start_time": "2024-03-12T20:05:39.210579Z"
    }
   },
   "source": [
    "def safe_load_json(file_path):\n",
    "    try:\n",
    "        with open(file_path) as file:\n",
    "            return json.load(file)\n",
    "    except Exception as e:\n",
    "        print(f\"Couldn't read file {file_path}. Error: {e}\")\n",
    "        return None"
   ],
   "outputs": []
  },
  {
   "cell_type": "code",
   "execution_count": 12,
   "id": "dae40426",
   "metadata": {
    "ExecuteTime": {
     "end_time": "2024-03-12T20:05:45.319988Z",
     "start_time": "2024-03-12T20:05:45.309034Z"
    }
   },
   "source": [
    "model_params = {\n",
    "    model: {f'set-{i:02}': safe_load_json(f'{DIR_PRE}data/tcm_tacs/{model}/params_{model}_set-{i:02}.json') for i in\n",
    "            range(num)} for model, num in MODELS_NUMS.items()}"
   ],
   "outputs": []
  },
  {
   "cell_type": "markdown",
   "id": "d66cc180",
   "metadata": {},
   "source": [
    "## Loading In TACs"
   ]
  },
  {
   "cell_type": "code",
   "execution_count": 195,
   "id": "b7ede424",
   "metadata": {
    "ExecuteTime": {
     "end_time": "2024-03-12T22:01:41.687289Z",
     "start_time": "2024-03-12T22:01:41.680191Z"
    }
   },
   "source": [
    "def safe_load_tac(filename, stride=5):\n",
    "    try:\n",
    "        return np.array(np.loadtxt(filename)[::stride].T, dtype=float, order='C')\n",
    "    except Exception as e:\n",
    "        print(f\"Couldn't read file {filename}. Error: {e}\")\n",
    "        return None"
   ],
   "outputs": []
  },
  {
   "cell_type": "code",
   "execution_count": 196,
   "id": "5b774a5c",
   "metadata": {
    "ExecuteTime": {
     "end_time": "2024-03-12T22:01:43.081790Z",
     "start_time": "2024-03-12T22:01:43.075600Z"
    }
   },
   "source": [
    "pTAC = safe_load_tac('../../data/tcm_tacs/fdg_plasma_clamp_evenly_resampled.txt')"
   ],
   "outputs": []
  },
  {
   "cell_type": "code",
   "execution_count": 197,
   "id": "56e44ac8",
   "metadata": {
    "ExecuteTime": {
     "end_time": "2024-03-12T22:01:43.398755Z",
     "start_time": "2024-03-12T22:01:43.382559Z"
    }
   },
   "source": [
    "all_tacs = {}\n",
    "all_tacs['noise-free'] = {a_model: {f'set-{i:02}': safe_load_tac(\n",
    "    f'{DIR_PRE}data/tcm_tacs/{a_model}/noise_free/tac_{(\"_\".join(a_model.split(\"_\")[1:]) if \"serial_2tcm\" in a_model else a_model)}_set-{i:02}.txt')\n",
    "    for i in range(num)} for a_model, num in MODELS_NUMS.items()}\n",
    "all_tacs['gaussian-noise'] = {a_model: {f'set-{i:02}': safe_load_tac(\n",
    "    f'{DIR_PRE}data/tcm_tacs/{a_model}/gaussian_noise/tac_{(\"_\".join(a_model.split(\"_\")[1:]) if \"serial_2tcm\" in a_model else a_model)}_set-{i:02}.txt')\n",
    "    for i in range(num)} for a_model, num in MODELS_NUMS.items()}"
   ],
   "outputs": []
  },
  {
   "cell_type": "markdown",
   "id": "ffd03076",
   "metadata": {},
   "source": [
    "## Patlak Plots"
   ]
  },
  {
   "cell_type": "code",
   "execution_count": 41,
   "id": "30980b38",
   "metadata": {
    "ExecuteTime": {
     "end_time": "2024-03-12T21:08:03.028159Z",
     "start_time": "2024-03-12T21:08:03.024276Z"
    }
   },
   "source": [
    "from cycler import cycler"
   ],
   "outputs": []
  },
  {
   "cell_type": "code",
   "execution_count": 132,
   "id": "e56aaf40",
   "metadata": {
    "ExecuteTime": {
     "end_time": "2024-03-12T21:42:50.793364Z",
     "start_time": "2024-03-12T21:42:50.787573Z"
    }
   },
   "source": [
    "dar_cycler = cycler(color=['red', 'blue', 'green', 'yellow', 'purple', 'cyan', 'magenta'])\n",
    "plt.rc('axes', prop_cycle=dar_cycler)"
   ],
   "outputs": []
  },
  {
   "cell_type": "code",
   "execution_count": 19,
   "id": "c755b20d",
   "metadata": {
    "ExecuteTime": {
     "end_time": "2024-03-12T20:13:07.308112Z",
     "start_time": "2024-03-12T20:13:07.302239Z"
    }
   },
   "source": [
    "def gen_patlak_plot(pTAC: np.ndarray[float, float], tTAC: np.ndarray[float, float]):\n",
    "    x = pet_grph.cumulative_trapezoidal_integral(xdata=pTAC[0], ydata=pTAC[1]) / pTAC[1]\n",
    "    y = tTAC[1]/pTAC[1]\n",
    "    return np.array([x, y])"
   ],
   "outputs": []
  },
  {
   "cell_type": "code",
   "execution_count": 21,
   "id": "e3c32d70",
   "metadata": {
    "ExecuteTime": {
     "end_time": "2024-03-12T20:15:41.606533Z",
     "start_time": "2024-03-12T20:15:41.599018Z"
    }
   },
   "source": [
    "patlak_xLab = r\"$\\frac{\\int_{0}^{t}C_\\mathrm{P}(s)\\mathrm{d}s}{C_\\mathrm{P}(t)}$\"\n",
    "patlak_yLab = r\"$\\frac{R(t)}{C_\\mathrm{P}(t)}$\""
   ],
   "outputs": []
  },
  {
   "cell_type": "code",
   "execution_count": 22,
   "id": "7711e4bb",
   "metadata": {
    "ExecuteTime": {
     "end_time": "2024-03-12T20:15:49.107500Z",
     "start_time": "2024-03-12T20:15:49.097937Z"
    }
   },
   "source": [
    "def params_dict_to_label(params):\n",
    "    tmp = []\n",
    "    for p, val in params.items():\n",
    "        tmp.append(f\"$k_{{{p[1:]}}}={float(val):<.2f}$\")\n",
    "    return \"; \".join(tmp)\n",
    "params_dict_to_label(model_params['1tcm']['set-00']['params'])"
   ],
   "outputs": []
  },
  {
   "cell_type": "code",
   "execution_count": 255,
   "id": "02c2131d",
   "metadata": {
    "ExecuteTime": {
     "end_time": "2024-03-13T18:17:29.892289Z",
     "start_time": "2024-03-13T18:17:29.864469Z"
    }
   },
   "source": [
    "patlak_plot_kwargs = {'lw':1, 'alpha':0.9, 'ms':8, 'marker':'.'}\n",
    "\n",
    "def calc_patlak_x_and_y(pTAC, tTAC):\n",
    "    good_points = np.argwhere(pTAC[1] != 0.0).T[0]\n",
    "    xAr = pet_grph.cumulative_trapezoidal_integral(xdata=pTAC[0], ydata=pTAC[1])[good_points] / pTAC[1][good_points]\n",
    "    yAr = tTAC[1][good_points] / pTAC[1][good_points]\n",
    "    return xAr, yAr\n",
    "    \n",
    "def add_linear_patlak_plot(pTAC, tTAC, axObj = None):\n",
    "    if axObj is None:\n",
    "        axObj = plt.gca()\n",
    "    \n",
    "    xAr, yAr = calc_patlak_x_and_y(pTAC=pTAC, tTAC=tTAC)\n",
    "    \n",
    "    axObj.plot(xAr, yAr, '--', **patlak_plot_kwargs, zorder=1, color='black')\n",
    "    \n",
    "    return None\n",
    "\n",
    "def add_patlak_plot_shading(pTAC, tTAC, t_thresh_in_mins, axObj = None):\n",
    "    if axObj is None:\n",
    "        axObj = plt.gca()\n",
    "    good_points = np.argwhere(pTAC[1] != 0.0).T[0]\n",
    "    t_thresh = pet_grph.get_index_from_threshold(times_in_minutes=pTAC[0][good_points], \n",
    "                                                 t_thresh_in_minutes=t_thresh_in_mins)\n",
    "    \n",
    "    xAr, yAr = calc_patlak_x_and_y(pTAC=pTAC, tTAC=tTAC)\n",
    "    \n",
    "    axObj.axvspan(xAr[t_thresh], xAr[-1], color='gray', alpha=0.2, zorder=0)\n",
    "    return None\n",
    "\n",
    "def add_patlak_fit_points(pTAC, tTAC, t_thresh_in_mins, axObj = None):\n",
    "    if axObj is None:\n",
    "        axObj = plt.gca()\n",
    "    good_points = np.argwhere(pTAC[1] != 0.0).T[0]\n",
    "    t_thresh = pet_grph.get_index_from_threshold(times_in_minutes=pTAC[0][good_points], \n",
    "                                                 t_thresh_in_minutes=t_thresh_in_mins)\n",
    "    \n",
    "    xAr, yAr = calc_patlak_x_and_y(pTAC=pTAC, tTAC=tTAC)\n",
    "    \n",
    "    axObj.plot(xAr[t_thresh:], yAr[t_thresh:], 'o-', alpha=0.9, ms='5', zorder=2, color='blue')\n",
    "    return None\n",
    "\n",
    "def add_patlak_line(pTAC, tTAC, t_thresh_in_mins, axObj = None):\n",
    "    if axObj is None:\n",
    "        axObj = plt.gca()\n",
    "    \n",
    "    slope, intercept, rSq = pet_grph.patlak_analysis_with_rsquared(input_tac_values=pTAC[1],\n",
    "                                                             region_tac_values=tTAC[1],\n",
    "                                                             tac_times_in_minutes=pTAC[0],\n",
    "                                                             t_thresh_in_minutes=t_thresh_in_mins)\n",
    "    xAr, _ = calc_patlak_x_and_y(pTAC=pTAC, tTAC=tTAC)\n",
    "    yAr = slope*xAr + intercept\n",
    "    \n",
    "    axObj.plot(xAr, yAr, '-', color='orange', lw=2.5, zorder=3, label=f\"$K_1=${slope:<5.3f}\\n$V_T=${intercept:<5.3f}\\n$R^2=${rSq:<5.3f}\")\n",
    "    \n",
    "    \n",
    "def gen_patlak_figure(pTAC, tTAC, t_thresh_in_mins, figObj=None):\n",
    "    \n",
    "    if figObj is None:\n",
    "        fig, ax = plt.subplots(1, 2, constrained_layout=True, figsize=[8, 4], \n",
    "                               dpi=100, linewidth=3.0, edgecolor='k')\n",
    "        ax = ax.flatten()\n",
    "    print(type(fig))\n",
    "    for axId, anAx in enumerate(ax.flatten()):\n",
    "        add_linear_patlak_plot(pTAC=pTAC, tTAC=tTAC, axObj=anAx)\n",
    "        add_patlak_plot_shading(pTAC=pTAC, tTAC=tTAC, t_thresh_in_mins=40.0, axObj=anAx)\n",
    "        add_patlak_line(pTAC=pTAC, tTAC=tTAC, t_thresh_in_mins=40.0, axObj=anAx)\n",
    "        add_patlak_fit_points(pTAC=pTAC, tTAC=tTAC, t_thresh_in_mins=30.0, axObj=anAx)\n",
    "\n",
    "    ax[0].set(title=f\"Linear Plot\")\n",
    "    ax[1].set(title=f\"Log-Log Plot\", xscale='log', yscale='log')\n",
    "    ax[0].set_xlabel(patlak_xLab, fontsize=20)\n",
    "    ax[0].set_ylabel(patlak_yLab, fontsize=20)\n",
    "    ax[1].set_xlabel(patlak_xLab, fontsize=20)\n",
    "    ax[1].set_ylabel(patlak_yLab, fontsize=20)\n",
    "    fig.suptitle(f\"Patlak Plot\", ha='center', va='center')\n",
    "    fig.legend(*ax[0].get_legend_handles_labels(),\n",
    "               bbox_to_anchor=(1.0, 0.85), loc='upper left', \n",
    "               title='Patlak Analysis', edgecolor='black')\n",
    "    "
   ],
   "outputs": []
  },
  {
   "cell_type": "markdown",
   "id": "e855d04a",
   "metadata": {},
   "source": [
    "### Example Plots"
   ]
  },
  {
   "cell_type": "code",
   "execution_count": 256,
   "id": "320a5c10",
   "metadata": {
    "ExecuteTime": {
     "end_time": "2024-03-13T18:17:32.479051Z",
     "start_time": "2024-03-13T18:17:30.487861Z"
    },
    "scrolled": true
   },
   "source": [
    "for a_model, num in MODELS_NUMS.items():\n",
    "    \n",
    "    for i in range(num):\n",
    "        tTAC = all_tacs['noise-free'][a_model][f\"set-{i:02}\"]\n",
    "        gen_patlak_figure(pTAC=pTAC, tTAC=tTAC, t_thresh_in_mins=35.0)\n",
    "        \n",
    "        plt.show()\n",
    "#     break"
   ],
   "outputs": []
  },
  {
   "cell_type": "code",
   "execution_count": 25,
   "id": "346300c3",
   "metadata": {
    "ExecuteTime": {
     "end_time": "2024-03-12T20:25:13.721288Z",
     "start_time": "2024-03-12T20:25:12.791037Z"
    }
   },
   "source": [
    "for a_model, num in MODELS_NUMS.items():\n",
    "    myFig, myAx = plt.subplots(1, 2, constrained_layout=True, figsize=[8, 4], dpi=120, linewidth=3.0, edgecolor='k')\n",
    "    for i in range(num):\n",
    "        _params = model_params[a_model][f\"set-{i:02}\"]\n",
    "        _tTAC = all_tacs['noise-free'][a_model][f\"set-{i:02}\"]\n",
    "        patlak_vars = gen_patlak_plot(pTAC, _tTAC)\n",
    "        \n",
    "        myAx[0].plot(*patlak_vars, '.-', alpha=0.95, lw=2, \n",
    "                     #label=params_dict_to_label(_params['params']), \n",
    "                     color=f\"C{i}\",\n",
    "                     ms=8, mec='k', mew=0.5)\n",
    "        myAx[1].plot(*patlak_vars, '.-', alpha=0.95, lw=2, color=f\"C{i}\", ms=8, mec='k', mew=0.5)\n",
    "    \n",
    "    myAx[0].set(title=f\"Linear Plot\")\n",
    "    myAx[1].set(title=f\"Log-Log Plot\", xscale='log', yscale='log')\n",
    "    myAx[0].set_xlabel(patlak_xLab, fontsize=20)\n",
    "    myAx[0].set_ylabel(patlak_yLab, fontsize=20)\n",
    "    myAx[1].set_xlabel(patlak_xLab, fontsize=20)\n",
    "    myAx[1].set_ylabel(patlak_yLab, fontsize=20)\n",
    "    myFig.suptitle(f\"{_params['model']} Patlak Plots\", fontweight='bold')\n",
    "#     myFig.legend(bbox_to_anchor=(1.0, 0.6), loc='center left', title='Parameters')\n",
    "    plt.show()"
   ],
   "outputs": []
  },
  {
   "cell_type": "code",
   "execution_count": null,
   "id": "5a9a5ebd",
   "metadata": {},
   "source": [],
   "outputs": []
  },
  {
   "cell_type": "markdown",
   "id": "86d654c6",
   "metadata": {},
   "source": [
    "## Logan Plots"
   ]
  },
  {
   "cell_type": "code",
   "execution_count": null,
   "id": "a6119141",
   "metadata": {},
   "source": [
    "def gen_logan_plot(pTAC, tTAC):\n",
    "    x = pet_gph.cumulative_trapezoidal_integral(xdata=pTAC[0], ydata=pTAC[1]) / tTAC[1]\n",
    "    y = pet_gph.cumulative_trapezoidal_integral(xdata=tTAC[0], ydata=tTAC[1]) / tTAC[1]\n",
    "    return np.array([x, y])\n",
    "\n",
    "def gen_alt_logan_plot(pTAC, tTAC):\n",
    "    x = pet_gph.cumulative_trapezoidal_integral(xdata=pTAC[0], ydata=pTAC[1]) / pTAC[1]\n",
    "    y = pet_gph.cumulative_trapezoidal_integral(xdata=tTAC[0], ydata=tTAC[1]) / pTAC[1]\n",
    "    return np.array([x, y])\n",
    "    "
   ],
   "outputs": []
  },
  {
   "cell_type": "markdown",
   "id": "dbbd3c97",
   "metadata": {},
   "source": [
    "# Testing Implementation From Package"
   ]
  },
  {
   "cell_type": "code",
   "execution_count": 327,
   "id": "3778bc47",
   "metadata": {
    "ExecuteTime": {
     "end_time": "2024-03-14T16:55:03.361876Z",
     "start_time": "2024-03-14T16:55:03.355465Z"
    }
   },
   "source": [
    "import pet_cli.graphical_plots as pet_plt\n",
    "reload(pet_plt)"
   ],
   "outputs": []
  },
  {
   "cell_type": "markdown",
   "id": "392044e8",
   "metadata": {},
   "source": [
    "## Patlak Plots"
   ]
  },
  {
   "cell_type": "code",
   "execution_count": 338,
   "id": "1b202c71",
   "metadata": {
    "ExecuteTime": {
     "end_time": "2024-03-14T17:00:21.731402Z",
     "start_time": "2024-03-14T17:00:19.287319Z"
    },
    "scrolled": false
   },
   "source": [
    "for a_model, num in MODELS_NUMS.items():\n",
    "    \n",
    "    for i in range(num):\n",
    "        tTAC = all_tacs['noise-free'][a_model][f\"set-{i:02}\"]\n",
    "        patlak_plot = pet_plt.PatlakPlot(tTAC=tTAC, pTAC=pTAC, t_thresh_in_mins=45.0)\n",
    "        patlak_plot.generate_figure(line_kwargs=dict(lw=2, alpha=0.95, color='red', label=patlak_plot.generate_label_from_fit_params()), \n",
    "                                    shading_kwargs=dict(color='palegreen', alpha=0.2),\n",
    "                                    data_kwargs=dict(alpha=0.85, color='k', marker='.'))\n",
    "        plt.show()\n",
    "#     break"
   ],
   "outputs": []
  },
  {
   "cell_type": "markdown",
   "id": "96996103",
   "metadata": {},
   "source": [
    "## Logan Plots"
   ]
  },
  {
   "cell_type": "code",
   "execution_count": 339,
   "id": "de72ded4",
   "metadata": {
    "ExecuteTime": {
     "end_time": "2024-03-14T17:00:31.354529Z",
     "start_time": "2024-03-14T17:00:29.352718Z"
    },
    "scrolled": false
   },
   "source": [
    "for a_model, num in MODELS_NUMS.items():\n",
    "    \n",
    "    for i in range(num):\n",
    "        tTAC = all_tacs['noise-free'][a_model][f\"set-{i:02}\"]\n",
    "        patlak_plot = pet_plt.LoganPlot(tTAC=tTAC, pTAC=pTAC, t_thresh_in_mins=45.0)\n",
    "        patlak_plot.generate_figure()\n",
    "        \n",
    "        \n",
    "        plt.show()\n",
    "#     break"
   ],
   "outputs": []
  },
  {
   "cell_type": "markdown",
   "id": "f7b769b6",
   "metadata": {},
   "source": [
    "## Alt Logan Plots"
   ]
  },
  {
   "cell_type": "code",
   "execution_count": 324,
   "id": "09dabe25",
   "metadata": {
    "ExecuteTime": {
     "end_time": "2024-03-14T16:14:04.174705Z",
     "start_time": "2024-03-14T16:14:01.998789Z"
    },
    "scrolled": false
   },
   "source": [
    "for a_model, num in MODELS_NUMS.items():\n",
    "    \n",
    "    for i in range(num):\n",
    "        tTAC = all_tacs['noise-free'][a_model][f\"set-{i:02}\"]\n",
    "        patlak_plot = pet_plt.AltLoganPlot(tTAC=tTAC, pTAC=pTAC, t_thresh_in_mins=45.0)\n",
    "        patlak_plot.generate_figure()\n",
    "        \n",
    "        plt.show()\n",
    "#     break"
   ],
   "outputs": []
  },
  {
   "cell_type": "markdown",
   "id": "05e3d5aa",
   "metadata": {
    "ExecuteTime": {
     "end_time": "2024-03-14T19:26:57.527873Z",
     "start_time": "2024-03-14T19:26:57.522720Z"
    }
   },
   "source": [
    "# Generating Plots From Reading JSON Files Of Analyses"
   ]
  },
  {
   "cell_type": "markdown",
   "id": "6954c3b9",
   "metadata": {},
   "source": [
    "## Testing Reading JSON From Analysis"
   ]
  },
  {
   "cell_type": "code",
   "execution_count": 347,
   "id": "67d9305a",
   "metadata": {
    "ExecuteTime": {
     "end_time": "2024-03-18T20:46:53.197700Z",
     "start_time": "2024-03-18T20:46:53.189678Z"
    }
   },
   "source": [
    "test_json = \"/Users/furqandar/Desktop/Work/BrierLab/PracticeData/4DPET/test-patlak-analysis-props.json\"\n",
    "\n",
    "test_params = {}\n",
    "\n",
    "with open(test_json) as dFile:\n",
    "    test_params = json.load(fp=dFile)\n",
    "    \n",
    "test_params"
   ],
   "outputs": []
  },
  {
   "cell_type": "code",
   "execution_count": 348,
   "id": "863929e3",
   "metadata": {
    "ExecuteTime": {
     "end_time": "2024-03-18T20:46:54.703042Z",
     "start_time": "2024-03-18T20:46:54.698680Z"
    }
   },
   "source": [
    "ptac_path = test_params[\"FilePathPTAC\"]\n",
    "ttac_path = test_params[\"FilePathTTAC\"]\n",
    "t_thresh_time = test_params[\"ThresholdTime\"]\n",
    "\n"
   ],
   "outputs": []
  },
  {
   "cell_type": "code",
   "execution_count": 350,
   "id": "de649f4c",
   "metadata": {
    "ExecuteTime": {
     "end_time": "2024-03-18T20:47:03.596351Z",
     "start_time": "2024-03-18T20:47:03.268962Z"
    }
   },
   "source": [
    "logan_plot = pet_plt.PatlakPlot(pTAC=pet_grph._safe_load_tac(ptac_path),\n",
    "                  tTAC=pet_grph._safe_load_tac(ttac_path),\n",
    "                  t_thresh_in_mins=t_thresh_time)\n",
    "logan_plot.generate_figure()\n",
    "\n",
    "plt.show()"
   ],
   "outputs": []
  },
  {
   "cell_type": "markdown",
   "id": "b53af6c7",
   "metadata": {},
   "source": [
    "# Testing File Path Based Image Saving"
   ]
  },
  {
   "cell_type": "code",
   "execution_count": 1,
   "id": "f349d1c3",
   "metadata": {
    "ExecuteTime": {
     "end_time": "2024-03-18T21:51:23.046074Z",
     "start_time": "2024-03-18T21:51:22.624010Z"
    }
   },
   "source": [
    "import pet_cli.graphical_plots as pet_plt\n",
    "from importlib import reload"
   ],
   "outputs": []
  },
  {
   "cell_type": "code",
   "execution_count": 21,
   "id": "9947b731",
   "metadata": {
    "ExecuteTime": {
     "end_time": "2024-03-19T15:01:19.500913Z",
     "start_time": "2024-03-19T15:01:19.493722Z"
    }
   },
   "source": [
    "reload(pet_plt)"
   ],
   "outputs": []
  },
  {
   "cell_type": "code",
   "execution_count": 22,
   "id": "58755e8c",
   "metadata": {
    "ExecuteTime": {
     "end_time": "2024-03-19T15:01:19.806666Z",
     "start_time": "2024-03-19T15:01:19.795800Z"
    }
   },
   "source": [
    "import json\n",
    "test_json = \"/Users/furqandar/Desktop/Work/BrierLab/PracticeData/4DPET/test-patlak-analysis-props.json\"\n",
    "\n",
    "test_params = {}\n",
    "\n",
    "with open(test_json) as dFile:\n",
    "    test_params = json.load(fp=dFile)\n",
    "    \n",
    "test_params"
   ],
   "outputs": []
  },
  {
   "cell_type": "code",
   "execution_count": 23,
   "id": "b069a0b9",
   "metadata": {
    "ExecuteTime": {
     "end_time": "2024-03-19T15:01:20.059089Z",
     "start_time": "2024-03-19T15:01:20.053657Z"
    }
   },
   "source": [
    "ptac_path = test_params[\"FilePathPTAC\"]\n",
    "ttac_path = test_params[\"FilePathTTAC\"]\n",
    "t_thresh_time = test_params[\"ThresholdTime\"]\n",
    "\n"
   ],
   "outputs": []
  },
  {
   "cell_type": "code",
   "execution_count": 24,
   "id": "5f9449aa",
   "metadata": {
    "ExecuteTime": {
     "end_time": "2024-03-19T15:01:22.978244Z",
     "start_time": "2024-03-19T15:01:20.381113Z"
    }
   },
   "source": [
    "grph_plot = pet_plt.Plot(input_tac_path=ptac_path,\n",
    "                         roi_tac_path=ttac_path,\n",
    "                         threshold_in_mins=30.0,\n",
    "                         method_name='patlak', \n",
    "                         output_directory='../../../../PracticeData/4DPET/',\n",
    "                         output_filename_prefix=\"plot\")\n",
    "grph_plot.save_figure()"
   ],
   "outputs": []
  },
  {
   "cell_type": "code",
   "execution_count": null,
   "id": "855ae6bb",
   "metadata": {},
   "source": [],
   "outputs": []
  }
 ],
 "metadata": {
  "kernelspec": {
   "display_name": "Python 3 (ipykernel)",
   "language": "python",
   "name": "python3"
  },
  "language_info": {
   "codemirror_mode": {
    "name": "ipython",
    "version": 3
   },
   "file_extension": ".py",
   "mimetype": "text/x-python",
   "name": "python",
   "nbconvert_exporter": "python",
   "pygments_lexer": "ipython3",
   "version": "3.9.6"
  },
  "toc": {
   "base_numbering": 1,
   "nav_menu": {},
   "number_sections": true,
   "sideBar": true,
   "skip_h1_title": false,
   "title_cell": "Table of Contents",
   "title_sidebar": "Contents",
   "toc_cell": false,
   "toc_position": {
    "height": "calc(100% - 180px)",
    "left": "10px",
    "top": "150px",
    "width": "649px"
   },
   "toc_section_display": true,
   "toc_window_display": true
  }
 },
 "nbformat": 4,
 "nbformat_minor": 5
}
