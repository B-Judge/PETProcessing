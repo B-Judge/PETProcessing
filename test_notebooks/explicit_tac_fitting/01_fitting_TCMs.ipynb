{
 "cells": [
  {
   "cell_type": "markdown",
   "id": "cb746db9",
   "metadata": {},
   "source": [
    "# Preamble"
   ]
  },
  {
   "cell_type": "code",
   "execution_count": 1,
   "id": "978f6ff2",
   "metadata": {
    "ExecuteTime": {
     "end_time": "2024-05-23T16:12:52.760174Z",
     "start_time": "2024-05-23T16:12:51.762869Z"
    }
   },
   "source": [
    "import numpy as np\n",
    "import matplotlib.pyplot as plt\n",
    "import seaborn as sns\n",
    "import pet_cli.tcms_as_convolutions as pet_tcm\n",
    "import pet_cli.tac_fitting as pet_fit\n",
    "import pet_cli.testing_utils as pet_test\n",
    "from importlib import reload\n",
    "\n",
    "sns.set()\n",
    "sns.set_style(\"ticks\")\n",
    "sns.set_context(\"paper\", font_scale=1.6)\n",
    "plt.rcParams['font.family'] = 'StixGeneral'\n",
    "plt.rcParams['mathtext.fontset'] = 'stix'\n",
    "plt.rcParams['figure.dpi'] = 72\n",
    "\n",
    "from scipy.stats import linregress\n",
    "\n",
    "text_box = dict(facecolor='lightblue', edgecolor='black', lw=2, alpha=0.2)"
   ],
   "outputs": []
  },
  {
   "cell_type": "code",
   "execution_count": 2,
   "id": "01ba5cfc",
   "metadata": {
    "ExecuteTime": {
     "end_time": "2024-05-23T16:12:52.764465Z",
     "start_time": "2024-05-23T16:12:52.761197Z"
    }
   },
   "source": [
    "class TACPlots(object):\n",
    "    \n",
    "    def __init__(self, figsize: tuple = (8, 4)):\n",
    "        self.fig, self.axes = plt.subplots(1, 2, sharey=True, constrained_layout=True, figsize=figsize)\n",
    "        self.fax = self.axes.flatten()\n",
    "        [ax.set(xlabel=r'$t$ [minutes]') for ax in self.fax]\n",
    "        self.fax[0].set(ylabel=r'TAC [$\\mathrm{kBq/ml}$]', title='Linear')\n",
    "        self.fax[1].set(xscale='log', title='SemiLog-X')\n",
    "    \n",
    "    def add_tac(self, tac_times: np.ndarray, tac_vals: np.ndarray, label: str = None, pl_kwargs: dict = None):\n",
    "        if pl_kwargs is None:\n",
    "            pl_kwargs = {'lw': 2, 'alpha': 0.8}\n",
    "        \n",
    "        if label is None:\n",
    "            [ax.plot(tac_times, tac_vals, **pl_kwargs) for ax in self.fax]\n",
    "        else:\n",
    "            [ax.plot(tac_times, tac_vals, label=label, **pl_kwargs) for ax in self.fax]\n",
    "        \n",
    "    def gen_legend(self):\n",
    "        self.fig.legend(*self.fax[0].get_legend_handles_labels(), bbox_to_anchor=(1.0, 0.5), loc='center left')"
   ],
   "outputs": []
  },
  {
   "cell_type": "markdown",
   "id": "9acd4fee",
   "metadata": {},
   "source": [
    "## Loading In Input Function"
   ]
  },
  {
   "cell_type": "code",
   "execution_count": 30,
   "id": "61c68b86",
   "metadata": {
    "ExecuteTime": {
     "end_time": "2024-05-23T16:23:11.909785Z",
     "start_time": "2024-05-23T16:23:11.904779Z"
    }
   },
   "source": [
    "pTAC = np.asarray(np.loadtxt('../../data/tcm_tacs/fdg_plasma_clamp_evenly_resampled.txt').T)"
   ],
   "outputs": []
  },
  {
   "cell_type": "code",
   "execution_count": 31,
   "id": "19cca9f8",
   "metadata": {
    "ExecuteTime": {
     "end_time": "2024-05-23T16:23:12.390272Z",
     "start_time": "2024-05-23T16:23:12.388025Z"
    }
   },
   "source": [
    "NUM_SAMPLES = 2500"
   ],
   "outputs": []
  },
  {
   "cell_type": "markdown",
   "id": "98de0703",
   "metadata": {},
   "source": [
    "# 1TCM"
   ]
  },
  {
   "cell_type": "markdown",
   "id": "a4a23c8f",
   "metadata": {},
   "source": [
    "## Simple Visual Check"
   ]
  },
  {
   "cell_type": "markdown",
   "id": "860b4fd7",
   "metadata": {},
   "source": [
    "### Setting $V_B=0.05$"
   ]
  },
  {
   "cell_type": "code",
   "execution_count": 84,
   "id": "a61b12ef",
   "metadata": {
    "ExecuteTime": {
     "end_time": "2024-05-23T19:14:48.942240Z",
     "start_time": "2024-05-23T19:14:48.622143Z"
    }
   },
   "source": [
    "tcm_func    = pet_tcm.generate_tac_1tcm_c1_from_tac\n",
    "test_params = {'k1':0.4, 'k2':0.6, 'vb':0.05}\n",
    "test_tTAC   = tcm_func(*pTAC, **test_params)\n",
    "test_tTAC[1] = pet_test.add_gaussian_noise_to_tac_based_on_max(test_tTAC[1], scale=0.05)\n",
    "\n",
    "test_fit = pet_fit.TACFitter(pTAC=pTAC, \n",
    "                             tTAC=test_tTAC, \n",
    "                             tcm_func=tcm_func,\n",
    "                             resample_num=512)\n",
    "test_fit.run_fit()\n",
    "fit_params = test_fit.fit_results[0]\n",
    "print(fit_params.round(3))\n",
    "fit_tTAC = tcm_func(*pTAC, *fit_params)\n",
    "\n",
    "tac_plt = TACPlots()\n",
    "tac_plt.add_tac(pTAC[0], pTAC[1]/np.max(pTAC[1])*np.max(fit_tTAC[1]), \n",
    "                label='Input Function (Rescaled)', \n",
    "                pl_kwargs={'alpha':0.5, 'color':'blue', 'lw':4, 'marker':''})\n",
    "tac_plt.add_tac(test_tTAC[0], test_tTAC[1],#/np.max(test_tTAC[1]), \n",
    "                label='Test Tissue TAC', \n",
    "                pl_kwargs={'alpha':0.95, 'color':'black', 'lw':2, 'marker':'o', 'ls':'', 'mec':'k'})\n",
    "tac_plt.add_tac(fit_tTAC[0], fit_tTAC[1],#/np.max(fit_tTAC[1]), \n",
    "                label='Fit Tissue TAC', \n",
    "                pl_kwargs={'alpha':1.0, 'color':'red', 'lw':2.5, 'marker':'', 'ls':'-'})\n",
    "tac_plt.gen_legend()\n",
    "plt.show()"
   ],
   "outputs": []
  },
  {
   "cell_type": "markdown",
   "id": "1508905e",
   "metadata": {},
   "source": [
    "### Setting $V_B=0.0$"
   ]
  },
  {
   "cell_type": "code",
   "execution_count": 89,
   "id": "003c966d",
   "metadata": {
    "ExecuteTime": {
     "end_time": "2024-05-23T19:17:39.662731Z",
     "start_time": "2024-05-23T19:17:39.427661Z"
    }
   },
   "source": [
    "tcm_func    = pet_tcm.generate_tac_1tcm_c1_from_tac\n",
    "test_params = {'k1':0.4, 'k2':0.6, 'vb':0.0}\n",
    "test_tTAC   = tcm_func(*pTAC, **test_params)\n",
    "test_tTAC[1] = pet_test.add_gaussian_noise_to_tac_based_on_max(test_tTAC[1], scale=0.05)\n",
    "\n",
    "test_fit = pet_fit.TACFitterWithoutBloodVolume(pTAC=pTAC, \n",
    "                                               tTAC=test_tTAC, \n",
    "                                               tcm_func=tcm_func,\n",
    "                                               resample_num=512)\n",
    "test_fit.run_fit()\n",
    "fit_params = test_fit.fit_results[0]\n",
    "print(fit_params.round(3))\n",
    "fit_tTAC = tcm_func(*pTAC, *fit_params)\n",
    "\n",
    "tac_plt = TACPlots()\n",
    "tac_plt.add_tac(pTAC[0], pTAC[1]/np.max(pTAC[1])*np.max(fit_tTAC[1]), \n",
    "                label='Input Function (Rescaled)', \n",
    "                pl_kwargs={'alpha':0.5, 'color':'blue', 'lw':4, 'marker':''})\n",
    "tac_plt.add_tac(test_tTAC[0], test_tTAC[1],#/np.max(test_tTAC[1]), \n",
    "                label='Test Tissue TAC', \n",
    "                pl_kwargs={'alpha':0.95, 'color':'black', 'lw':2, 'marker':'o', 'ls':'', 'mec':'k'})\n",
    "tac_plt.add_tac(fit_tTAC[0], fit_tTAC[1],#/np.max(fit_tTAC[1]), \n",
    "                label='Fit Tissue TAC', \n",
    "                pl_kwargs={'alpha':1.0, 'color':'red', 'lw':2.5, 'marker':'', 'ls':'-'})\n",
    "tac_plt.gen_legend()\n",
    "plt.show()"
   ],
   "outputs": []
  },
  {
   "cell_type": "markdown",
   "id": "4f2a1e7b",
   "metadata": {},
   "source": [
    "## Testing With Randomly Generated Samples"
   ]
  },
  {
   "cell_type": "markdown",
   "id": "650bd4a3",
   "metadata": {},
   "source": [
    "### TACs With $V_B=0.0$"
   ]
  },
  {
   "cell_type": "code",
   "execution_count": 92,
   "id": "3b9b82d7",
   "metadata": {
    "ExecuteTime": {
     "end_time": "2024-05-23T19:18:33.295293Z",
     "start_time": "2024-05-23T19:18:24.835668Z"
    }
   },
   "source": [
    "one_tcm_rand_samples_vb0 = pet_test.generate_random_parameter_samples(num_samples=NUM_SAMPLES, \n",
    "                                                                      num_params=2, \n",
    "                                                                      hi=(0.5, 0.5),\n",
    "                                                                      lo=0.0)\n",
    "one_tcm_fits_vb0 = np.zeros_like(one_tcm_rand_samples_vb0)\n",
    "\n",
    "tcm_func = pet_tcm.generate_tac_1tcm_c1_from_tac\n",
    "_pTAC = pTAC.copy()\n",
    "\n",
    "for t_id, t_params in enumerate(one_tcm_rand_samples_vb0):\n",
    "    test_tTAC = tcm_func(*_pTAC, *t_params)\n",
    "    test_tTAC[1] = pet_test.add_gaussian_noise_to_tac_based_on_max(test_tTAC[1], scale=0.05)\n",
    "    \n",
    "    test_fit = pet_fit.TACFitterWithoutBloodVolume(pTAC=_pTAC, \n",
    "                                                   tTAC=test_tTAC, \n",
    "                                                   tcm_func=tcm_func, \n",
    "                                                   resample_num=512,\n",
    "                                                   aif_fit_thresh_in_mins=30.0)\n",
    "    test_fit.run_fit()\n",
    "    fit_params = test_fit.fit_results[0]\n",
    "    \n",
    "    one_tcm_fits_vb0[t_id] = fit_params"
   ],
   "outputs": []
  },
  {
   "cell_type": "markdown",
   "id": "bdacdc98",
   "metadata": {},
   "source": [
    "#### Scatter Plot, Bland-Altman Plot, and Ratio Bland-Altman Plot"
   ]
  },
  {
   "cell_type": "code",
   "execution_count": 91,
   "id": "58312f0f",
   "metadata": {
    "ExecuteTime": {
     "end_time": "2024-05-23T19:18:08.029874Z",
     "start_time": "2024-05-23T19:18:07.636561Z"
    }
   },
   "source": [
    "fig_size = [13 / 1.75, 13 / 1.75/2.]\n",
    "\n",
    "myFig, myAx = plt.subplots(1, 2, figsize=fig_size, \n",
    "                           constrained_layout=True, dpi=72, \n",
    "                           linewidth=3.0, edgecolor='k')\n",
    "\n",
    "pet_test.scatter_with_regression_figure(axes=myAx, \n",
    "                                        fit_values=one_tcm_fits_vb0, \n",
    "                                        true_values=one_tcm_rand_samples_vb0,\n",
    "                                        ax_titles=[r'$\\mathbf{K_1}$', \n",
    "                                                   r'$\\mathbf{k_2}$'],\n",
    "                                        sca_kwargs=dict(s=10, color='red'))\n",
    "myFig.suptitle(\"Scatter Plot With Regression\")\n",
    "plt.show()\n",
    "for fig_title, fig_func in zip([\"Bland-Altman Plot\", \"Ratio Bland-Altman Plot\"],\n",
    "    [pet_test.bland_atlman_figure, pet_test.ratio_bland_atlman_figure]):\n",
    "    \n",
    "    myFig, myAx = plt.subplots(1, 2, figsize=fig_size, \n",
    "                               constrained_layout=True, dpi=72, \n",
    "                               linewidth=3.0, edgecolor='k')\n",
    "    \n",
    "    fig_func(axes=myAx, \n",
    "             fit_values=one_tcm_fits_vb0, \n",
    "             true_values=one_tcm_rand_samples_vb0,\n",
    "             ax_titles=[r'$\\mathbf{K_1}$', \n",
    "                        r'$\\mathbf{k_2}$'],\n",
    "             bland_kwargs=dict(ms=10, color='blue', zorder=10), sca_kwargs=dict(s=10, color='red'))\n",
    "    myFig.suptitle(fig_title)\n",
    "    plt.show()"
   ],
   "outputs": []
  },
  {
   "cell_type": "markdown",
   "id": "6bcdd602",
   "metadata": {},
   "source": [
    "### TACs With $V_B\\leq0.05$"
   ]
  },
  {
   "cell_type": "code",
   "execution_count": 59,
   "id": "501c387f",
   "metadata": {
    "ExecuteTime": {
     "end_time": "2024-05-23T16:30:16.524375Z",
     "start_time": "2024-05-23T16:30:03.030060Z"
    }
   },
   "source": [
    "one_tcm_rand_samples = pet_test.generate_random_parameter_samples(num_samples=NUM_SAMPLES, \n",
    "                                                                  num_params=3, \n",
    "                                                                  hi=(0.5, 0.5, 0.05), \n",
    "                                                                  lo=0.0)\n",
    "one_tcm_fits = np.zeros_like(one_tcm_rand_samples)\n",
    "\n",
    "tcm_func = pet_tcm.generate_tac_1tcm_c1_from_tac\n",
    "_pTAC = pTAC.copy()\n",
    "\n",
    "for t_id, t_params in enumerate(one_tcm_rand_samples):\n",
    "    test_tTAC = tcm_func(*_pTAC, *t_params)\n",
    "    test_tTAC[1] = pet_test.add_gaussian_noise_to_tac_based_on_max(test_tTAC[1], scale=0.05)\n",
    "    \n",
    "    test_fit = pet_fit.TACFitter(pTAC=_pTAC, \n",
    "                                 tTAC=test_tTAC, \n",
    "                                 tcm_func=tcm_func, \n",
    "                                 resample_num=512)\n",
    "    \n",
    "    test_fit.run_fit()\n",
    "    fit_params = test_fit.fit_results[0]\n",
    "    \n",
    "    one_tcm_fits[t_id] = fit_params"
   ],
   "outputs": []
  },
  {
   "cell_type": "markdown",
   "id": "38f54f2b",
   "metadata": {},
   "source": [
    "#### Scatter Plot, Bland-Altman Plot, and Ratio Bland-Altman Plot"
   ]
  },
  {
   "cell_type": "code",
   "execution_count": 60,
   "id": "45d9dbda",
   "metadata": {
    "ExecuteTime": {
     "end_time": "2024-05-23T16:30:17.220256Z",
     "start_time": "2024-05-23T16:30:16.525643Z"
    }
   },
   "source": [
    "fig_size = [13 / 1.75, 13 / 1.75]\n",
    "\n",
    "myFig, myAx = plt.subplots(2, 2, figsize=fig_size, \n",
    "                           constrained_layout=True, dpi=72, \n",
    "                           linewidth=3.0, edgecolor='k')\n",
    "\n",
    "pet_test.scatter_with_regression_figure(axes=myAx, \n",
    "                                        fit_values=one_tcm_fits, \n",
    "                                        true_values=one_tcm_rand_samples,\n",
    "                                        ax_titles=[r'$\\mathbf{K_1}$', \n",
    "                                                   r'$\\mathbf{k_2}$', \n",
    "                                                   r'$\\mathbf{V_B}$'],\n",
    "                                        sca_kwargs=dict(s=10, color='red'))\n",
    "myFig.suptitle(\"Scatter Plot With Regression\")\n",
    "myAx.flatten()[-1].axis('off')\n",
    "plt.show()\n",
    "for fig_title, fig_func in zip([\"Bland-Altman Plot\", \"Ratio Bland-Altman Plot\"],\n",
    "    [pet_test.bland_atlman_figure, pet_test.ratio_bland_atlman_figure]):\n",
    "    \n",
    "    myFig, myAx = plt.subplots(2, 2, figsize=fig_size, \n",
    "                               constrained_layout=True, dpi=72, \n",
    "                               linewidth=3.0, edgecolor='k')\n",
    "    \n",
    "    fig_func(axes=myAx, \n",
    "             fit_values=one_tcm_fits, \n",
    "             true_values=one_tcm_rand_samples,\n",
    "             ax_titles=[r'$\\mathbf{K_1}$', \n",
    "                        r'$\\mathbf{k_2}$', \n",
    "                        r'$\\mathbf{V_B}$'],\n",
    "             bland_kwargs=dict(ms=10, color='blue', zorder=10), sca_kwargs=dict(s=10, color='red'))\n",
    "    myFig.suptitle(fig_title)\n",
    "    myAx.flatten()[-1].axis('off')\n",
    "    plt.show()"
   ],
   "outputs": []
  },
  {
   "cell_type": "markdown",
   "id": "e6bcee1f",
   "metadata": {},
   "source": [
    "# Irreversible 2TCM"
   ]
  },
  {
   "cell_type": "markdown",
   "id": "d235b561",
   "metadata": {},
   "source": [
    "## Simple Visual Check"
   ]
  },
  {
   "cell_type": "markdown",
   "id": "47e9385d",
   "metadata": {},
   "source": [
    "### Setting $V_B=0.05$"
   ]
  },
  {
   "cell_type": "code",
   "execution_count": 85,
   "id": "b4b6e4f9",
   "metadata": {
    "ExecuteTime": {
     "end_time": "2024-05-23T19:14:59.076130Z",
     "start_time": "2024-05-23T19:14:58.832233Z"
    }
   },
   "source": [
    "tcm_func    = pet_tcm.generate_tac_2tcm_with_k4zero_cpet_from_tac\n",
    "test_params = {'k1':0.4, 'k2':0.6, 'k3':0.1, 'vb':0.05}\n",
    "test_tTAC   = tcm_func(*pTAC, **test_params)\n",
    "test_tTAC[1] = pet_test.add_gaussian_noise_to_tac_based_on_max(test_tTAC[1], scale=0.05)\n",
    "\n",
    "test_fit = pet_fit.TACFitter(pTAC=pTAC, \n",
    "                             tTAC=test_tTAC, \n",
    "                             tcm_func=tcm_func,\n",
    "                             resample_num=512)\n",
    "test_fit.run_fit()\n",
    "fit_params = test_fit.fit_results[0]\n",
    "print(fit_params.round(3))\n",
    "fit_tTAC = tcm_func(*pTAC, *fit_params)\n",
    "\n",
    "tac_plt = TACPlots()\n",
    "tac_plt.add_tac(pTAC[0], pTAC[1]/np.max(pTAC[1])*np.max(fit_tTAC[1]), \n",
    "                label='Input Function (Rescaled)', \n",
    "                pl_kwargs={'alpha':0.5, 'color':'blue', 'lw':4, 'marker':''})\n",
    "tac_plt.add_tac(test_tTAC[0], test_tTAC[1],#/np.max(test_tTAC[1]), \n",
    "                label='Test Tissue TAC', \n",
    "                pl_kwargs={'alpha':0.95, 'color':'black', 'lw':2, 'marker':'o', 'ls':'', 'mec':'k'})\n",
    "tac_plt.add_tac(fit_tTAC[0], fit_tTAC[1],#/np.max(fit_tTAC[1]), \n",
    "                label='Fit Tissue TAC', \n",
    "                pl_kwargs={'alpha':1.0, 'color':'red', 'lw':2.5, 'marker':'', 'ls':'-'})\n",
    "tac_plt.gen_legend()\n",
    "plt.show()"
   ],
   "outputs": []
  },
  {
   "cell_type": "markdown",
   "id": "371ea309",
   "metadata": {},
   "source": [
    "### Setting $V_B=0.0$"
   ]
  },
  {
   "cell_type": "code",
   "execution_count": 86,
   "id": "b2538ffc",
   "metadata": {
    "ExecuteTime": {
     "end_time": "2024-05-23T19:15:22.480398Z",
     "start_time": "2024-05-23T19:15:22.240711Z"
    }
   },
   "source": [
    "tcm_func    = pet_tcm.generate_tac_2tcm_with_k4zero_cpet_from_tac\n",
    "test_params = {'k1':0.4, 'k2':0.6, 'k3':0.1, 'vb':0.00}\n",
    "test_tTAC   = tcm_func(*pTAC, **test_params)\n",
    "test_tTAC[1] = pet_test.add_gaussian_noise_to_tac_based_on_max(test_tTAC[1], scale=0.05)\n",
    "\n",
    "test_fit = pet_fit.TACFitterWithoutBloodVolume(pTAC=pTAC, \n",
    "                                               tTAC=test_tTAC, \n",
    "                                               tcm_func=tcm_func,\n",
    "                                               resample_num=512)\n",
    "test_fit.run_fit()\n",
    "fit_params = test_fit.fit_results[0]\n",
    "print(fit_params.round(3))\n",
    "fit_tTAC = tcm_func(*pTAC, *fit_params)\n",
    "\n",
    "tac_plt = TACPlots()\n",
    "tac_plt.add_tac(pTAC[0], pTAC[1]/np.max(pTAC[1])*np.max(fit_tTAC[1]), \n",
    "                label='Input Function (Rescaled)', \n",
    "                pl_kwargs={'alpha':0.5, 'color':'blue', 'lw':4, 'marker':''})\n",
    "tac_plt.add_tac(test_tTAC[0], test_tTAC[1],#/np.max(test_tTAC[1]), \n",
    "                label='Test Tissue TAC', \n",
    "                pl_kwargs={'alpha':0.95, 'color':'black', 'lw':2, 'marker':'o', 'ls':'', 'mec':'k'})\n",
    "tac_plt.add_tac(fit_tTAC[0], fit_tTAC[1],#/np.max(fit_tTAC[1]), \n",
    "                label='Fit Tissue TAC', \n",
    "                pl_kwargs={'alpha':1.0, 'color':'red', 'lw':2.5, 'marker':'', 'ls':'-'})\n",
    "tac_plt.gen_legend()\n",
    "plt.show()"
   ],
   "outputs": []
  },
  {
   "cell_type": "markdown",
   "id": "94d97892",
   "metadata": {},
   "source": [
    "## Testing With Randomly Generated Samples"
   ]
  },
  {
   "cell_type": "markdown",
   "id": "ff7677e3",
   "metadata": {
    "ExecuteTime": {
     "end_time": "2024-05-22T21:59:01.360732Z",
     "start_time": "2024-05-22T21:59:01.356844Z"
    }
   },
   "source": [
    "### TACs With $V_B=0.0$\n",
    "\n"
   ]
  },
  {
   "cell_type": "code",
   "execution_count": 95,
   "id": "9dc5f949",
   "metadata": {
    "ExecuteTime": {
     "end_time": "2024-05-23T19:28:19.634855Z",
     "start_time": "2024-05-23T19:27:49.195594Z"
    }
   },
   "source": [
    "two_tcm_k4zero_random_samples_vb0 = pet_test.generate_random_parameter_samples(num_samples=NUM_SAMPLES, \n",
    "                                                                               num_params=3,\n",
    "                                                                               hi=(0.5, 0.5, 0.5), \n",
    "                                                                               lo=0.0)\n",
    "two_tcm_k4zero_fits_vb0 = np.zeros_like(two_tcm_k4zero_random_samples_vb0)\n",
    "\n",
    "tcm_func = pet_tcm.generate_tac_2tcm_with_k4zero_cpet_from_tac\n",
    "_pTAC = pTAC.copy()\n",
    "\n",
    "for t_id, t_params in enumerate(two_tcm_k4zero_random_samples_vb0):\n",
    "    test_tTAC = tcm_func(*_pTAC, *t_params)\n",
    "    test_tTAC[1] = pet_test.add_gaussian_noise_to_tac_based_on_max(test_tTAC[1], scale=0.05)\n",
    "    \n",
    "    test_fit = pet_fit.TACFitterWithoutBloodVolume(pTAC=_pTAC, \n",
    "                                                   tTAC=test_tTAC, \n",
    "                                                   tcm_func=tcm_func, \n",
    "                                                   resample_num=512)\n",
    "    test_fit.run_fit()\n",
    "    fit_params = test_fit.fit_results[0]\n",
    "    \n",
    "    two_tcm_k4zero_fits_vb0[t_id] = fit_params"
   ],
   "outputs": []
  },
  {
   "cell_type": "markdown",
   "id": "d069c021",
   "metadata": {},
   "source": [
    "#### Scatter Plot, Bland-Altman Plot, and Ratio Bland-Altman Plot"
   ]
  },
  {
   "cell_type": "code",
   "execution_count": 96,
   "id": "53bae081",
   "metadata": {
    "ExecuteTime": {
     "end_time": "2024-05-23T19:28:22.872355Z",
     "start_time": "2024-05-23T19:28:22.268605Z"
    }
   },
   "source": [
    "fig_size = [13 / 1.75, 13 / 1.75]\n",
    "\n",
    "myFig, myAx = plt.subplots(2, 2, figsize=fig_size, \n",
    "                           constrained_layout=True, dpi=72, \n",
    "                           linewidth=3.0, edgecolor='k')\n",
    "\n",
    "pet_test.scatter_with_regression_figure(axes=myAx, \n",
    "                                        fit_values=two_tcm_k4zero_fits_vb0, \n",
    "                                        true_values=two_tcm_k4zero_random_samples_vb0,\n",
    "                                        ax_titles=[r'$\\mathbf{K_1}$', \n",
    "                                                   r'$\\mathbf{k_2}$', \n",
    "                                                   r'$\\mathbf{k_3}$'],\n",
    "                                        sca_kwargs=dict(s=10, color='red'))\n",
    "myFig.suptitle(\"Scatter Plot With Regression\")\n",
    "myAx.flatten()[-1].axis('off')\n",
    "plt.show()\n",
    "for fig_title, fig_func in zip([\"Bland-Altman Plot\", \"Ratio Bland-Altman Plot\"],\n",
    "    [pet_test.bland_atlman_figure, pet_test.ratio_bland_atlman_figure]):\n",
    "    \n",
    "    myFig, myAx = plt.subplots(2, 2, figsize=fig_size, \n",
    "                               constrained_layout=True, dpi=72, \n",
    "                               linewidth=3.0, edgecolor='k')\n",
    "    \n",
    "    fig_func(axes=myAx, \n",
    "             fit_values=two_tcm_k4zero_fits_vb0, \n",
    "             true_values=two_tcm_k4zero_random_samples_vb0,\n",
    "             ax_titles=[r'$\\mathbf{K_1}$', r'$\\mathbf{k_2}$', r'$\\mathbf{k_3}$'],\n",
    "             bland_kwargs=dict(ms=10, color='blue', zorder=10), sca_kwargs=dict(s=10, color='red'))\n",
    "    myFig.suptitle(fig_title)\n",
    "    myAx.flatten()[-1].axis('off')\n",
    "    plt.show()"
   ],
   "outputs": []
  },
  {
   "cell_type": "markdown",
   "id": "da1c5622",
   "metadata": {},
   "source": [
    "### TACs With $V_b\\leq0.05$"
   ]
  },
  {
   "cell_type": "code",
   "execution_count": 97,
   "id": "e9885f0c",
   "metadata": {
    "ExecuteTime": {
     "end_time": "2024-05-23T19:29:25.405389Z",
     "start_time": "2024-05-23T19:28:57.338706Z"
    }
   },
   "source": [
    "two_tcm_k4zero_random_samples = pet_test.generate_random_parameter_samples(num_samples=NUM_SAMPLES,\n",
    "                                                                           num_params=4,\n",
    "                                                                           hi=(0.5, 0.5, 0.5, 0.05), \n",
    "                                                                           lo=0.0)\n",
    "two_tcm_k4zero_fits = np.zeros_like(two_tcm_k4zero_random_samples)\n",
    "\n",
    "tcm_func = pet_tcm.generate_tac_2tcm_with_k4zero_cpet_from_tac\n",
    "_pTAC = pTAC.copy()\n",
    "\n",
    "for t_id, t_params in enumerate(two_tcm_k4zero_random_samples):\n",
    "    test_tTAC = tcm_func(*_pTAC, *t_params)\n",
    "    test_tTAC[1] = pet_test.add_gaussian_noise_to_tac_based_on_max(test_tTAC[1], scale=0.05)\n",
    "    \n",
    "    test_fit = pet_fit.TACFitter(pTAC=_pTAC, \n",
    "                                 tTAC=test_tTAC, \n",
    "                                 tcm_func=tcm_func, \n",
    "                                 resample_num=512)\n",
    "    test_fit.run_fit()\n",
    "    fit_params = test_fit.fit_results[0]\n",
    "    \n",
    "    two_tcm_k4zero_fits[t_id] = fit_params"
   ],
   "outputs": []
  },
  {
   "cell_type": "markdown",
   "id": "648dd742",
   "metadata": {},
   "source": [
    "#### Scatter Plot, Bland-Altman Plot, and Ratio Bland-Altman Plot"
   ]
  },
  {
   "cell_type": "code",
   "execution_count": 99,
   "id": "53dee590",
   "metadata": {
    "ExecuteTime": {
     "end_time": "2024-05-23T19:29:32.506468Z",
     "start_time": "2024-05-23T19:29:31.908506Z"
    }
   },
   "source": [
    "fig_size = [13 / 1.75, 13 / 1.75]\n",
    "\n",
    "myFig, myAx = plt.subplots(2, 2, figsize=fig_size, \n",
    "                           constrained_layout=True, dpi=72, \n",
    "                           linewidth=3.0, edgecolor='k')\n",
    "\n",
    "pet_test.scatter_with_regression_figure(axes=myAx, \n",
    "                                        fit_values=two_tcm_k4zero_fits, \n",
    "                                        true_values=two_tcm_k4zero_random_samples,\n",
    "                                        ax_titles=[r'$\\mathbf{K_1}$', \n",
    "                                                   r'$\\mathbf{k_2}$', \n",
    "                                                   r'$\\mathbf{k_3}$'],\n",
    "                                        sca_kwargs=dict(s=10, color='red'))\n",
    "myFig.suptitle(\"Scatter Plot With Regression\")\n",
    "myAx.flatten()[-1].axis('off')\n",
    "plt.show()\n",
    "for fig_title, fig_func in zip([\"Bland-Altman Plot\", \"Ratio Bland-Altman Plot\"],\n",
    "    [pet_test.bland_atlman_figure, pet_test.ratio_bland_atlman_figure]):\n",
    "    \n",
    "    myFig, myAx = plt.subplots(2, 2, figsize=fig_size, \n",
    "                               constrained_layout=True, dpi=72, \n",
    "                               linewidth=3.0, edgecolor='k')\n",
    "    \n",
    "    fig_func(axes=myAx, \n",
    "             fit_values=two_tcm_k4zero_fits, \n",
    "             true_values=two_tcm_k4zero_random_samples,\n",
    "             ax_titles=[r'$\\mathbf{K_1}$', r'$\\mathbf{k_2}$', r'$\\mathbf{k_3}$'],\n",
    "             bland_kwargs=dict(ms=10, color='blue', zorder=10), sca_kwargs=dict(s=10, color='red'))\n",
    "    myFig.suptitle(fig_title)\n",
    "    myAx.flatten()[-1].axis('off')\n",
    "    plt.show()"
   ],
   "outputs": []
  },
  {
   "cell_type": "markdown",
   "id": "fe972228",
   "metadata": {},
   "source": [
    "# Serial 2TCM"
   ]
  },
  {
   "cell_type": "markdown",
   "id": "5f2b2dba",
   "metadata": {},
   "source": [
    "## Simple Visual Check"
   ]
  },
  {
   "cell_type": "markdown",
   "id": "87aeef99",
   "metadata": {},
   "source": [
    "### Setting $V_B=0.05$"
   ]
  },
  {
   "cell_type": "code",
   "execution_count": 87,
   "id": "3bcda4a6",
   "metadata": {
    "ExecuteTime": {
     "end_time": "2024-05-23T19:15:38.703326Z",
     "start_time": "2024-05-23T19:15:38.455063Z"
    }
   },
   "source": [
    "tcm_func    = pet_tcm.generate_tac_serial_2tcm_cpet_from_tac\n",
    "test_params = {'k1':0.4, 'k2':0.6, 'k3':0.1, 'k4':0.02, 'vb':0.05}\n",
    "test_tTAC   = tcm_func(*pTAC, **test_params)\n",
    "test_tTAC[1] = pet_test.add_gaussian_noise_to_tac_based_on_max(test_tTAC[1], scale=0.05)\n",
    "\n",
    "test_fit = pet_fit.TACFitter(pTAC=pTAC, \n",
    "                             tTAC=test_tTAC, \n",
    "                             tcm_func=tcm_func,\n",
    "                             resample_num=512)\n",
    "test_fit.run_fit()\n",
    "fit_params = test_fit.fit_results[0]\n",
    "print(fit_params.round(3))\n",
    "fit_tTAC = tcm_func(*pTAC, *fit_params)\n",
    "\n",
    "tac_plt = TACPlots()\n",
    "tac_plt.add_tac(pTAC[0], pTAC[1]/np.max(pTAC[1])*np.max(fit_tTAC[1]), \n",
    "                label='Input Function (Rescaled)', \n",
    "                pl_kwargs={'alpha':0.5, 'color':'blue', 'lw':4, 'marker':''})\n",
    "tac_plt.add_tac(test_tTAC[0], test_tTAC[1],#/np.max(test_tTAC[1]), \n",
    "                label='Test Tissue TAC', \n",
    "                pl_kwargs={'alpha':0.95, 'color':'black', 'lw':2, 'marker':'o', 'ls':'', 'mec':'k'})\n",
    "tac_plt.add_tac(fit_tTAC[0], fit_tTAC[1],#/np.max(fit_tTAC[1]), \n",
    "                label='Fit Tissue TAC', \n",
    "                pl_kwargs={'alpha':1.0, 'color':'red', 'lw':2.5, 'marker':'', 'ls':'-'})\n",
    "tac_plt.gen_legend()\n",
    "plt.show()"
   ],
   "outputs": []
  },
  {
   "cell_type": "markdown",
   "id": "07ace7c0",
   "metadata": {},
   "source": [
    "### Setting $V_B=0.0$"
   ]
  },
  {
   "cell_type": "code",
   "execution_count": 88,
   "id": "6ce34b50",
   "metadata": {
    "ExecuteTime": {
     "end_time": "2024-05-23T19:15:45.942625Z",
     "start_time": "2024-05-23T19:15:45.700186Z"
    }
   },
   "source": [
    "tcm_func    = pet_tcm.generate_tac_serial_2tcm_cpet_from_tac\n",
    "test_params = {'k1':0.4, 'k2':0.6, 'k3':0.1, 'k4':0.02, 'vb':0.0}\n",
    "test_tTAC   = tcm_func(*pTAC, **test_params)\n",
    "test_tTAC[1] = pet_test.add_gaussian_noise_to_tac_based_on_max(test_tTAC[1], scale=0.05)\n",
    "\n",
    "test_fit = pet_fit.TACFitterWithoutBloodVolume(pTAC=pTAC, \n",
    "                                               tTAC=test_tTAC, \n",
    "                                               tcm_func=tcm_func,\n",
    "                                               resample_num=512)\n",
    "test_fit.run_fit()\n",
    "fit_params = test_fit.fit_results[0]\n",
    "print(fit_params.round(3))\n",
    "fit_tTAC = tcm_func(*pTAC, *fit_params)\n",
    "\n",
    "tac_plt = TACPlots()\n",
    "tac_plt.add_tac(pTAC[0], pTAC[1]/np.max(pTAC[1])*np.max(fit_tTAC[1]), \n",
    "                label='Input Function (Rescaled)', \n",
    "                pl_kwargs={'alpha':0.5, 'color':'blue', 'lw':4, 'marker':''})\n",
    "tac_plt.add_tac(test_tTAC[0], test_tTAC[1],#/np.max(test_tTAC[1]), \n",
    "                label='Test Tissue TAC', \n",
    "                pl_kwargs={'alpha':0.95, 'color':'black', 'lw':2, 'marker':'o', 'ls':'', 'mec':'k'})\n",
    "tac_plt.add_tac(fit_tTAC[0], fit_tTAC[1],#/np.max(fit_tTAC[1]), \n",
    "                label='Fit Tissue TAC', \n",
    "                pl_kwargs={'alpha':1.0, 'color':'red', 'lw':2.5, 'marker':'', 'ls':'-'})\n",
    "tac_plt.gen_legend()\n",
    "plt.show()"
   ],
   "outputs": []
  },
  {
   "cell_type": "markdown",
   "id": "883805f8",
   "metadata": {},
   "source": [
    "## Testing With Randomly Generated Samples"
   ]
  },
  {
   "cell_type": "markdown",
   "id": "0a3a59a3",
   "metadata": {
    "ExecuteTime": {
     "end_time": "2024-05-22T21:59:01.360732Z",
     "start_time": "2024-05-22T21:59:01.356844Z"
    }
   },
   "source": [
    "### TACs With $V_B=0.0$\n",
    "\n"
   ]
  },
  {
   "cell_type": "code",
   "execution_count": 67,
   "id": "4dc1b0fb",
   "metadata": {
    "ExecuteTime": {
     "end_time": "2024-05-23T16:34:54.178752Z",
     "start_time": "2024-05-23T16:32:26.653131Z"
    }
   },
   "source": [
    "two_tcm_serial_random_samples_vb0 = pet_test.generate_random_parameter_samples(num_samples=NUM_SAMPLES, \n",
    "                                                                               num_params=4,\n",
    "                                                                               hi=(0.5, 0.5, 0.5, 0.5), \n",
    "                                                                               lo=0.0)\n",
    "two_tcm_serial_fits_vb0 = np.zeros_like(two_tcm_serial_random_samples_vb0)\n",
    "\n",
    "tcm_func = pet_tcm.generate_tac_serial_2tcm_cpet_from_tac\n",
    "_pTAC = pTAC.copy()\n",
    "\n",
    "for t_id, t_params in enumerate(two_tcm_serial_random_samples_vb0):\n",
    "    test_tTAC = tcm_func(*_pTAC, *t_params)\n",
    "    test_tTAC[1] = pet_test.add_gaussian_noise_to_tac_based_on_max(test_tTAC[1], scale=0.05)\n",
    "    \n",
    "    test_fit = pet_fit.TACFitterWithoutBloodVolume(pTAC=_pTAC, \n",
    "                                                   tTAC=test_tTAC, \n",
    "                                                   tcm_func=tcm_func, \n",
    "                                                   resample_num=512)\n",
    "    test_fit.run_fit()\n",
    "    fit_params = test_fit.fit_results[0]\n",
    "    \n",
    "    two_tcm_serial_fits_vb0[t_id] = fit_params"
   ],
   "outputs": []
  },
  {
   "cell_type": "markdown",
   "id": "00c1b226",
   "metadata": {},
   "source": [
    "#### Scatter Plot, Bland-Altman Plot, and Ratio Bland-Altman Plot"
   ]
  },
  {
   "cell_type": "code",
   "execution_count": 68,
   "id": "9328f666",
   "metadata": {
    "ExecuteTime": {
     "end_time": "2024-05-23T16:34:54.886496Z",
     "start_time": "2024-05-23T16:34:54.179738Z"
    }
   },
   "source": [
    "fig_size = [13 / 1.75, 13 / 1.75]\n",
    "\n",
    "myFig, myAx = plt.subplots(2, 2, figsize=fig_size, \n",
    "                           constrained_layout=True, dpi=72, \n",
    "                           linewidth=3.0, edgecolor='k')\n",
    "\n",
    "pet_test.scatter_with_regression_figure(axes=myAx, \n",
    "                                        fit_values=two_tcm_serial_fits_vb0, \n",
    "                                        true_values=two_tcm_serial_random_samples_vb0,\n",
    "                                        ax_titles=[r'$\\mathbf{K_1}$', \n",
    "                                                   r'$\\mathbf{k_2}$', \n",
    "                                                   r'$\\mathbf{k_3}$', \n",
    "                                                   r'$\\mathbf{k_4}$'],\n",
    "                                        sca_kwargs=dict(s=10, color='red'))\n",
    "myFig.suptitle(\"Scatter Plot With Regression\")\n",
    "# myAx.flatten()[-1].axis('off')\n",
    "plt.show()\n",
    "for fig_title, fig_func in zip([\"Bland-Altman Plot\", \"Ratio Bland-Altman Plot\"],\n",
    "    [pet_test.bland_atlman_figure, pet_test.ratio_bland_atlman_figure]):\n",
    "    \n",
    "    myFig, myAx = plt.subplots(2, 2, figsize=fig_size, \n",
    "                               constrained_layout=True, dpi=72, \n",
    "                               linewidth=3.0, edgecolor='k')\n",
    "    \n",
    "    fig_func(axes=myAx, \n",
    "             fit_values=two_tcm_serial_fits_vb0, \n",
    "             true_values=two_tcm_serial_random_samples_vb0,\n",
    "             ax_titles=[r'$\\mathbf{K_1}$', \n",
    "                        r'$\\mathbf{k_2}$', \n",
    "                        r'$\\mathbf{k_3}$', \n",
    "                        r'$\\mathbf{k_4}$'],\n",
    "             bland_kwargs=dict(ms=10, color='blue', zorder=10), \n",
    "             sca_kwargs=dict(s=10, color='red'))\n",
    "    myFig.suptitle(fig_title)\n",
    "#     myAx.flatten()[-1].axis('off')\n",
    "    plt.show()"
   ],
   "outputs": []
  },
  {
   "cell_type": "markdown",
   "id": "213ac435",
   "metadata": {},
   "source": [
    "### TACs With $V_b\\leq0.05$"
   ]
  },
  {
   "cell_type": "code",
   "execution_count": 69,
   "id": "9ccab4f4",
   "metadata": {
    "ExecuteTime": {
     "end_time": "2024-05-23T16:38:12.459782Z",
     "start_time": "2024-05-23T16:34:54.887398Z"
    }
   },
   "source": [
    "two_tcm_serial_random_samples = pet_test.generate_random_parameter_samples(num_samples=NUM_SAMPLES, \n",
    "                                                                           num_params=5,\n",
    "                                                                           hi=(0.5, 0.5, 0.5, 0.5, 0.05), \n",
    "                                                                           lo=0.0)\n",
    "two_tcm_serial_fits = np.zeros_like(two_tcm_serial_random_samples)\n",
    "\n",
    "tcm_func = pet_tcm.generate_tac_serial_2tcm_cpet_from_tac\n",
    "_pTAC = pTAC.copy()\n",
    "\n",
    "for t_id, t_params in enumerate(two_tcm_serial_random_samples):\n",
    "    test_tTAC = tcm_func(*_pTAC, *t_params)\n",
    "    test_tTAC[1] = pet_test.add_gaussian_noise_to_tac_based_on_max(test_tTAC[1], scale=0.05)\n",
    "    \n",
    "    test_fit = pet_fit.TACFitter(pTAC=_pTAC, \n",
    "                                 tTAC=test_tTAC, \n",
    "                                 tcm_func=tcm_func, \n",
    "                                 resample_num=512)\n",
    "    test_fit.run_fit()\n",
    "    fit_params = test_fit.fit_results[0]\n",
    "    \n",
    "    two_tcm_serial_fits[t_id] = fit_params"
   ],
   "outputs": []
  },
  {
   "cell_type": "markdown",
   "id": "ae884fc1",
   "metadata": {},
   "source": [
    "#### Scatter Plot, Bland-Altman Plot, and Ratio Bland-Altman Plot"
   ]
  },
  {
   "cell_type": "code",
   "execution_count": 70,
   "id": "259d775e",
   "metadata": {
    "ExecuteTime": {
     "end_time": "2024-05-23T16:38:13.421384Z",
     "start_time": "2024-05-23T16:38:12.461850Z"
    }
   },
   "source": [
    "fig_size = [13 / 1.25, 13 / 1.75]\n",
    "\n",
    "myFig, myAx = plt.subplots(2, 3, figsize=fig_size, \n",
    "                           constrained_layout=True, dpi=72, \n",
    "                           linewidth=3.0, edgecolor='k')\n",
    "\n",
    "pet_test.scatter_with_regression_figure(axes=myAx, \n",
    "                                        fit_values=two_tcm_serial_fits, \n",
    "                                        true_values=two_tcm_serial_random_samples,\n",
    "                                        ax_titles=[r'$\\mathbf{K_1}$', \n",
    "                                                   r'$\\mathbf{k_2}$', \n",
    "                                                   r'$\\mathbf{k_3}$', \n",
    "                                                   r'$\\mathbf{k_4}$',\n",
    "                                                   r'$\\mathbf{V_B}$'],\n",
    "                                        sca_kwargs=dict(s=10, color='red'))\n",
    "myFig.suptitle(\"Scatter Plot With Regression\")\n",
    "myAx.flatten()[-1].axis('off')\n",
    "plt.show()\n",
    "for fig_title, fig_func in zip([\"Bland-Altman Plot\", \"Ratio Bland-Altman Plot\"],\n",
    "    [pet_test.bland_atlman_figure, pet_test.ratio_bland_atlman_figure]):\n",
    "    \n",
    "    myFig, myAx = plt.subplots(2, 3, figsize=fig_size, \n",
    "                               constrained_layout=True, dpi=72, \n",
    "                               linewidth=3.0, edgecolor='k')\n",
    "    \n",
    "    fig_func(axes=myAx, \n",
    "             fit_values=two_tcm_serial_fits, \n",
    "             true_values=two_tcm_serial_random_samples,\n",
    "             ax_titles=[r'$\\mathbf{K_1}$', \n",
    "                        r'$\\mathbf{k_2}$', \n",
    "                        r'$\\mathbf{k_3}$', \n",
    "                        r'$\\mathbf{k_4}$',\n",
    "                        r'$\\mathbf{V_B}$'],\n",
    "             bland_kwargs=dict(ms=10, color='blue', zorder=10), \n",
    "             sca_kwargs=dict(s=10, color='red'))\n",
    "    myFig.suptitle(fig_title)\n",
    "    myAx.flatten()[-1].axis('off')\n",
    "    plt.show()"
   ],
   "outputs": []
  },
  {
   "cell_type": "code",
   "execution_count": null,
   "id": "af10ffbf",
   "metadata": {},
   "source": [],
   "outputs": []
  }
 ],
 "metadata": {
  "kernelspec": {
   "display_name": "Python 3 (ipykernel)",
   "language": "python",
   "name": "python3"
  },
  "language_info": {
   "codemirror_mode": {
    "name": "ipython",
    "version": 3
   },
   "file_extension": ".py",
   "mimetype": "text/x-python",
   "name": "python",
   "nbconvert_exporter": "python",
   "pygments_lexer": "ipython3",
   "version": "3.9.6"
  },
  "toc": {
   "base_numbering": 1,
   "nav_menu": {},
   "number_sections": true,
   "sideBar": false,
   "skip_h1_title": false,
   "title_cell": "Table of Contents",
   "title_sidebar": "Contents",
   "toc_cell": false,
   "toc_position": {
    "height": "669px",
    "left": "136px",
    "top": "111.141px",
    "width": "533px"
   },
   "toc_section_display": true,
   "toc_window_display": true
  }
 },
 "nbformat": 4,
 "nbformat_minor": 5
}
