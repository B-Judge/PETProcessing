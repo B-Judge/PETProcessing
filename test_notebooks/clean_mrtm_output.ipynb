{
 "cells": [
  {
   "cell_type": "markdown",
   "metadata": {},
   "source": [
    "Method to clean up the JSON outputs of regional fitting into a TSV"
   ]
  },
  {
   "cell_type": "code",
   "execution_count": 2,
   "metadata": {},
   "outputs": [],
   "source": [
    "import pandas as pd\n",
    "import numpy as np\n",
    "import json\n",
    "import glob\n",
    "import os\n",
    "import pathlib"
   ]
  },
  {
   "cell_type": "code",
   "execution_count": 3,
   "metadata": {},
   "outputs": [],
   "source": [
    "def safe_load_meta(input_metadata_file: str) -> dict:\n",
    "    \"\"\"\n",
    "    Function to load a general metadata json file.\n",
    "\n",
    "    Args:\n",
    "        input_metadata_file (str): Metadata file to be read.\n",
    "\n",
    "    Returns:\n",
    "        metadata (dict): The metadata in dictionary format.\n",
    "    \"\"\"\n",
    "    if not os.path.exists(input_metadata_file):\n",
    "        raise FileNotFoundError(f\"Metadata file {input_metadata_file} not found. Does it have a different path?\")\n",
    "\n",
    "    with open(input_metadata_file, 'r', encoding='utf-8') as meta_file:\n",
    "        metadata = json.load(meta_file)\n",
    "    return metadata"
   ]
  },
  {
   "cell_type": "code",
   "execution_count": 4,
   "metadata": {},
   "outputs": [],
   "source": [
    "ex_meta = safe_load_meta('/export/scratch1/PETPAL/VATDYS/derivatives/petpal/sub-PIB10081/ses-VYr6/km/sub-PIB10081_ses-VYr6_model-mrtm1_km_desc-mrtm_seg-Leftputamen_fitprops.json')"
   ]
  },
  {
   "cell_type": "code",
   "execution_count": 5,
   "metadata": {},
   "outputs": [],
   "source": [
    "def copy_metadata_sans_list(metadata: dict) -> dict:\n",
    "    \"\"\"\n",
    "    Given a metadata dictionary, return an identical dictionary with any list-like data replaced\n",
    "    with individual values. Useful when converting several JSON files into a TSV file.\n",
    "\n",
    "    Args:\n",
    "        metadata (dict): The metadata file that may contain lists of data.\n",
    "\n",
    "    Returns:\n",
    "        metadata_for_tsv (dict): The same metadata with list-like data replaced with individual values.\n",
    "\n",
    "    Note:\n",
    "        List-like data is replaced by renaming the key it appears in with ordinal values. E.g. if metadata\n",
    "        contains a key named ``FitPars`` with value [4,6] then the function would create two new keys,\n",
    "        FitPars_1 and Fit_Pars2 with values 4 and 6 respectively.\n",
    "    \"\"\"\n",
    "    metadata_for_tsv = {}\n",
    "    for key in metadata:\n",
    "        data = metadata[key]\n",
    "        if isinstance(data,list):\n",
    "            for i,val in enumerate(data):\n",
    "                key_new = f'{key}_{i+1}'\n",
    "                metadata_for_tsv[key_new] = val\n",
    "        else:\n",
    "            metadata_for_tsv[key] = metadata[key]\n",
    "    return metadata_for_tsv"
   ]
  },
  {
   "cell_type": "code",
   "execution_count": 6,
   "metadata": {},
   "outputs": [
    {
     "data": {
      "text/plain": [
       "{'BP': 4.17272,\n",
       " 'k2Prime': 0.01277,\n",
       " 'ThresholdTime': 10,\n",
       " 'StartFrameTime': 10.82,\n",
       " 'EndFrameTime': 115.82,\n",
       " 'NumberOfPointsFit': 22,\n",
       " 'RawFits_1': 0.03669,\n",
       " 'RawFits_2': -0.00709,\n",
       " 'RawFits_3': 2.87172,\n",
       " 'SimulatedFits': None,\n",
       " 'FilePathRTAC': '/export/scratch1/PETPAL/VATDYS/derivatives/petpal/sub-PIB10081/ses-VYr6/tacs/sub-PIB10081_ses-VYr6_seg-WMRef_tac.tsv',\n",
       " 'FilePathTTAC': '/export/scratch1/PETPAL/VATDYS/derivatives/petpal/sub-PIB10081/ses-VYr6/tacs/sub-PIB10081_ses-VYr6_seg-LeftPutamen_tac.tsv',\n",
       " 'MethodName': 'MRTM'}"
      ]
     },
     "execution_count": 6,
     "metadata": {},
     "output_type": "execute_result"
    }
   ],
   "source": [
    "copy_metadata_sans_list(ex_meta)"
   ]
  },
  {
   "cell_type": "code",
   "execution_count": 7,
   "metadata": {},
   "outputs": [],
   "source": [
    "fit_results_all = glob.glob('/export/scratch1/PETPAL/VATDYS/derivatives/petpal/sub-PIB10081/ses-VYr6/km/*.json')\n",
    "km_fits = pd.DataFrame()"
   ]
  },
  {
   "cell_type": "code",
   "execution_count": 8,
   "metadata": {},
   "outputs": [],
   "source": [
    "i = 0\n",
    "for fit in fit_results_all:\n",
    "    fit_load = safe_load_meta(fit)\n",
    "    fit_clean = copy_metadata_sans_list(fit_load)\n",
    "    fit_pd = pd.DataFrame(fit_clean,index=[i])\n",
    "    km_fits = pd.concat([km_fits,fit_pd])\n",
    "    i += 1\n"
   ]
  },
  {
   "cell_type": "code",
   "execution_count": 9,
   "metadata": {},
   "outputs": [
    {
     "data": {
      "text/plain": [
       "0          NaN\n",
       "1          NaN\n",
       "2      0.09796\n",
       "3      0.40989\n",
       "4      0.28930\n",
       "        ...   \n",
       "112    0.66290\n",
       "113    0.08667\n",
       "114    0.36655\n",
       "115    0.26330\n",
       "116    0.26619\n",
       "Name: BP, Length: 117, dtype: float64"
      ]
     },
     "execution_count": 9,
     "metadata": {},
     "output_type": "execute_result"
    }
   ],
   "source": [
    "km_fits['BP']"
   ]
  },
  {
   "cell_type": "code",
   "execution_count": 10,
   "metadata": {},
   "outputs": [],
   "source": [
    "def infer_sub_ses_from_tac_path(tac_path: str):\n",
    "    \"\"\"\n",
    "    Infers subject and session IDs from a TAC file path by analyzing the filename.\n",
    "\n",
    "    This method extracts subject and session IDs from the filename of a TAC file. It checks the \n",
    "    presence of a `sub-` and `ses-` marker in the filename, which is followed by the subject and \n",
    "    session respectively. This segment name is then formatted with each part capitalized. If no \n",
    "    subject or session is found a generic value of `UNK` is returned.\n",
    "\n",
    "    Args:\n",
    "        tac_path (str): Path of the TAC file.\n",
    "        tac_id (int): ID of the TAC.\n",
    "\n",
    "    Returns:\n",
    "        tuple: Inferred subject and session IDs.\n",
    "    \"\"\"\n",
    "    path = pathlib.Path(tac_path)\n",
    "    assert path.suffix == '.tsv', '`tac_path` must point to a TSV file (*.tsv)'\n",
    "    filename = path.name\n",
    "    fileparts = filename.split(\"_\")\n",
    "    subname = 'XXXX'\n",
    "    for part in fileparts:\n",
    "        if 'sub-' in part:\n",
    "            subname = part.split('sub-')[-1]\n",
    "            break\n",
    "    if subname == 'XXXX':\n",
    "        subname = 'UNK'\n",
    "    else:\n",
    "        name_parts = subname.split(\"-\")\n",
    "        subname = ''.join(name_parts)\n",
    "    sesname = 'XXXX'\n",
    "    for part in fileparts:\n",
    "        if 'ses-' in part:\n",
    "            sesname = part.split('ses-')[-1]\n",
    "            break\n",
    "    if sesname == 'XXXX':\n",
    "        subname = 'UNK'\n",
    "    else:\n",
    "        name_parts = sesname.split(\"-\")\n",
    "        sesname = ''.join(name_parts)\n",
    "    return subname, sesname\n",
    "    "
   ]
  },
  {
   "cell_type": "code",
   "execution_count": 11,
   "metadata": {},
   "outputs": [
    {
     "data": {
      "text/plain": [
       "('PIB10081', 'VYr6')"
      ]
     },
     "execution_count": 11,
     "metadata": {},
     "output_type": "execute_result"
    }
   ],
   "source": [
    "infer_sub_ses_from_tac_path(fit_clean['FilePathTTAC'])"
   ]
  },
  {
   "cell_type": "code",
   "execution_count": 20,
   "metadata": {},
   "outputs": [],
   "source": [
    "def km_regional_fits_to_tsv(fit_results_dir: str, out_tsv_dir: str):\n",
    "    \"\"\"\n",
    "    Tidies the output of regional kinetic modeling results by converting JSON files into a TSV file\n",
    "    with one row per fit region. Accomodates lists by converting them into key-value pairs. Assigns\n",
    "    a subject and session to each row inferred from the original TAC file path.\n",
    "\n",
    "    Requires fields to be identical across all JSON results files.\n",
    "\n",
    "    Args:\n",
    "        fit_results_dir (str): Directory where RTM results are stored in JSON files.\n",
    "        out_tsv_dir (str): Path where resulting TSV file containing fit results will be stored.\n",
    "\n",
    "    Returns:\n",
    "        km_fits (pd.DataFrame): DataFrame containing KM fit data for all regions.\n",
    "    \"\"\"\n",
    "    fit_results_jsons = glob.glob(os.path.join(fit_results_dir,'*.json'))\n",
    "    km_fits = pd.DataFrame()\n",
    "    for i,fit in enumerate(fit_results_jsons):\n",
    "        fit_load = safe_load_meta(fit)\n",
    "        fit_clean = copy_metadata_sans_list(fit_load)\n",
    "        sub, ses = infer_sub_ses_from_tac_path(fit_clean['FilePathTTAC'])\n",
    "        fit_clean['sub_id'] = sub\n",
    "        fit_clean['ses_id'] = ses\n",
    "        fit_pd = pd.DataFrame(fit_clean,index=[i])\n",
    "        km_fits = pd.concat([km_fits,fit_pd])\n",
    "    km_fits.to_csv(out_tsv_dir,sep='\\t')\n",
    "    return km_fits"
   ]
  },
  {
   "cell_type": "code",
   "execution_count": 21,
   "metadata": {},
   "outputs": [],
   "source": [
    "fits = km_regional_fits_to_tsv(fit_results_dir='/export/scratch1/PETPAL/VATDYS/derivatives/petpal/sub-PIB10081/ses-VYr6/km/',out_tsv_dir='/tmp/dummy.tsv')"
   ]
  },
  {
   "cell_type": "code",
   "execution_count": null,
   "metadata": {},
   "outputs": [],
   "source": []
  }
 ],
 "metadata": {
  "kernelspec": {
   "display_name": "PETPAL",
   "language": "python",
   "name": "python3"
  },
  "language_info": {
   "codemirror_mode": {
    "name": "ipython",
    "version": 3
   },
   "file_extension": ".py",
   "mimetype": "text/x-python",
   "name": "python",
   "nbconvert_exporter": "python",
   "pygments_lexer": "ipython3",
   "version": "3.12.7"
  }
 },
 "nbformat": 4,
 "nbformat_minor": 2
}
