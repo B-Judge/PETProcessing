{
 "cells": [
  {
   "cell_type": "markdown",
   "metadata": {},
   "source": [
    "Method to clean up the JSON outputs of regional fitting into a TSV"
   ]
  },
  {
   "cell_type": "code",
   "execution_count": 4,
   "metadata": {},
   "outputs": [],
   "source": [
    "import pandas as pd\n",
    "import numpy as np\n",
    "import json\n",
    "import glob\n",
    "import os"
   ]
  },
  {
   "cell_type": "code",
   "execution_count": 5,
   "metadata": {},
   "outputs": [],
   "source": [
    "def safe_load_meta(input_metadata_file: str) -> dict:\n",
    "    \"\"\"\n",
    "    Function to load a general metadata json file.\n",
    "\n",
    "    Args:\n",
    "        input_metadata_file (str): Metadata file to be read.\n",
    "\n",
    "    Returns:\n",
    "        metadata (dict): The metadata in dictionary format.\n",
    "    \"\"\"\n",
    "    if not os.path.exists(input_metadata_file):\n",
    "        raise FileNotFoundError(f\"Metadata file {input_metadata_file} not found. Does it have a different path?\")\n",
    "\n",
    "    with open(input_metadata_file, 'r', encoding='utf-8') as meta_file:\n",
    "        metadata = json.load(meta_file)\n",
    "    return metadata"
   ]
  },
  {
   "cell_type": "code",
   "execution_count": 6,
   "metadata": {},
   "outputs": [],
   "source": [
    "ex_meta = safe_load_meta('/export/scratch1/PETPAL/VATDYS/derivatives/petpal/sub-PIB10081/ses-VYr6/km/sub-PIB10081_ses-VYr6_model-mrtm1_km_desc-mrtm_seg-Leftputamen_fitprops.json')"
   ]
  },
  {
   "cell_type": "code",
   "execution_count": 7,
   "metadata": {},
   "outputs": [],
   "source": [
    "def copy_metadata_sans_list(metadata: dict) -> dict:\n",
    "    \"\"\"\n",
    "    Given a metadata dictionary, return an identical dictionary with any list-like data replaced\n",
    "    with individual values. Useful when converting several JSON files into a TSV file.\n",
    "\n",
    "    Args:\n",
    "        metadata (dict): The metadata file that may contain lists of data.\n",
    "\n",
    "    Returns:\n",
    "        metadata_for_tsv (dict): The same metadata with list-like data replaced with individual values.\n",
    "\n",
    "    Note:\n",
    "        List-like data is replaced by renaming the key it appears in with ordinal values. E.g. if metadata\n",
    "        contains a key named ``FitPars`` with value [4,6] then the function would create two new keys,\n",
    "        FitPars_1 and Fit_Pars2 with values 4 and 6 respectively.\n",
    "    \"\"\"\n",
    "    metadata_for_tsv = {}\n",
    "    for key in metadata:\n",
    "        data = metadata[key]\n",
    "        if isinstance(data,list):\n",
    "            for i,val in enumerate(data):\n",
    "                key_new = f'{key}_{i+1}'\n",
    "                metadata_for_tsv[key_new] = val\n",
    "        else:\n",
    "            metadata_for_tsv[key] = metadata[key]\n",
    "    return metadata_for_tsv"
   ]
  },
  {
   "cell_type": "code",
   "execution_count": 8,
   "metadata": {},
   "outputs": [
    {
     "data": {
      "text/plain": [
       "{'BP': 4.17272,\n",
       " 'k2Prime': 0.01277,\n",
       " 'ThresholdTime': 10,\n",
       " 'StartFrameTime': 10.82,\n",
       " 'EndFrameTime': 115.82,\n",
       " 'NumberOfPointsFit': 22,\n",
       " 'RawFits_0': 0.03669,\n",
       " 'RawFits_1': -0.00709,\n",
       " 'RawFits_2': 2.87172,\n",
       " 'SimulatedFits': None,\n",
       " 'FilePathRTAC': '/export/scratch1/PETPAL/VATDYS/derivatives/petpal/sub-PIB10081/ses-VYr6/tacs/sub-PIB10081_ses-VYr6_seg-WMRef_tac.tsv',\n",
       " 'FilePathTTAC': '/export/scratch1/PETPAL/VATDYS/derivatives/petpal/sub-PIB10081/ses-VYr6/tacs/sub-PIB10081_ses-VYr6_seg-LeftPutamen_tac.tsv',\n",
       " 'MethodName': 'MRTM'}"
      ]
     },
     "execution_count": 8,
     "metadata": {},
     "output_type": "execute_result"
    }
   ],
   "source": [
    "copy_metadata_sans_list(ex_meta)"
   ]
  },
  {
   "cell_type": "code",
   "execution_count": null,
   "metadata": {},
   "outputs": [],
   "source": []
  }
 ],
 "metadata": {
  "kernelspec": {
   "display_name": "PETPAL",
   "language": "python",
   "name": "python3"
  },
  "language_info": {
   "codemirror_mode": {
    "name": "ipython",
    "version": 3
   },
   "file_extension": ".py",
   "mimetype": "text/x-python",
   "name": "python",
   "nbconvert_exporter": "python",
   "pygments_lexer": "ipython3",
   "version": "3.12.7"
  }
 },
 "nbformat": 4,
 "nbformat_minor": 2
}
