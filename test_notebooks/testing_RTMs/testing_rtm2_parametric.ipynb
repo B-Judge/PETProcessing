{
 "cells": [
  {
   "cell_type": "code",
   "execution_count": 1,
   "metadata": {},
   "outputs": [],
   "source": [
    "import ants\n",
    "from petpal.kinetic_modeling.parametric_images import apply_rtm2_to_all_voxels, ReferenceTissueParametricImage\n",
    "from petpal.utils.time_activity_curve import TimeActivityCurveFromFile\n",
    "from petpal.preproc.image_operations_4d import brain_mask\n",
    "import numpy as np"
   ]
  },
  {
   "cell_type": "code",
   "execution_count": 2,
   "metadata": {},
   "outputs": [],
   "source": [
    "tac_path = '/export/scratch1/PETPAL/03Dec24/sub-PIB07018_ses-VYr12/tacs/WMRef_tac.tsv'\n",
    "wmref = TimeActivityCurveFromFile(tac_path=tac_path)"
   ]
  },
  {
   "cell_type": "code",
   "execution_count": 3,
   "metadata": {},
   "outputs": [],
   "source": [
    "pet_file = '/export/scratch1/PETPAL/03Dec24/sub-PIB07018_ses-VYr12/sub-PIB07018_ses-VYr12_moco.nii.gz'\n",
    "pet_image = ants.image_read(filename=pet_file)\n",
    "pet_array = pet_image.numpy()\n",
    "mask_file = '/tmp/pet_mask.nii.gz'\n",
    "mask_image = ants.image_read(mask_file)\n",
    "mask_array = mask_image.numpy()"
   ]
  },
  {
   "cell_type": "markdown",
   "metadata": {},
   "source": [
    "brain_mask(\n",
    "    input_image_4d_path=pet_file,\n",
    "    out_image_path=mask_file,\n",
    "    atlas_image_path='/data/petsun43/data1/atlas/MNI152/MNI152_T1_2mm.nii',\n",
    "    atlas_mask_path='/data/petsun43/data1/atlas/MNI152/MNI152_T1_2mm_brain_mask.nii.gz'\n",
    ")"
   ]
  },
  {
   "cell_type": "code",
   "execution_count": 14,
   "metadata": {},
   "outputs": [],
   "source": [
    "srtm2_array = apply_rtm2_to_all_voxels(\n",
    "    tac_times_in_minutes=wmref.tac_times_in_minutes,\n",
    "    tgt_image=pet_array,\n",
    "    ref_tac_vals=wmref.tac_vals,\n",
    "    mask_img=mask_array,\n",
    "    method='srtm2',\n",
    "    k2_prime=0.017\n",
    ")"
   ]
  },
  {
   "cell_type": "code",
   "execution_count": 15,
   "metadata": {},
   "outputs": [],
   "source": [
    "srtm2_image = ants.from_numpy(\n",
    "    data=srtm2_array,\n",
    "    origin=pet_image.origin,\n",
    "    spacing=pet_image.spacing,\n",
    "    direction=pet_image.direction\n",
    ")"
   ]
  },
  {
   "cell_type": "code",
   "execution_count": 16,
   "metadata": {},
   "outputs": [
    {
     "data": {
      "text/plain": [
       "ANTsImage\n",
       "\t Pixel Type : float (float32)\n",
       "\t Components : 1\n",
       "\t Dimensions : (128, 128, 63, 2)\n",
       "\t Spacing    : (2.0033, 2.0033, 2.425, 1.0)\n",
       "\t Origin     : (127.2104, 127.2104, -75.175, 0.0)\n",
       "\t Direction  : [-1.  0.  0.  0.  0. -1.  0.  0.  0.  0.  1.  0.  0.  0.  0.  1.]"
      ]
     },
     "execution_count": 16,
     "metadata": {},
     "output_type": "execute_result"
    }
   ],
   "source": [
    "srtm2_image"
   ]
  },
  {
   "cell_type": "code",
   "execution_count": 17,
   "metadata": {},
   "outputs": [],
   "source": [
    "ants.image_write(image=srtm2_image,filename='/tmp/srtm2_example.nii.gz')"
   ]
  },
  {
   "cell_type": "code",
   "execution_count": 4,
   "metadata": {},
   "outputs": [],
   "source": [
    "frtm_bounds=[[0.5,0,10],[0.5,0,1],[0.5,0,1]]\n",
    "srtm_bounds=[[0.5,0,1],[0.5,0,1]]"
   ]
  },
  {
   "cell_type": "code",
   "execution_count": 5,
   "metadata": {},
   "outputs": [],
   "source": [
    "frtm2_array = apply_rtm2_to_all_voxels(\n",
    "    tac_times_in_minutes=wmref.tac_times_in_minutes,\n",
    "    tgt_image=pet_array,\n",
    "    ref_tac_vals=wmref.tac_vals,\n",
    "    mask_img=mask_array,\n",
    "    method='frtm2',\n",
    "    r1_bounds=[0.5,0,10],\n",
    "    k3_bounds=[0.5,0,1],\n",
    "    k4_bounds=[0.5,0,1],\n",
    "    k2_prime=0.017\n",
    ")"
   ]
  },
  {
   "cell_type": "code",
   "execution_count": 6,
   "metadata": {},
   "outputs": [],
   "source": [
    "frtm2_image = ants.from_numpy(\n",
    "    data=frtm2_array,\n",
    "    origin=pet_image.origin,\n",
    "    spacing=pet_image.spacing,\n",
    "    direction=pet_image.direction\n",
    ")\n",
    "ants.image_write(image=frtm2_image,filename='/tmp/frtm2_example.nii.gz')"
   ]
  },
  {
   "cell_type": "code",
   "execution_count": 6,
   "metadata": {},
   "outputs": [],
   "source": [
    "srtm2 = ReferenceTissueParametricImage(\n",
    "    reference_tac_path=tac_path,\n",
    "    pet_image_path=pet_file,\n",
    "    mask_image_path=mask_file,\n",
    "    output_directory='/tmp/rtm_parametric',\n",
    "    output_filename_prefix='srtm2_class',\n",
    "    method='srtm2'\n",
    ")"
   ]
  },
  {
   "cell_type": "code",
   "execution_count": 13,
   "metadata": {},
   "outputs": [],
   "source": [
    "srtm2_out = srtm2(k2_prime=0.017,image_scale=1)"
   ]
  },
  {
   "cell_type": "code",
   "execution_count": 12,
   "metadata": {},
   "outputs": [],
   "source": [
    "srtm2.save_parametric_images()"
   ]
  },
  {
   "cell_type": "code",
   "execution_count": 5,
   "metadata": {},
   "outputs": [],
   "source": [
    "frtm2 = ReferenceTissueParametricImage(\n",
    "    reference_tac_path=tac_path,\n",
    "    pet_image_path=pet_file,\n",
    "    mask_image_path=mask_file,\n",
    "    output_directory='/tmp/rtm_parametric',\n",
    "    output_filename_prefix='frtm2_class',\n",
    "    method='frtm2'\n",
    ")"
   ]
  },
  {
   "cell_type": "code",
   "execution_count": 6,
   "metadata": {},
   "outputs": [],
   "source": [
    "frtm2_out = frtm2(bounds=frtm_bounds,k2_prime=0.017,image_scale=1)"
   ]
  },
  {
   "cell_type": "code",
   "execution_count": null,
   "metadata": {},
   "outputs": [],
   "source": []
  }
 ],
 "metadata": {
  "kernelspec": {
   "display_name": "PPAL312",
   "language": "python",
   "name": "python3"
  },
  "language_info": {
   "codemirror_mode": {
    "name": "ipython",
    "version": 3
   },
   "file_extension": ".py",
   "mimetype": "text/x-python",
   "name": "python",
   "nbconvert_exporter": "python",
   "pygments_lexer": "ipython3",
   "version": "3.12.7"
  }
 },
 "nbformat": 4,
 "nbformat_minor": 2
}
