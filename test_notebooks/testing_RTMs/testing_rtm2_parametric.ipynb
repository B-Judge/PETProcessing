{
 "cells": [
  {
   "cell_type": "code",
   "execution_count": 1,
   "metadata": {},
   "outputs": [],
   "source": [
    "import ants\n",
    "from petpal.kinetic_modeling.parametric_images import apply_rtm2_to_all_voxels\n",
    "from petpal.utils.time_activity_curve import TimeActivityCurveFromFile\n",
    "from petpal.preproc.image_operations_4d import brain_mask"
   ]
  },
  {
   "cell_type": "code",
   "execution_count": 2,
   "metadata": {},
   "outputs": [],
   "source": [
    "wmref = TimeActivityCurveFromFile(tac_path='/export/scratch1/PETPAL/03Dec24/sub-PIB07018_ses-VYr12/tacs/WMRef_tac.tsv')"
   ]
  },
  {
   "cell_type": "code",
   "execution_count": 3,
   "metadata": {},
   "outputs": [
    {
     "data": {
      "text/plain": [
       "array([  0.45776667,   0.5411    ,   0.62443333,   0.70776667,\n",
       "         0.7911    ,   0.87443333,   0.95776667,   1.0411    ,\n",
       "         1.12443333,   1.20776667,   1.2911    ,   1.37443333,\n",
       "         1.45776667,   1.5411    ,   1.62443333,   1.70776667,\n",
       "         1.7911    ,   1.87443333,   1.95776667,   2.0411    ,\n",
       "         2.12443333,   2.20776667,   2.2911    ,   2.37443333,\n",
       "         2.45776667,   2.5411    ,   2.62443333,   2.70776667,\n",
       "         2.7911    ,   2.87443333,   2.95776667,   3.0411    ,\n",
       "         3.12443333,   3.20776667,   3.2911    ,   3.37443333,\n",
       "         3.45776667,   3.62443333,   3.7911    ,   3.9586    ,\n",
       "         4.12526667,   4.29193333,   4.4586    ,   4.62526667,\n",
       "         4.79193333,   4.9586    ,   5.12526667,   5.29193333,\n",
       "         5.4586    ,  10.4586    ,  15.4586    ,  20.4586    ,\n",
       "        25.4586    ,  30.4586    ,  35.4586    ,  40.4586    ,\n",
       "        45.4586    ,  50.4586    ,  55.45888333,  60.45888333,\n",
       "        65.45888333,  70.45888333,  75.45888333,  80.45888333,\n",
       "        85.45888333,  90.45888333,  95.45888333, 100.45888333,\n",
       "       105.45888333, 110.45888333, 115.45888333])"
      ]
     },
     "execution_count": 3,
     "metadata": {},
     "output_type": "execute_result"
    }
   ],
   "source": [
    "wmref.tac_times_in_minutes"
   ]
  },
  {
   "cell_type": "code",
   "execution_count": 4,
   "metadata": {},
   "outputs": [],
   "source": [
    "pet_file = '/export/scratch1/PETPAL/03Dec24/sub-PIB07018_ses-VYr12/sub-PIB07018_ses-VYr12_moco.nii.gz'\n",
    "pet_image = ants.image_read(filename=pet_file)\n",
    "pet_array = pet_image.numpy()\n",
    "mask_file = '/tmp/pet_mask.nii.gz'\n",
    "mask_image = ants.image_read(mask_file)\n",
    "mask_array = mask_image.numpy()"
   ]
  },
  {
   "cell_type": "markdown",
   "metadata": {},
   "source": [
    "brain_mask(\n",
    "    input_image_4d_path=pet_file,\n",
    "    out_image_path=mask_file,\n",
    "    atlas_image_path='/data/petsun43/data1/atlas/MNI152/MNI152_T1_2mm.nii',\n",
    "    atlas_mask_path='/data/petsun43/data1/atlas/MNI152/MNI152_T1_2mm_brain_mask.nii.gz'\n",
    ")"
   ]
  },
  {
   "cell_type": "code",
   "execution_count": null,
   "metadata": {},
   "outputs": [],
   "source": [
    "srtm2_array = apply_rtm2_to_all_voxels(\n",
    "    tac_times_in_minutes=wmref.tac_times_in_minutes,\n",
    "    tgt_image=pet_array,\n",
    "    ref_tac_vals=wmref.tac_vals,\n",
    "    mask_img=mask_array,\n",
    "    method='srtm2'\n",
    ")"
   ]
  },
  {
   "cell_type": "code",
   "execution_count": 8,
   "metadata": {},
   "outputs": [],
   "source": [
    "srtm2_image = ants.from_numpy(\n",
    "    data=srtm2_array,\n",
    "    origin=pet_image.origin,\n",
    "    spacing=pet_image.spacing,\n",
    "    direction=pet_image.direction\n",
    ")"
   ]
  },
  {
   "cell_type": "code",
   "execution_count": null,
   "metadata": {},
   "outputs": [],
   "source": [
    "srtm2_image"
   ]
  },
  {
   "cell_type": "code",
   "execution_count": 10,
   "metadata": {},
   "outputs": [],
   "source": [
    "ants.image_write(image=srtm2_image,filename='/tmp/srtm2_example.nii.gz')"
   ]
  },
  {
   "cell_type": "code",
   "execution_count": 5,
   "metadata": {},
   "outputs": [],
   "source": [
    "frtm2_array = apply_rtm2_to_all_voxels(\n",
    "    tac_times_in_minutes=wmref.tac_times_in_minutes,\n",
    "    tgt_image=pet_array,\n",
    "    ref_tac_vals=wmref.tac_vals,\n",
    "    mask_img=mask_array,\n",
    "    method='frtm2',\n",
    "    r1_bounds=[0.5,0,10],\n",
    "    k3_bounds=[0.5,0,1],\n",
    "    k4_bounds=[0.5,0,1],\n",
    "    k2_prime=0.017\n",
    ")"
   ]
  },
  {
   "cell_type": "code",
   "execution_count": 6,
   "metadata": {},
   "outputs": [],
   "source": [
    "frtm2_image = ants.from_numpy(\n",
    "    data=frtm2_array,\n",
    "    origin=pet_image.origin,\n",
    "    spacing=pet_image.spacing,\n",
    "    direction=pet_image.direction\n",
    ")\n",
    "ants.image_write(image=frtm2_image,filename='/tmp/frtm2_example.nii.gz')"
   ]
  },
  {
   "cell_type": "code",
   "execution_count": null,
   "metadata": {},
   "outputs": [],
   "source": []
  }
 ],
 "metadata": {
  "kernelspec": {
   "display_name": "PPAL312",
   "language": "python",
   "name": "python3"
  },
  "language_info": {
   "codemirror_mode": {
    "name": "ipython",
    "version": 3
   },
   "file_extension": ".py",
   "mimetype": "text/x-python",
   "name": "python",
   "nbconvert_exporter": "python",
   "pygments_lexer": "ipython3",
   "version": "3.12.7"
  }
 },
 "nbformat": 4,
 "nbformat_minor": 2
}
