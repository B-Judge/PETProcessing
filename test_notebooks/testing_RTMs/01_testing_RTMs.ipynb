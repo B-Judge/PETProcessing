{
 "cells": [
  {
   "cell_type": "markdown",
   "id": "26ce6697",
   "metadata": {},
   "source": [
    "# Preamble"
   ]
  },
  {
   "cell_type": "code",
   "execution_count": 1,
   "id": "915dafbd",
   "metadata": {
    "ExecuteTime": {
     "end_time": "2024-04-26T20:14:16.926814Z",
     "start_time": "2024-04-26T20:14:15.473329Z"
    }
   },
   "outputs": [],
   "source": [
    "import numpy as np\n",
    "import matplotlib.pyplot as plt\n",
    "import seaborn as sns\n",
    "import pet_cli.tcms_as_convolutions as pet_tcm\n",
    "import pet_cli.reference_tissue_models as pet_rtms\n",
    "from importlib import reload\n",
    "\n",
    "sns.set()\n",
    "sns.set_style(\"ticks\")\n",
    "sns.set_context(\"paper\", font_scale=1.6)\n",
    "plt.rcParams['font.family'] = 'StixGeneral'\n",
    "plt.rcParams['mathtext.fontset'] = 'stix'\n",
    "plt.rcParams['figure.dpi'] = 72\n",
    "\n",
    "from scipy.stats import linregress\n",
    "\n",
    "text_box = dict(facecolor='lightblue', edgecolor='black', lw=2, alpha=0.2)"
   ]
  },
  {
   "cell_type": "markdown",
   "id": "57d43266",
   "metadata": {},
   "source": [
    "## Convenience Functions"
   ]
  },
  {
   "cell_type": "markdown",
   "id": "1438b43b",
   "metadata": {},
   "source": [
    "### Results Formatting"
   ]
  },
  {
   "cell_type": "code",
   "execution_count": 2,
   "id": "e515cb55252e2a45",
   "metadata": {
    "ExecuteTime": {
     "end_time": "2024-04-26T20:14:16.931741Z",
     "start_time": "2024-04-26T20:14:16.929102Z"
    }
   },
   "outputs": [],
   "source": [
    "def calc_diff(true_value, fit_value):\n",
    "    \"\"\"\n",
    "    Calculate the difference and the percentage difference between the real and the new answer.\n",
    "    \n",
    "    Args:\n",
    "        real_answer (float): The real or original answer.\n",
    "        new_answer (float): The new answer to be compared.\n",
    "    \n",
    "    Returns:\n",
    "        tuple: The new answer, the difference, and the percentage difference.\n",
    "    \"\"\"\n",
    "    diff = fit_value - true_value\n",
    "    per_d = diff / true_value * 100.\n",
    "    \n",
    "    return fit_value, diff, per_d\n",
    "\n",
    "\n",
    "def print_arrs(pre_str: str, *args):\n",
    "    \"\"\"\n",
    "    Print arrays with a prefix string in a well-formatted manner.\n",
    "\n",
    "    Args:\n",
    "        pre_str (str): The prefix string.\n",
    "        *args: Variable length argument list representing the arrays to be printed.\n",
    "    \"\"\"\n",
    "    print(f\"{pre_str + ':':<8}\", end=' ')\n",
    "    for an_arr in args:\n",
    "        str_arr = [f\"{a_num:<5.2f}\" for a_num in an_arr]\n",
    "        print(f\"({', '.join(str_arr)})\", end='; ')\n",
    "    print()"
   ]
  },
  {
   "cell_type": "markdown",
   "id": "cc47fe8e",
   "metadata": {},
   "source": [
    "### Adding Noise To TACs And Plotting"
   ]
  },
  {
   "cell_type": "code",
   "execution_count": 3,
   "id": "f542c395",
   "metadata": {
    "ExecuteTime": {
     "end_time": "2024-04-26T20:14:16.936659Z",
     "start_time": "2024-04-26T20:14:16.933141Z"
    }
   },
   "outputs": [],
   "source": [
    "def add_gaussian_noise_to_tac(tac_vals: np.ndarray, scale: float = 0.2) -> np.ndarray:\n",
    "    \"\"\"\n",
    "    Add Gaussian noise to the given TAC values.\n",
    "\n",
    "    Args:\n",
    "        tac_vals (np.ndarray): Original TAC values.\n",
    "        scale (float): The standard deviation of the Gaussian distribution. Default is 0.2.\n",
    "\n",
    "    Returns:\n",
    "        np.ndarray: TAC values with added Gaussian noise.\n",
    "\n",
    "    Note:\n",
    "        The first value of output TAC is set to zero. Negative values are also set to 0.\n",
    "    \"\"\"\n",
    "    noise = np.random.normal(loc=0.0, scale=scale, size=tac_vals.shape)\n",
    "    tac_out = tac_vals + noise\n",
    "    tac_out[tac_out < 0] = 0.0\n",
    "    tac_out[0] = 0.0\n",
    "    return tac_out\n",
    "\n",
    "\n",
    "def add_gaussian_noise_to_tac_based_on_max(tac_vals: np.ndarray, scale: float = 0.05) -> np.ndarray:\n",
    "    \"\"\"\n",
    "    Add Gaussian noise to the TAC values. The noise is based on the maximum TAC value.\n",
    "\n",
    "    Args:\n",
    "        tac_vals (np.ndarray): Original TAC values.\n",
    "        scale (float): The standard deviation, as a proportion of the maximum TAC value. Default is 0.05.\n",
    "\n",
    "    Returns:\n",
    "        np.ndarray: TAC values with added Gaussian noise.\n",
    "\n",
    "    Note:\n",
    "        Any negative values in the output TAC are set to zero.\n",
    "        The first value of output TAC is set to zero. Negative values are also set to 0.\n",
    "    \"\"\"\n",
    "    noise = np.random.normal(loc=0.0, scale=np.max(tac_vals) * scale, size=tac_vals.shape)\n",
    "    tac_out = tac_vals + noise\n",
    "    tac_out[tac_out < 0] = 0.0\n",
    "    tac_out[0] = 0.0\n",
    "    return tac_out"
   ]
  },
  {
   "cell_type": "markdown",
   "id": "3934a400",
   "metadata": {},
   "source": [
    "### Simple Scatter Plots With Regression"
   ]
  },
  {
   "cell_type": "code",
   "execution_count": 4,
   "id": "2514748d",
   "metadata": {
    "ExecuteTime": {
     "end_time": "2024-04-26T20:14:16.940836Z",
     "start_time": "2024-04-26T20:14:16.937549Z"
    }
   },
   "outputs": [],
   "source": [
    "def generate_scatter_with_regression_figure(figObj, axObj, fit_values, true_values, ax_titles):\n",
    "    fAx = axObj.flatten()\n",
    "    for ax_id, (xAr, yAr, title) in enumerate((zip(true_values.T, fit_values.T, ax_titles))):\n",
    "        \n",
    "        x = xAr[~np.isnan(yAr)]\n",
    "        y = yAr[~np.isnan(yAr)]\n",
    "        \n",
    "        lin_reg = linregress(x, y)\n",
    "        \n",
    "        fAx[ax_id].plot(x, y, '.', alpha=0.8, color='red')\n",
    "        \n",
    "        fAx[ax_id].plot(x, y, '.', alpha=0.8, color='red')\n",
    "        fAx[ax_id].plot(x, x * lin_reg.slope + lin_reg.intercept, lw=3, color='k', alpha=0.85)\n",
    "        \n",
    "        fAx[ax_id].text(0.05, 0.95, fr\"$r^2={lin_reg.rvalue:<5.3f}$\", fontsize=20, transform=fAx[ax_id].transAxes,\n",
    "                        ha='left', va='top', bbox=text_box)\n",
    "        \n",
    "        fAx[ax_id].set_title(f\"{title} Fits\", fontweight='bold')\n",
    "        fAx[ax_id].set(xlabel=fr'True Values', ylabel=fr'Fit Values')\n",
    "\n"
   ]
  },
  {
   "cell_type": "markdown",
   "id": "cd5ec0bf",
   "metadata": {},
   "source": [
    "### Bland-Altman Plots"
   ]
  },
  {
   "cell_type": "code",
   "execution_count": 5,
   "id": "836fb0db",
   "metadata": {
    "ExecuteTime": {
     "end_time": "2024-04-26T20:14:16.946216Z",
     "start_time": "2024-04-26T20:14:16.941560Z"
    }
   },
   "outputs": [],
   "source": [
    "def generate_bland_atlman_figure(figObj, axObj, fit_values, true_values, ax_titles):\n",
    "    fAx = axObj.flatten()\n",
    "    for ax_id, (xAr, yAr, title) in enumerate((zip(fit_values.T, true_values.T, ax_titles))):\n",
    "        x = (xAr + yAr) / 2.0\n",
    "        y = xAr - yAr\n",
    "        \n",
    "        fAx[ax_id].plot(x, y, '.', alpha=0.8, color='red')\n",
    "        \n",
    "        mean_diff = np.nanmean(y)\n",
    "        std_dev = np.nanstd(y)\n",
    "        mid = mean_diff\n",
    "        hi = mean_diff + 1.96 * std_dev\n",
    "        lo = mean_diff - 1.96 * std_dev\n",
    "        fAx[ax_id].axhline(hi, color='blue', ls='--', zorder=0)\n",
    "        fAx[ax_id].axhline(lo, color='blue', ls='--', zorder=0)\n",
    "        fAx[ax_id].axhline(mid, color='k', ls='-', zorder=0)\n",
    "        \n",
    "        fAx[ax_id].set_title(f\"{title} Fits\", fontweight='bold')\n",
    "        fAx[ax_id].set(xlabel=fr'$\\frac{{S_1+S_2}}{{2}}$ (Mean)', ylabel=fr'$S_1-S_2$ (Diff.)')\n",
    "\n",
    "\n",
    "def generate_ratio_bland_atlman_figure(figObj, axObj, fit_values, true_values, ax_titles):\n",
    "    fAx = axObj.flatten()\n",
    "    for ax_id, (xAr, yAr, title) in enumerate((zip(fit_values.T, true_values.T, ax_titles))):\n",
    "        x = (np.log(xAr) + np.log(yAr)) / 2.0\n",
    "        y = np.log(xAr) - np.log(yAr)\n",
    "        \n",
    "        fAx[ax_id].plot(x, y, '.', alpha=0.8, color='red')\n",
    "        \n",
    "        mean_diff = np.nanmean(y)\n",
    "        std_dev = np.nanstd(y)\n",
    "        mid = mean_diff\n",
    "        hi = mean_diff + 1.96 * std_dev\n",
    "        lo = mean_diff - 1.96 * std_dev\n",
    "        fAx[ax_id].axhline(hi, color='blue', ls='--', zorder=0)\n",
    "        fAx[ax_id].axhline(lo, color='blue', ls='--', zorder=0)\n",
    "        fAx[ax_id].axhline(mid, color='k', ls='-', zorder=0)\n",
    "        \n",
    "        fAx[ax_id].set_title(f\"{title} Fits\", fontweight='bold')\n",
    "        fAx[ax_id].set(xlabel=fr'$\\frac{{\\log S_1+\\log S_2}}{{2}}$ (Mean)', ylabel=fr'$\\log S_1-\\log S_2$ (Diff.)')"
   ]
  },
  {
   "cell_type": "markdown",
   "id": "13bce0dd",
   "metadata": {},
   "source": [
    "### Generating Random Samples For Free Parameters"
   ]
  },
  {
   "cell_type": "code",
   "execution_count": 6,
   "id": "5ba5a603",
   "metadata": {
    "ExecuteTime": {
     "end_time": "2024-04-26T20:14:16.948610Z",
     "start_time": "2024-04-26T20:14:16.947024Z"
    }
   },
   "outputs": [],
   "source": [
    "def generate_random_parameter_samples(num_samples, num_params, hi, lo):\n",
    "    return np.random.random((num_samples, num_params)) * (hi - lo) + lo"
   ]
  },
  {
   "cell_type": "markdown",
   "id": "13b9c2b5",
   "metadata": {},
   "source": [
    "### Fitting Large Numbers Of Samples"
   ]
  },
  {
   "cell_type": "code",
   "execution_count": 7,
   "id": "bcfd4c9c",
   "metadata": {
    "ExecuteTime": {
     "end_time": "2024-04-26T20:14:16.952830Z",
     "start_time": "2024-04-26T20:14:16.949349Z"
    }
   },
   "outputs": [],
   "source": [
    "def calculate_bounded_rtm_fits_from_multiple_parameter_samples(ref_tac_times,\n",
    "                                                               ref_tac_vals,\n",
    "                                                               param_samples,\n",
    "                                                               model_func,\n",
    "                                                               fit_func,\n",
    "                                                               start,\n",
    "                                                               hi,\n",
    "                                                               lo,\n",
    "                                                               noise_scale=0.01):\n",
    "    num_samples, num_params = param_samples.shape\n",
    "    assert len(param_samples.shape) == 2, \"Only implemented for 2-d samples\"\n",
    "    \n",
    "    fit_vals = np.zeros((num_samples, num_params))\n",
    "    fit_covs = np.zeros((num_samples, num_params, num_params))\n",
    "    for tID, t_param in enumerate(param_samples):\n",
    "        rtm_tac_vals = model_func(ref_tac_times, *t_param, ref_tac_vals)\n",
    "        if np.min(rtm_tac_vals) < 0.0:\n",
    "            p_opt = np.nan * np.ones(num_params, float)\n",
    "            p_cor = np.nan * np.ones((num_params, num_params), float)\n",
    "        else:\n",
    "            noisy_tgt_tac_vals = add_gaussian_noise_to_tac_based_on_max(rtm_tac_vals, noise_scale)\n",
    "            try:\n",
    "                bounds = [(start, lo, hi)] * num_params\n",
    "                p_opt, p_cor = fit_func(noisy_tgt_tac_vals, ref_tac_times, ref_tac_vals, *bounds)\n",
    "            except RuntimeError:\n",
    "                p_opt = np.nan * np.ones(num_params, float)\n",
    "                p_cor = np.nan * np.ones((num_params, num_params), float)\n",
    "        #                 print(\"Could not coverge.\")\n",
    "        fit_vals[tID] = p_opt[:] + 0.0\n",
    "        fit_covs[tID] = p_cor[:] + 0.0\n",
    "    return fit_vals, fit_covs"
   ]
  },
  {
   "cell_type": "code",
   "execution_count": 8,
   "id": "9d87fc13",
   "metadata": {
    "ExecuteTime": {
     "end_time": "2024-04-26T20:14:16.956861Z",
     "start_time": "2024-04-26T20:14:16.953634Z"
    }
   },
   "outputs": [],
   "source": [
    "def calculate_rtm_fits_from_multiple_parameter_samples(ref_tac_times,\n",
    "                                                       ref_tac_vals,\n",
    "                                                       param_samples,\n",
    "                                                       model_func,\n",
    "                                                       fit_func,\n",
    "                                                       noise_scale=0.01):\n",
    "    num_samples, num_params = param_samples.shape\n",
    "    assert len(param_samples.shape) == 2, \"Only implemented for 2-d samples\"\n",
    "    \n",
    "    fit_vals = np.zeros((num_samples, num_params))\n",
    "    fit_covs = np.zeros((num_samples, num_params, num_params))\n",
    "    for tID, t_param in enumerate(param_samples):\n",
    "        rtm_tac_vals = model_func(ref_tac_times, *t_param, ref_tac_vals)\n",
    "        if np.min(rtm_tac_vals) < 0.0:\n",
    "            p_opt = np.nan * np.ones(num_params, float)\n",
    "            p_cor = np.nan * np.ones((num_params, num_params), float)\n",
    "        else:\n",
    "            noisy_tgt_tac_vals = add_gaussian_noise_to_tac_based_on_max(rtm_tac_vals, noise_scale)\n",
    "            try:\n",
    "                p_opt, p_cor = fit_func(noisy_tgt_tac_vals, ref_tac_times, ref_tac_vals)\n",
    "            except RuntimeError:\n",
    "                p_opt = np.nan * np.ones(num_params, float)\n",
    "                p_cor = np.nan * np.ones((num_params, num_params), float)\n",
    "        #                 print(\"Could not coverge.\")\n",
    "        fit_vals[tID] = p_opt[:] + 0.0\n",
    "        fit_covs[tID] = p_cor[:] + 0.0\n",
    "    return fit_vals, fit_covs"
   ]
  },
  {
   "cell_type": "markdown",
   "id": "8ae977d8",
   "metadata": {},
   "source": [
    "# Simplified Reference Tissue Model (SRTM)"
   ]
  },
  {
   "cell_type": "markdown",
   "id": "6dde3592",
   "metadata": {},
   "source": [
    "The analytical solution for the SRTM describes the tissue TAC, $C(t)$, as a function of a reference TAC, $C_\\mathrm{R}(t)$, is:\n",
    "$$\n",
    "C(t) = R_{1} C_\\mathrm{R}(t) + \\left( k_{2} - \\frac{R_{1}k_{2}}{1+\\mathrm{BP_\\mathrm{ND}}} \\right) C_\\mathrm{R}(t)\\otimes \\exp\\left[-\\frac{k_{2}}{1+\\mathrm{BP_\\mathrm{ND}}} t\\right].\n",
    "$$\n",
    "By defining $\\alpha\\equiv\\frac{k_{2}}{1+\\mathrm{BP_\\mathrm{ND}}}$, we can rewrite the equation as:\n",
    "$$\n",
    "C(t) = R_{1} C_\\mathrm{R}(t) + \\left( k_{2} - R_{1}\\alpha\\right) C_\\mathrm{R}(t)\\otimes \\exp\\left[-\\alpha \\cdot t\\right].\n",
    "$$"
   ]
  },
  {
   "cell_type": "markdown",
   "id": "04f37273",
   "metadata": {},
   "source": [
    "## Loading An Input Function"
   ]
  },
  {
   "cell_type": "code",
   "execution_count": 9,
   "id": "e0263c49",
   "metadata": {
    "ExecuteTime": {
     "end_time": "2024-04-26T20:14:16.961730Z",
     "start_time": "2024-04-26T20:14:16.959492Z"
    }
   },
   "outputs": [],
   "source": [
    "input_tac_times, input_tac_vals = np.asarray(np.loadtxt(\"../../data/tcm_tacs/fdg_plasma_clamp_evenly_resampled.txt\").T,\n",
    "                                             float)\n",
    "# input_tac_times *= 60.0 #To change time to seconds"
   ]
  },
  {
   "cell_type": "markdown",
   "id": "0380e715",
   "metadata": {},
   "source": [
    "## Generating An Example Reference Region\n",
    "We use a 1TCM with $K_1=1.0$ and $k_2=0.2$."
   ]
  },
  {
   "cell_type": "code",
   "execution_count": 10,
   "id": "1d97e48f",
   "metadata": {
    "ExecuteTime": {
     "end_time": "2024-04-26T20:14:17.298418Z",
     "start_time": "2024-04-26T20:14:16.962507Z"
    }
   },
   "outputs": [],
   "source": [
    "ref_tac_times, ref_tac_vals = pet_tcm.generate_tac_1tcm_c1_from_tac(tac_times=input_tac_times, tac_vals=input_tac_vals,\n",
    "                                                                    k1=1.0, k2=0.2)"
   ]
  },
  {
   "cell_type": "markdown",
   "id": "7559aa6a",
   "metadata": {},
   "source": [
    "### Example SRTM TAC\n",
    "We use $R_1=1.0$, $k_2=0.25$ and $BP=3.0$."
   ]
  },
  {
   "cell_type": "code",
   "execution_count": 11,
   "id": "1eca3b4a",
   "metadata": {
    "ExecuteTime": {
     "end_time": "2024-04-26T20:14:17.300933Z",
     "start_time": "2024-04-26T20:14:17.299330Z"
    }
   },
   "outputs": [],
   "source": [
    "srtm_tac_vals = pet_rtms.calc_srtm_tac(tac_times=ref_tac_times, ref_tac_vals=ref_tac_vals, r1=1.0, k2=0.25, bp=3.0)"
   ]
  },
  {
   "cell_type": "code",
   "execution_count": 12,
   "id": "fd7e9446",
   "metadata": {
    "ExecuteTime": {
     "end_time": "2024-04-26T20:14:17.648819Z",
     "start_time": "2024-04-26T20:14:17.301738Z"
    }
   },
   "outputs": [],
   "source": [
    "myFig, myAx = plt.subplots(1, 2, constrained_layout=True, figsize=[8, 4], sharey=True, dpi=72)\n",
    "for anAx in myAx.flatten():\n",
    "    anAx.plot(input_tac_times, input_tac_vals, '.--', alpha=0.8, color='k', label=r'$C_\\mathrm{P}$ (Scaled)', lw=2)\n",
    "    anAx.plot(ref_tac_times, ref_tac_vals, '.-', alpha=0.8, color='red', label=r'$C_\\mathrm{ref}$')\n",
    "    anAx.plot(ref_tac_times, srtm_tac_vals, '.-', alpha=0.8, color='blue', label=r'$C_\\mathrm{tgt}$')\n",
    "    anAx.set(xlabel=r'$t$ (time) [minutes]')\n",
    "myAx[0].set(ylabel=r'pTAC [$\\mathrm{n Ci / ml}$]', title='Linear')\n",
    "myAx[1].set(xscale='log', title='SemiLog-X')\n",
    "myFig.legend(*myAx[0].get_legend_handles_labels(), bbox_to_anchor=(1.0, 0.5), loc='center left')\n",
    "plt.show()"
   ]
  },
  {
   "cell_type": "markdown",
   "id": "06faa5a5",
   "metadata": {},
   "source": [
    "## Simple Visual Inspection Of Fits"
   ]
  },
  {
   "cell_type": "code",
   "execution_count": 13,
   "id": "29162d0c",
   "metadata": {
    "ExecuteTime": {
     "end_time": "2024-04-26T20:14:17.652551Z",
     "start_time": "2024-04-26T20:14:17.649704Z"
    }
   },
   "outputs": [],
   "source": [
    "srtm_test_params = generate_random_parameter_samples(5, 3, hi=3.0, lo=0.001)\n",
    "srtm_test_params"
   ]
  },
  {
   "cell_type": "markdown",
   "id": "917dd69e",
   "metadata": {},
   "source": [
    "### Plotting Data And Fits Together"
   ]
  },
  {
   "cell_type": "code",
   "execution_count": 14,
   "id": "60c8f98d",
   "metadata": {
    "ExecuteTime": {
     "end_time": "2024-04-26T20:14:18.576199Z",
     "start_time": "2024-04-26T20:14:17.653343Z"
    },
    "scrolled": false
   },
   "outputs": [],
   "source": [
    "stride = 4\n",
    "model_func = pet_rtms.calc_srtm_tac\n",
    "for tID, t_params in enumerate(srtm_test_params[:]):\n",
    "    rtm_tac_vals = model_func(ref_tac_times, *t_params, ref_tac_vals)\n",
    "    if np.min(rtm_tac_vals) < 0:\n",
    "        continue\n",
    "    print('-' * 80)\n",
    "    print(f\"{'Value':<30};{'Diff':<22};{'%Diff':<32}\")\n",
    "    \n",
    "    noisy_tgt_vals = add_gaussian_noise_to_tac_based_on_max(rtm_tac_vals, scale=0.02)\n",
    "    \n",
    "    pOpt, pCor = pet_rtms.fit_srtm_to_tac_with_bounds(tgt_tac_vals=noisy_tgt_vals, tac_times=ref_tac_times,\n",
    "                                                      ref_tac_vals=ref_tac_vals, r1_bounds=(1.0, 0.0001, 10.0),\n",
    "                                                      k2_bounds=(1.0, 0.0001, 10.0), bp_bounds=(1.0, 0.0001, 10.0))\n",
    "    print_arrs(\"Actual\", t_params)\n",
    "    print_arrs(\"pOpt\", *calc_diff(t_params, pOpt))\n",
    "    \n",
    "    myFig, myAx = plt.subplots(1, 2, constrained_layout=True, figsize=[8 / 1.5, 4 / 1.5], sharey=True, linewidth=3.0,\n",
    "                               edgecolor='k')\n",
    "    for anAx in myAx.flatten():\n",
    "        anAx.plot(ref_tac_times[::stride], rtm_tac_vals[::stride], '-', alpha=1.0, color='black', label=r'True TAC',\n",
    "                  lw=2.0, zorder=4)\n",
    "        anAx.plot(ref_tac_times[::stride], noisy_tgt_vals[::stride], 'o', alpha=0.25, color='black', label=r'Noisy TAC')\n",
    "        yAr = model_func(ref_tac_times, *pOpt, ref_tac_vals)\n",
    "        anAx.plot(ref_tac_times[::stride], yAr[::stride], '-', alpha=0.6, color='green', lw=5, label='Fit')\n",
    "    \n",
    "    leg_hands, leg_labs = list(myAx[0].get_legend_handles_labels())\n",
    "    \n",
    "    myAx[0].set(ylabel=r'pTAC [$\\mathrm{n Ci / ml}$]', title='Linear', ylim=(-0.25, None), xlabel='$t$ (time) [secs]')\n",
    "    myAx[1].set(xscale='log', ylim=(-0.0001, None), title='Semi-LogX', xlabel='$t$ (time) [secs]')\n",
    "    \n",
    "    myFig.legend(leg_hands, leg_labs, bbox_to_anchor=(1.0, 0.5), loc='center left')\n",
    "    plt.show()\n"
   ]
  },
  {
   "cell_type": "markdown",
   "id": "95df9fd8",
   "metadata": {},
   "source": [
    "## Generating A Simple Scatter Plot Of Fits vs. Real Values From Many Random Values"
   ]
  },
  {
   "cell_type": "markdown",
   "id": "7fcc3ca0",
   "metadata": {},
   "source": [
    "### Unbounded Fits"
   ]
  },
  {
   "cell_type": "markdown",
   "id": "bf922219",
   "metadata": {},
   "source": [
    "#### Generating Random Samples"
   ]
  },
  {
   "cell_type": "code",
   "execution_count": 15,
   "id": "42dd70c1",
   "metadata": {
    "ExecuteTime": {
     "end_time": "2024-04-26T20:14:28.536502Z",
     "start_time": "2024-04-26T20:14:18.576971Z"
    }
   },
   "outputs": [],
   "source": [
    "num_samples = 5000\n",
    "\n",
    "srtm_test_params_large = generate_random_parameter_samples(num_samples=num_samples, num_params=3, hi=3.0, lo=0.001)\n",
    "srtm_fits_unbounded, srtm_fit_covs_unbounded = calculate_rtm_fits_from_multiple_parameter_samples(\n",
    "    ref_tac_times=ref_tac_times, ref_tac_vals=ref_tac_vals, param_samples=srtm_test_params_large,\n",
    "    model_func=pet_rtms.calc_srtm_tac, fit_func=pet_rtms.fit_srtm_to_tac, noise_scale=0.01)"
   ]
  },
  {
   "cell_type": "markdown",
   "id": "35c94ec8",
   "metadata": {},
   "source": [
    "#### Scatter Plot"
   ]
  },
  {
   "cell_type": "code",
   "execution_count": 16,
   "id": "e075bba7",
   "metadata": {
    "ExecuteTime": {
     "end_time": "2024-04-26T20:14:28.763506Z",
     "start_time": "2024-04-26T20:14:28.537633Z"
    }
   },
   "outputs": [],
   "source": [
    "myFig, myAx = plt.subplots(2, 2, figsize=[8, 8], constrained_layout=True)\n",
    "generate_scatter_with_regression_figure(figObj=myFig, axObj=myAx, fit_values=srtm_fits_unbounded,\n",
    "                                        true_values=srtm_test_params_large,\n",
    "                                        ax_titles=[r'$\\mathbf{R_1}$', r'$\\mathbf{k_2}$', r'$\\mathbf{BP}$'])\n",
    "myAx[-1, -1].axis('off')\n",
    "# myFig.suptitle(\"Unbounded Fits For SRTM Can Perform Very Poorly\", color='darkgreen')\n",
    "plt.show()"
   ]
  },
  {
   "cell_type": "markdown",
   "id": "d32c6cf6",
   "metadata": {},
   "source": [
    "#### Bland-Altman Plot"
   ]
  },
  {
   "cell_type": "code",
   "execution_count": 17,
   "id": "39fecca4",
   "metadata": {
    "ExecuteTime": {
     "end_time": "2024-04-26T20:14:28.985666Z",
     "start_time": "2024-04-26T20:14:28.764342Z"
    }
   },
   "outputs": [],
   "source": [
    "myFig, myAx = plt.subplots(2, 2, figsize=[8, 8], constrained_layout=True, sharex=True, sharey=True)\n",
    "generate_bland_atlman_figure(figObj=myFig, axObj=myAx, fit_values=srtm_fits_unbounded,\n",
    "                             true_values=srtm_test_params_large,\n",
    "                             ax_titles=[r'$\\mathbf{R_1}$', r'$\\mathbf{k_2}$', r'$\\mathbf{BP}$'])\n",
    "myAx[-1, -1].axis('off')\n",
    "plt.show()"
   ]
  },
  {
   "cell_type": "markdown",
   "id": "4b0fafaf",
   "metadata": {},
   "source": [
    "#### Ratio Bland Altman Plot"
   ]
  },
  {
   "cell_type": "code",
   "execution_count": 18,
   "id": "1f65f926",
   "metadata": {
    "ExecuteTime": {
     "end_time": "2024-04-26T20:14:29.260389Z",
     "start_time": "2024-04-26T20:14:28.986562Z"
    }
   },
   "outputs": [],
   "source": [
    "myFig, myAx = plt.subplots(2, 2, figsize=[8, 8], constrained_layout=True, sharex=True, sharey=True)\n",
    "generate_ratio_bland_atlman_figure(figObj=myFig, axObj=myAx, fit_values=srtm_fits_unbounded,\n",
    "                                   true_values=srtm_test_params_large,\n",
    "                                   ax_titles=[r'$\\mathbf{R_1}$', r'$\\mathbf{k_2}$', r'$\\mathbf{BP}$'])\n",
    "myAx[-1, -1].axis('off')\n",
    "plt.show()"
   ]
  },
  {
   "cell_type": "markdown",
   "id": "031a0dfa",
   "metadata": {},
   "source": [
    "### Bounded Fits"
   ]
  },
  {
   "cell_type": "markdown",
   "id": "50c83d2a",
   "metadata": {},
   "source": [
    "#### Generating Random Samples"
   ]
  },
  {
   "cell_type": "code",
   "execution_count": 19,
   "id": "b3fee1ce",
   "metadata": {
    "ExecuteTime": {
     "end_time": "2024-04-26T20:14:46.189768Z",
     "start_time": "2024-04-26T20:14:29.261541Z"
    }
   },
   "outputs": [],
   "source": [
    "srtm_fits_bounded, srtm_fit_covs_bounded = calculate_bounded_rtm_fits_from_multiple_parameter_samples(\n",
    "    ref_tac_times=ref_tac_times, ref_tac_vals=ref_tac_vals, param_samples=srtm_test_params_large,\n",
    "    model_func=pet_rtms.calc_srtm_tac, fit_func=pet_rtms.fit_srtm_to_tac_with_bounds, noise_scale=0.01, start=0.5,\n",
    "    hi=4.0, lo=0.0)"
   ]
  },
  {
   "cell_type": "markdown",
   "id": "cc21c6f3",
   "metadata": {},
   "source": [
    "#### Scatter Plot"
   ]
  },
  {
   "cell_type": "code",
   "execution_count": 20,
   "id": "69ca2ba4",
   "metadata": {
    "ExecuteTime": {
     "end_time": "2024-04-26T20:14:46.403645Z",
     "start_time": "2024-04-26T20:14:46.190844Z"
    }
   },
   "outputs": [],
   "source": [
    "myFig, myAx = plt.subplots(2, 2, figsize=[8, 8], constrained_layout=True)\n",
    "generate_scatter_with_regression_figure(figObj=myFig, axObj=myAx, fit_values=srtm_fits_bounded,\n",
    "                                        true_values=srtm_test_params_large,\n",
    "                                        ax_titles=[r'$\\mathbf{R_1}$', r'$\\mathbf{k_2}$', r'$\\mathbf{BP}$'])\n",
    "myAx[-1, -1].axis('off')\n",
    "# myFig.suptitle(\"Bounded Fits For SRTM Fit $R_1$ And $\\mathrm{BP}$ Better Than $k_2$\", color='darkgreen')\n",
    "plt.show()"
   ]
  },
  {
   "cell_type": "markdown",
   "id": "7756d7b9",
   "metadata": {},
   "source": [
    "#### Bland-Altman Plot"
   ]
  },
  {
   "cell_type": "code",
   "execution_count": 21,
   "id": "e2ef7394",
   "metadata": {
    "ExecuteTime": {
     "end_time": "2024-04-26T20:14:46.621764Z",
     "start_time": "2024-04-26T20:14:46.405223Z"
    }
   },
   "outputs": [],
   "source": [
    "myFig, myAx = plt.subplots(2, 2, figsize=[8, 8], constrained_layout=True, sharex=True, sharey=True)\n",
    "generate_bland_atlman_figure(figObj=myFig, axObj=myAx, fit_values=srtm_fits_bounded, true_values=srtm_test_params_large,\n",
    "                             ax_titles=[r'$\\mathbf{R_1}$', r'$\\mathbf{k_2}$', r'$\\mathbf{BP}$'])\n",
    "myAx[-1, -1].axis('off')\n",
    "plt.show()"
   ]
  },
  {
   "cell_type": "markdown",
   "id": "50c8ccc9",
   "metadata": {},
   "source": [
    "#### Ratio Bland Altman Plot"
   ]
  },
  {
   "cell_type": "code",
   "execution_count": 22,
   "id": "910d8cc3",
   "metadata": {
    "ExecuteTime": {
     "end_time": "2024-04-26T20:14:46.834817Z",
     "start_time": "2024-04-26T20:14:46.622623Z"
    }
   },
   "outputs": [],
   "source": [
    "myFig, myAx = plt.subplots(2, 2, figsize=[8, 8], constrained_layout=True, sharex=True, sharey=True)\n",
    "generate_ratio_bland_atlman_figure(figObj=myFig, axObj=myAx, fit_values=srtm_fits_bounded,\n",
    "                                   true_values=srtm_test_params_large,\n",
    "                                   ax_titles=[r'$\\mathbf{R_1}$', r'$\\mathbf{k_2}$', r'$\\mathbf{BP}$'])\n",
    "myAx[-1, -1].axis('off')\n",
    "plt.show()"
   ]
  },
  {
   "cell_type": "markdown",
   "id": "c443c8c1",
   "metadata": {},
   "source": [
    "# Full Reference Tissue Model (FRTM)"
   ]
  },
  {
   "cell_type": "markdown",
   "id": "697d58e6",
   "metadata": {},
   "source": [
    "Given, $R_{1}\\equiv \\frac{k_{1}^{\\prime}}{k_{1}^{\\prime}}$, the analytical solution for the FRTM, as a function of some reference region TAC, $C_\\mathrm{R}(t)$, can be written as:\n",
    "$$\n",
    "C(t) = R_{1}C_\\mathrm{R}(t) + \\left[ A_{1}e^{-\\alpha_{1}t} + A_{2}e^{-\\alpha_{2}t} \\right] \\otimes C_\\mathrm{R}(t),\n",
    "$$\n",
    "where the $\\alpha_1$, $\\alpha_2$, $A_1$, and $A_2$ depend on the underlying kinetic constants $k_2$, $k_3$, $k_4$, along with the predefined $R_1$, as:\n",
    "$$\n",
    "\\begin{align}\n",
    "\\alpha_{1} &= \\frac{k_{2} + k_{3} + k_{4} - \\sqrt{\\left( k_{2} + k_{3} + k_{4} \\right)^2 - 4k_{2}k_{4}}}{2}\\\\\n",
    "\\alpha_{2} &= \\frac{k_{2} + k_{3} + k_{4} + \\sqrt{\\left( k_{2} + k_{3} + k_{4} \\right)^2 - 4k_{2}k_{4}}}{2}\\\\\n",
    "A_{1} &= \\left( \\frac{k_{3} + k_{4} -\\alpha_{2}}{\\alpha_{1} - \\alpha_{2}} \\right)\\left( \\frac{k_{2}}{R_{1}} - \\alpha_{2} \\right)\\\\\n",
    "A_{2} &= \\left(  \\frac{\\alpha_{1}-k_{3} - k_{4} }{\\alpha_{1} - \\alpha_{2}} \\right)\\left( \\frac{k_{2}}{R_{1}} - \\alpha_{1} \\right)\n",
    "\\end{align}\n",
    "$$\n",
    "Here, we can define $\\beta\\equiv k_{2} + k_{3} +k_{4}$, and $\\chi\\equiv\\sqrt{\\beta^2 - 4k_{2}k_{4}}$ to make the $\\alpha$'s more compact:\n",
    "$$\n",
    "\\begin{align}\n",
    "\\alpha_{1} &= \\frac{\\beta - \\chi}{2}\\\\\n",
    "\\alpha_{2} &= \\frac{\\beta + \\chi}{2}\\\\\n",
    "A_{1} &= \\left(\\frac{k_{3} + k_{4} -\\alpha_{2}}{\\chi} \\right)\\left( \\frac{k_{2}}{R_{1}} - \\alpha_{2} \\right)\\\\\n",
    "A_{2} &= \\left(\\frac{\\alpha_{1}-k_{3} - k_{4} }{\\chi} \\right)\\left( \\frac{k_{2}}{R_{1}} - \\alpha_{1} \\right)\n",
    "\\end{align}\n",
    "$$\n"
   ]
  },
  {
   "cell_type": "markdown",
   "id": "5f65f270",
   "metadata": {},
   "source": [
    "## Generating An Example Reference Region\n",
    "We use a 1TCM with $K_1=1.0$ and $k_2=0.1$."
   ]
  },
  {
   "cell_type": "code",
   "execution_count": 23,
   "id": "6a27db1c",
   "metadata": {
    "ExecuteTime": {
     "end_time": "2024-04-26T20:14:46.838010Z",
     "start_time": "2024-04-26T20:14:46.835685Z"
    }
   },
   "outputs": [],
   "source": [
    "ref_tac_times, ref_tac_vals = pet_tcm.generate_tac_1tcm_c1_from_tac(tac_times=input_tac_times, tac_vals=input_tac_vals,\n",
    "                                                                    k1=1.0, k2=0.1)"
   ]
  },
  {
   "cell_type": "markdown",
   "id": "7eb0843e",
   "metadata": {},
   "source": [
    "### Example FRTM TAC\n",
    "We use $R_1=0.5$, $k_2=0.01$, $k_3=0.3$ and $k_4=0.01$."
   ]
  },
  {
   "cell_type": "code",
   "execution_count": 24,
   "id": "3ae13382",
   "metadata": {
    "ExecuteTime": {
     "end_time": "2024-04-26T20:14:46.840766Z",
     "start_time": "2024-04-26T20:14:46.838740Z"
    }
   },
   "outputs": [],
   "source": [
    "frtm_test_params = np.asarray((0.5, 0.01, 0.3, 0.01))\n",
    "frtm_tac_vals = pet_rtms.calc_frtm_tac(tac_times=ref_tac_times, ref_tac_vals=ref_tac_vals, r1=0.5, k2=0.01, k3=0.3,\n",
    "                                       k4=0.01)\n"
   ]
  },
  {
   "cell_type": "code",
   "execution_count": 25,
   "id": "165b3215",
   "metadata": {
    "ExecuteTime": {
     "end_time": "2024-04-26T20:14:47.047316Z",
     "start_time": "2024-04-26T20:14:46.841396Z"
    }
   },
   "outputs": [],
   "source": [
    "myFig, myAx = plt.subplots(1, 2, constrained_layout=True, figsize=[8, 4], sharey=True)\n",
    "for anAx in myAx.flatten():\n",
    "    anAx.plot(input_tac_times, input_tac_vals / 50., '.--', alpha=0.8, color='k', label=r'$C_\\mathrm{P}$', lw=2)\n",
    "    anAx.plot(ref_tac_times, ref_tac_vals, '.-', alpha=0.8, color='red', label=r'$C_\\mathrm{ref}$')\n",
    "    anAx.plot(ref_tac_times, frtm_tac_vals, '.-', alpha=0.8, color='blue', label=r'$C_\\mathrm{tgt}$')\n",
    "    anAx.set(xlabel=r'$t$ (time) [minutes]')\n",
    "myAx[0].set(ylabel=r'pTAC [$\\mathrm{n Ci / ml}$]', title='Linear')\n",
    "myAx[1].set(xscale='log', title='SemiLog-X')\n",
    "myFig.legend(*myAx[0].get_legend_handles_labels(), bbox_to_anchor=(1.0, 0.5), loc='center left')\n",
    "plt.show()"
   ]
  },
  {
   "cell_type": "markdown",
   "id": "91b3d817",
   "metadata": {},
   "source": [
    "## Simple Visual Inspection Of Fits"
   ]
  },
  {
   "cell_type": "markdown",
   "id": "8227f830",
   "metadata": {},
   "source": [
    "### Generating Ramdom Samples For The Parameters"
   ]
  },
  {
   "cell_type": "code",
   "execution_count": 26,
   "id": "7838a357",
   "metadata": {
    "ExecuteTime": {
     "end_time": "2024-04-26T20:14:47.051011Z",
     "start_time": "2024-04-26T20:14:47.048133Z"
    }
   },
   "outputs": [],
   "source": [
    "frtm_test_params = generate_random_parameter_samples(num_samples=5, num_params=4, hi=5.0, lo=0.001)\n",
    "frtm_test_params"
   ]
  },
  {
   "cell_type": "markdown",
   "id": "31844cc6",
   "metadata": {},
   "source": [
    "### Plotting Data And Fits Together"
   ]
  },
  {
   "cell_type": "code",
   "execution_count": 27,
   "id": "ab797408",
   "metadata": {
    "ExecuteTime": {
     "end_time": "2024-04-26T20:14:48.030080Z",
     "start_time": "2024-04-26T20:14:47.054822Z"
    },
    "scrolled": false
   },
   "outputs": [],
   "source": [
    "stride = 4  # To reduce the number of shown points for clarity\n",
    "model_func = pet_rtms.calc_frtm_tac\n",
    "for tID, t_params in enumerate(frtm_test_params[:]):\n",
    "    rtm_tac_vals = model_func(ref_tac_times, *t_params, ref_tac_vals)\n",
    "    if np.min(rtm_tac_vals) < 0:\n",
    "        continue\n",
    "    print('-' * 80)\n",
    "    print(f\"{'Value':<37};{'Diff':<29};{'%Diff':<32}\")\n",
    "    \n",
    "    noisy_tgt_vals = add_gaussian_noise_to_tac_based_on_max(rtm_tac_vals, scale=0.02)\n",
    "    \n",
    "    pOpt, pCor = pet_rtms.fit_frtm_to_tac_with_bounds(tgt_tac_vals=noisy_tgt_vals, tac_times=ref_tac_times,\n",
    "                                                      ref_tac_vals=ref_tac_vals, r1_bounds=(1.0, 0.0001, 6.0),\n",
    "                                                      k2_bounds=(1.0, 0.0001, 6.0), k3_bounds=(1.0, 0.0001, 6.0),\n",
    "                                                      k4_bounds=(1.0, 0.0001, 6.0))\n",
    "    print_arrs(\"Actual\", t_params)\n",
    "    print_arrs(\"pOpt\", *calc_diff(t_params, pOpt))\n",
    "    \n",
    "    myFig, myAx = plt.subplots(1, 2, constrained_layout=True, figsize=[8 / 1.5, 4 / 1.5], sharey=True, linewidth=3.0,\n",
    "                               edgecolor='k')\n",
    "    for anAx in myAx.flatten():\n",
    "        anAx.plot(ref_tac_times[::stride], rtm_tac_vals[::stride], '-', alpha=1.0, color='black', label=r'True TAC',\n",
    "                  lw=2.0, zorder=4)\n",
    "        anAx.plot(ref_tac_times[::stride], noisy_tgt_vals[::stride], 'o', alpha=0.25, color='black', label=r'Noisy TAC')\n",
    "        yAr = model_func(ref_tac_times, *pOpt, ref_tac_vals)\n",
    "        anAx.plot(ref_tac_times[::stride], yAr[::stride], '-', alpha=0.6, color='green', lw=5, label='Fit')\n",
    "    \n",
    "    leg_hands, leg_labs = list(myAx[0].get_legend_handles_labels())\n",
    "    \n",
    "    myAx[0].set(ylabel=r'pTAC [$\\mathrm{n Ci / ml}$]', title='Linear', ylim=(-0.25, None), xlabel='$t$ (time) [secs]')\n",
    "    myAx[1].set(xscale='log', ylim=(-0.0001, None), title='Semi-LogX', xlabel='$t$ (time) [secs]')\n",
    "    \n",
    "    myFig.legend(leg_hands, leg_labs, bbox_to_anchor=(1.0, 0.5), loc='center left')\n",
    "    plt.show()\n"
   ]
  },
  {
   "cell_type": "markdown",
   "id": "5acd36fe",
   "metadata": {},
   "source": [
    "## Generating A Simple Scatter Plot Of Fits vs. Real Values From Many Random Values"
   ]
  },
  {
   "cell_type": "markdown",
   "id": "166f7439",
   "metadata": {},
   "source": [
    "### Unbounded Fits"
   ]
  },
  {
   "cell_type": "markdown",
   "id": "50ebd710",
   "metadata": {},
   "source": [
    "#### Generating Random Samples"
   ]
  },
  {
   "cell_type": "code",
   "execution_count": 28,
   "id": "694ffb5a",
   "metadata": {
    "ExecuteTime": {
     "end_time": "2024-04-26T20:14:48.032748Z",
     "start_time": "2024-04-26T20:14:48.030884Z"
    }
   },
   "outputs": [],
   "source": [
    "frtm_test_params_large = generate_random_parameter_samples(num_samples=100, num_params=4, hi=3.0, lo=0.01)"
   ]
  },
  {
   "cell_type": "code",
   "execution_count": 29,
   "id": "6d702b0b",
   "metadata": {
    "ExecuteTime": {
     "end_time": "2024-04-26T20:15:38.386319Z",
     "start_time": "2024-04-26T20:14:48.033420Z"
    }
   },
   "outputs": [],
   "source": [
    "num_samples = 5000\n",
    "\n",
    "frtm_test_params_large = generate_random_parameter_samples(num_samples=num_samples, num_params=4, hi=3.0, lo=0.001)\n",
    "frtm_fits_unbounded, frtm_fit_covs_unbounded = calculate_rtm_fits_from_multiple_parameter_samples(\n",
    "    ref_tac_times=ref_tac_times, ref_tac_vals=ref_tac_vals, param_samples=frtm_test_params_large,\n",
    "    model_func=pet_rtms.calc_frtm_tac, fit_func=pet_rtms.fit_frtm_to_tac, noise_scale=0.01)"
   ]
  },
  {
   "cell_type": "markdown",
   "id": "fdfe06cc",
   "metadata": {},
   "source": [
    "#### Scatter Plot"
   ]
  },
  {
   "cell_type": "code",
   "execution_count": 30,
   "id": "f0af3243",
   "metadata": {
    "ExecuteTime": {
     "end_time": "2024-04-26T20:15:38.652291Z",
     "start_time": "2024-04-26T20:15:38.387209Z"
    }
   },
   "outputs": [],
   "source": [
    "myFig, myAx = plt.subplots(2, 2, figsize=[8, 8], constrained_layout=True)\n",
    "generate_scatter_with_regression_figure(figObj=myFig, axObj=myAx, fit_values=frtm_fits_unbounded,\n",
    "                                        true_values=frtm_test_params_large,\n",
    "                                        ax_titles=[r'$\\mathbf{R_1}$', r'$\\mathbf{k_2}$', r'$\\mathbf{k_3}$',\n",
    "                                                   r'$\\mathbf{k_4}$'])\n",
    "# myFig.suptitle(\"Unbounded Fits For SRTM Can Perform Very Poorly\", color='darkgreen')\n",
    "plt.show()"
   ]
  },
  {
   "cell_type": "markdown",
   "id": "01a090a3",
   "metadata": {},
   "source": [
    "#### Bland-Altman Plot"
   ]
  },
  {
   "cell_type": "code",
   "execution_count": 31,
   "id": "17974035",
   "metadata": {
    "ExecuteTime": {
     "end_time": "2024-04-26T20:15:38.961739Z",
     "start_time": "2024-04-26T20:15:38.653160Z"
    }
   },
   "outputs": [],
   "source": [
    "myFig, myAx = plt.subplots(2, 2, figsize=[8, 8], constrained_layout=True, sharex=True, sharey=True)\n",
    "generate_bland_atlman_figure(figObj=myFig, axObj=myAx, fit_values=frtm_fits_unbounded,\n",
    "                             true_values=frtm_test_params_large,\n",
    "                             ax_titles=[r'$\\mathbf{R_1}$', r'$\\mathbf{k_2}$', r'$\\mathbf{k_3}$', r'$\\mathbf{k_4}$'])\n",
    "plt.show()"
   ]
  },
  {
   "cell_type": "markdown",
   "id": "18355b95",
   "metadata": {},
   "source": [
    "#### Ratio Bland Altman Plot"
   ]
  },
  {
   "cell_type": "code",
   "execution_count": 32,
   "id": "7c07160e",
   "metadata": {
    "ExecuteTime": {
     "end_time": "2024-04-26T20:15:39.238560Z",
     "start_time": "2024-04-26T20:15:38.962589Z"
    }
   },
   "outputs": [],
   "source": [
    "myFig, myAx = plt.subplots(2, 2, figsize=[8, 8], constrained_layout=True, sharex=True, sharey=True)\n",
    "generate_ratio_bland_atlman_figure(figObj=myFig, axObj=myAx, fit_values=frtm_fits_unbounded,\n",
    "                                   true_values=frtm_test_params_large,\n",
    "                                   ax_titles=[r'$\\mathbf{R_1}$', r'$\\mathbf{k_2}$', r'$\\mathbf{k_3}$',\n",
    "                                              r'$\\mathbf{k_4}$'])\n",
    "plt.show()"
   ]
  },
  {
   "cell_type": "markdown",
   "id": "b4018997",
   "metadata": {},
   "source": [
    "### Bounded Fits"
   ]
  },
  {
   "cell_type": "markdown",
   "id": "5ac509ef",
   "metadata": {},
   "source": [
    "#### Fitting The Random Samples"
   ]
  },
  {
   "cell_type": "code",
   "execution_count": 33,
   "id": "82a6a871",
   "metadata": {
    "ExecuteTime": {
     "end_time": "2024-04-26T20:16:55.961787Z",
     "start_time": "2024-04-26T20:15:39.239848Z"
    }
   },
   "outputs": [],
   "source": [
    "frtm_fits_bounded, frtm_fit_covs_bounded = calculate_bounded_rtm_fits_from_multiple_parameter_samples(\n",
    "        ref_tac_times=ref_tac_times, ref_tac_vals=ref_tac_vals, param_samples=frtm_test_params_large,\n",
    "        model_func=pet_rtms.calc_frtm_tac, fit_func=pet_rtms.fit_frtm_to_tac_with_bounds, noise_scale=0.01, start=0.5,\n",
    "        hi=5.0, lo=0.0)"
   ]
  },
  {
   "cell_type": "markdown",
   "id": "29f775db",
   "metadata": {},
   "source": [
    "#### Scatter Plot"
   ]
  },
  {
   "cell_type": "code",
   "execution_count": 34,
   "id": "3789d88e",
   "metadata": {
    "ExecuteTime": {
     "end_time": "2024-04-26T20:16:56.266017Z",
     "start_time": "2024-04-26T20:16:55.962669Z"
    },
    "scrolled": false
   },
   "outputs": [],
   "source": [
    "myFig, myAx = plt.subplots(2, 2, figsize=[8, 8], constrained_layout=True)\n",
    "generate_scatter_with_regression_figure(figObj=myFig, axObj=myAx, fit_values=frtm_fits_bounded,\n",
    "                                        true_values=frtm_test_params_large,\n",
    "                                        ax_titles=[r'$\\mathbf{R_1}$', r'$\\mathbf{k_2}$', r'$\\mathbf{k_3}$',\n",
    "                                                   r'$\\mathbf{k_4}$'])\n",
    "# myFig.suptitle(\"Unbounded Fits For SRTM Can Perform Very Poorly\", color='darkgreen')\n",
    "plt.show()"
   ]
  },
  {
   "cell_type": "markdown",
   "id": "da5b4aac",
   "metadata": {},
   "source": [
    "#### Bland-Altman Plot"
   ]
  },
  {
   "cell_type": "code",
   "execution_count": 35,
   "id": "3f23073f",
   "metadata": {
    "ExecuteTime": {
     "end_time": "2024-04-26T20:16:56.536414Z",
     "start_time": "2024-04-26T20:16:56.267771Z"
    }
   },
   "outputs": [],
   "source": [
    "myFig, myAx = plt.subplots(2, 2, figsize=[8, 8], constrained_layout=True, sharex=True, sharey=True)\n",
    "generate_bland_atlman_figure(figObj=myFig, axObj=myAx, fit_values=frtm_fits_bounded, true_values=frtm_test_params_large,\n",
    "                             ax_titles=[r'$\\mathbf{R_1}$', r'$\\mathbf{k_2}$', r'$\\mathbf{k_3}$', r'$\\mathbf{k_4}$'])\n",
    "plt.show()"
   ]
  },
  {
   "cell_type": "markdown",
   "id": "aa3f11df",
   "metadata": {},
   "source": [
    "#### Ratio Bland Altman Plot"
   ]
  },
  {
   "cell_type": "code",
   "execution_count": 36,
   "id": "afd002d0",
   "metadata": {
    "ExecuteTime": {
     "end_time": "2024-04-26T20:16:56.795495Z",
     "start_time": "2024-04-26T20:16:56.537371Z"
    }
   },
   "outputs": [],
   "source": [
    "myFig, myAx = plt.subplots(2, 2, figsize=[8, 8], constrained_layout=True, sharex=True, sharey=True)\n",
    "generate_ratio_bland_atlman_figure(figObj=myFig, axObj=myAx, fit_values=frtm_fits_bounded,\n",
    "                                   true_values=frtm_test_params_large,\n",
    "                                   ax_titles=[r'$\\mathbf{R_1}$', r'$\\mathbf{k_2}$', r'$\\mathbf{k_3}$',\n",
    "                                              r'$\\mathbf{k_4}$'])\n",
    "plt.show()"
   ]
  },
  {
   "cell_type": "code",
   "execution_count": null,
   "id": "abe99c83",
   "metadata": {},
   "outputs": [],
   "source": []
  }
 ],
 "metadata": {
  "kernelspec": {
   "display_name": "Python 3 (ipykernel)",
   "language": "python",
   "name": "python3"
  },
  "language_info": {
   "codemirror_mode": {
    "name": "ipython",
    "version": 3
   },
   "file_extension": ".py",
   "mimetype": "text/x-python",
   "name": "python",
   "nbconvert_exporter": "python",
   "pygments_lexer": "ipython3",
   "version": "3.9.6"
  },
  "toc": {
   "base_numbering": 1,
   "nav_menu": {},
   "number_sections": true,
   "sideBar": false,
   "skip_h1_title": false,
   "title_cell": "Table of Contents",
   "title_sidebar": "Contents",
   "toc_cell": false,
   "toc_position": {
    "height": "755px",
    "left": "104px",
    "top": "112.562px",
    "width": "591px"
   },
   "toc_section_display": true,
   "toc_window_display": true
  }
 },
 "nbformat": 4,
 "nbformat_minor": 5
}
