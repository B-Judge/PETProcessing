{
 "cells": [
  {
   "cell_type": "code",
   "execution_count": 1,
   "metadata": {},
   "source": "from petpal.preproc import image_operations_4d",
   "outputs": []
  },
  {
   "cell_type": "markdown",
   "metadata": {},
   "source": [
    "# PET Preprocessing with PPM\n",
    "\n",
    "This is a brief tutorial on how to run preprocessing on PET data using the PPM software. Preprocessing includes motion correction, registration, regional TAC extraction, and other tools.\n",
    "\n",
    "The first step is identifying the input data to be used. This tutorial will use raw PET data, anatomical data in the form of an MPRAGE, segmentation from FreeSurfer in the same space as the MPRAGE, a color table defining regions to extract TACs from (see the 'shared' folder for an example), and the radioisotope half life in seconds."
   ]
  },
  {
   "cell_type": "code",
   "execution_count": 2,
   "metadata": {},
   "source": [
    "pet = '/export/scratch1/test-PPM/source_data/sub-001_pet-f18.nii.gz'\n",
    "anat = '/export/scratch1/test-PPM/source_data/sub-001_anat.nii.gz'\n",
    "seg = '/export/scratch1/test-PPM/source_data/sub-001_seg.nii.gz'\n",
    "ctab = '/export/scratch1/test-PPM/source_data/gtmseg_ctab.json'\n",
    "half_life = 6586.26"
   ],
   "outputs": []
  },
  {
   "cell_type": "markdown",
   "metadata": {},
   "source": [
    "Next, we'll identify where we want to save processed results."
   ]
  },
  {
   "cell_type": "code",
   "execution_count": 3,
   "metadata": {},
   "source": [
    "sum_image = '/export/scratch1/test-PPM/analysis/sub-001_pet-sum.nii.gz'\n",
    "moco = '/export/scratch1/test-PPM/analysis/sub-001_pet-moco.nii.gz'\n",
    "reg = '/export/scratch1/test-PPM/analysis/sub-001_pet-reg.nii.gz'\n",
    "seg_resampled = '/export/scratch1/test-PPM/analysis/sub-001_seg-res.nii.gz'\n",
    "tacs = '/export/scratch1/test-PPM/analysis/sub-001_tacs'"
   ],
   "outputs": []
  },
  {
   "cell_type": "markdown",
   "metadata": {},
   "source": [
    "The first method we'll use is `weighted_series_sum`, which computes a PET image averaged over time, weighted by frame length: "
   ]
  },
  {
   "cell_type": "code",
   "execution_count": 4,
   "metadata": {},
   "source": [
    "image_operations_4d.weighted_series_sum(\n",
    "    input_image_4d_path=pet,\n",
    "    out_image_path=sum_image,\n",
    "    half_life=half_life,\n",
    "    verbose=True\n",
    ")"
   ],
   "outputs": []
  },
  {
   "cell_type": "markdown",
   "metadata": {},
   "source": [
    "This can be used as a reference for motion correction, which is performed next. If desired, any other 3D NIfTI image file can be used as a reference, such as last frame, the average of the first 10 frames, etc."
   ]
  },
  {
   "cell_type": "code",
   "execution_count": 5,
   "metadata": {},
   "source": [
    "image_operations_4d.motion_correction(\n",
    "    input_image_4d_path=pet,\n",
    "    reference_image_path=sum_image,\n",
    "    out_image_path=moco,\n",
    "    verbose=True\n",
    ")"
   ],
   "outputs": []
  },
  {
   "cell_type": "markdown",
   "metadata": {},
   "source": [
    "Now we'll want to register the motion corrected PET image to MPRAGE space. If we instead wish to use the raw PET image, and do the registration without motion correction, we would substitute `moco` with `pet` for the `input_reg_image_path` option. Likewise, the `input_calc_image_path` option can be set to any 3D image in PET space that acts as a reference for the PET data for the purpose of computing the registration."
   ]
  },
  {
   "cell_type": "code",
   "execution_count": 6,
   "metadata": {},
   "source": [
    "image_operations_4d.register_pet(\n",
    "    input_calc_image_path=sum_image,\n",
    "    input_reg_image_path=moco,\n",
    "    reference_image_path=anat,\n",
    "    out_image_path=reg,\n",
    "    verbose=True\n",
    ")"
   ],
   "outputs": []
  },
  {
   "cell_type": "markdown",
   "metadata": {},
   "source": [
    "With the PET registered to anatomical space, we can extract TACs for each region in the segmentation file. `register_pet` will resample the PET data to the resolution of the anatomical image, and thus also the segmentation image, however in case the segmentation data should be downsampled to the PET resolution, method `resample_segmentation` can do just this:"
   ]
  },
  {
   "cell_type": "code",
   "execution_count": null,
   "metadata": {},
   "source": [
    "image_operations_4d.resample_segmentation(\n",
    "    input_image_4d_path=reg,\n",
    "    segmentation_image_path=seg,\n",
    "    out_seg_path=seg_resampled,\n",
    "    verbose=True\n",
    ")"
   ],
   "outputs": []
  },
  {
   "cell_type": "markdown",
   "metadata": {},
   "source": [
    "Finally, we can run `write_tacs` to extract TACs from regions in the segmentation image. The regions that are written to file are taken from the file referenced in the `color_table_path`, which is a .json file listing region indices in the segmentation image and their corresponding region names. The written TAC files record the region name when written to file."
   ]
  },
  {
   "cell_type": "code",
   "execution_count": 9,
   "metadata": {},
   "source": [
    "image_operations_4d.write_tacs(\n",
    "    input_image_4d_path=reg,\n",
    "    color_table_path=ctab,\n",
    "    segmentation_image_path=seg,\n",
    "    out_tac_path=tacs,\n",
    "    verbose=True\n",
    ")"
   ],
   "outputs": []
  },
  {
   "cell_type": "code",
   "execution_count": null,
   "metadata": {},
   "source": [],
   "outputs": []
  }
 ],
 "metadata": {
  "kernelspec": {
   "display_name": "Python 3",
   "language": "python",
   "name": "python3"
  },
  "language_info": {
   "codemirror_mode": {
    "name": "ipython",
    "version": 3
   },
   "file_extension": ".py",
   "mimetype": "text/x-python",
   "name": "python",
   "nbconvert_exporter": "python",
   "pygments_lexer": "ipython3",
   "version": "3.9.18"
  }
 },
 "nbformat": 4,
 "nbformat_minor": 2
}
